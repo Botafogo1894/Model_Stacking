{
 "cells": [
  {
   "cell_type": "markdown",
   "metadata": {},
   "source": [
    "### Import all necessary libraries"
   ]
  },
  {
   "cell_type": "code",
   "execution_count": 2,
   "metadata": {},
   "outputs": [
    {
     "name": "stdout",
     "output_type": "stream",
     "text": [
      "[nltk_data] Downloading package wordnet to\n",
      "[nltk_data]     /Users/flatironschool/nltk_data...\n",
      "[nltk_data]   Package wordnet is already up-to-date!\n",
      "[nltk_data] Downloading package words to\n",
      "[nltk_data]     /Users/flatironschool/nltk_data...\n",
      "[nltk_data]   Package words is already up-to-date!\n"
     ]
    }
   ],
   "source": [
    "#!pip install seaborn\n",
    "import pandas as pd\n",
    "import seaborn as sns\n",
    "import numpy as np\n",
    "import matplotlib.pyplot as plt\n",
    "%matplotlib inline\n",
    "import nltk\n",
    "import sklearn\n",
    "import nltk.collocations \n",
    "from nltk import FreqDist, word_tokenize\n",
    "from sklearn.feature_extraction.text import TfidfVectorizer\n",
    "from sklearn.feature_extraction.text import CountVectorizer, TfidfTransformer\n",
    "from sklearn.metrics import accuracy_score\n",
    "from sklearn.model_selection import GridSearchCV\n",
    "import string, re\n",
    "import urllib\n",
    "from sklearn.model_selection import train_test_split\n",
    "from sklearn.metrics import accuracy_score, confusion_matrix, classification_report\n",
    "from sklearn.ensemble import RandomForestClassifier\n",
    "import xgboost as xgb\n",
    "#nltk.download('punkt')\n",
    "#nltk.download('stopwords')\n",
    "nltk.download('wordnet')\n",
    "nltk.download('words')\n",
    "from nltk.stem import WordNetLemmatizer\n",
    "from nltk.stem.snowball import SnowballStemmer\n",
    "from nltk.corpus import stopwords\n",
    "from sklearn.decomposition import PCA\n",
    "from sklearn.naive_bayes import MultinomialNB, GaussianNB\n",
    "from sklearn.model_selection import cross_val_score\n",
    "from sklearn import svm\n",
    "from sklearn.pipeline import Pipeline\n",
    "from sklearn.decomposition import PCA\n",
    "from sklearn.ensemble import AdaBoostClassifier, GradientBoostingClassifier\n",
    "from sklearn.neighbors import KNeighborsClassifier\n"
   ]
  },
  {
   "cell_type": "markdown",
   "metadata": {},
   "source": [
    "### Read CSV Data"
   ]
  },
  {
   "cell_type": "code",
   "execution_count": 3,
   "metadata": {},
   "outputs": [],
   "source": [
    "song_list = pd.read_csv('380lyrics.csv')"
   ]
  },
  {
   "cell_type": "markdown",
   "metadata": {},
   "source": [
    "### Remove Rows with Other and Not Available Genre"
   ]
  },
  {
   "cell_type": "code",
   "execution_count": 42,
   "metadata": {},
   "outputs": [
    {
     "data": {
      "text/plain": [
       "Rock             131377\n",
       "Pop               49444\n",
       "Hip-Hop           33965\n",
       "Not Available     29814\n",
       "Metal             28408\n",
       "Other             23683\n",
       "Country           17286\n",
       "Jazz              17147\n",
       "Electronic        16205\n",
       "R&B                5935\n",
       "Indie              5732\n",
       "Folk               3241\n",
       "Name: genre, dtype: int64"
      ]
     },
     "execution_count": 42,
     "metadata": {},
     "output_type": "execute_result"
    }
   ],
   "source": [
    "song_list.genre.value_counts()"
   ]
  },
  {
   "cell_type": "code",
   "execution_count": 43,
   "metadata": {},
   "outputs": [
    {
     "data": {
      "text/plain": [
       "(299523, 6)"
      ]
     },
     "execution_count": 43,
     "metadata": {},
     "output_type": "execute_result"
    }
   ],
   "source": [
    "song_list.drop(song_list[song_list.genre == \"Other\"].index, inplace = True)\n",
    "song_list.drop(song_list[song_list.genre == \"Not Available\"].index, inplace = True)\n",
    "song_list.drop(song_list[song_list.genre == \"Indie\"].index, inplace = True)\n",
    "song_list.drop(song_list[song_list.genre == \"Folk\"].index, inplace = True)\n",
    "song_list.drop(song_list[song_list.artist == \"dolcenera\"].index, inplace = True)\n",
    "song_list.drop(song_list[song_list.artist == \"brthhse-onkelz\"].index, inplace = True)\n",
    "song_list.shape"
   ]
  },
  {
   "cell_type": "code",
   "execution_count": 44,
   "metadata": {},
   "outputs": [
    {
     "data": {
      "text/html": [
       "<div>\n",
       "<style scoped>\n",
       "    .dataframe tbody tr th:only-of-type {\n",
       "        vertical-align: middle;\n",
       "    }\n",
       "\n",
       "    .dataframe tbody tr th {\n",
       "        vertical-align: top;\n",
       "    }\n",
       "\n",
       "    .dataframe thead th {\n",
       "        text-align: right;\n",
       "    }\n",
       "</style>\n",
       "<table border=\"1\" class=\"dataframe\">\n",
       "  <thead>\n",
       "    <tr style=\"text-align: right;\">\n",
       "      <th></th>\n",
       "      <th>index</th>\n",
       "      <th>song</th>\n",
       "      <th>year</th>\n",
       "      <th>artist</th>\n",
       "      <th>genre</th>\n",
       "      <th>lyrics</th>\n",
       "    </tr>\n",
       "  </thead>\n",
       "  <tbody>\n",
       "    <tr>\n",
       "      <th>362232</th>\n",
       "      <td>362232</td>\n",
       "      <td>who-am-i-drinking-tonight</td>\n",
       "      <td>2012</td>\n",
       "      <td>edens-edge</td>\n",
       "      <td>Country</td>\n",
       "      <td>I gotta say\\nBoy, after only just a couple of ...</td>\n",
       "    </tr>\n",
       "    <tr>\n",
       "      <th>362233</th>\n",
       "      <td>362233</td>\n",
       "      <td>liar</td>\n",
       "      <td>2012</td>\n",
       "      <td>edens-edge</td>\n",
       "      <td>Country</td>\n",
       "      <td>I helped you find her diamond ring\\nYou made m...</td>\n",
       "    </tr>\n",
       "    <tr>\n",
       "      <th>362234</th>\n",
       "      <td>362234</td>\n",
       "      <td>last-supper</td>\n",
       "      <td>2012</td>\n",
       "      <td>edens-edge</td>\n",
       "      <td>Country</td>\n",
       "      <td>Look at the couple in the corner booth\\nLooks ...</td>\n",
       "    </tr>\n",
       "    <tr>\n",
       "      <th>362235</th>\n",
       "      <td>362235</td>\n",
       "      <td>christ-alone-live-in-studio</td>\n",
       "      <td>2012</td>\n",
       "      <td>edens-edge</td>\n",
       "      <td>Country</td>\n",
       "      <td>When I fly off this mortal earth\\nAnd I'm meas...</td>\n",
       "    </tr>\n",
       "    <tr>\n",
       "      <th>362236</th>\n",
       "      <td>362236</td>\n",
       "      <td>amen</td>\n",
       "      <td>2012</td>\n",
       "      <td>edens-edge</td>\n",
       "      <td>Country</td>\n",
       "      <td>I heard from a friend of a friend of a friend ...</td>\n",
       "    </tr>\n",
       "  </tbody>\n",
       "</table>\n",
       "</div>"
      ],
      "text/plain": [
       "         index                         song  year      artist    genre  \\\n",
       "362232  362232    who-am-i-drinking-tonight  2012  edens-edge  Country   \n",
       "362233  362233                         liar  2012  edens-edge  Country   \n",
       "362234  362234                  last-supper  2012  edens-edge  Country   \n",
       "362235  362235  christ-alone-live-in-studio  2012  edens-edge  Country   \n",
       "362236  362236                         amen  2012  edens-edge  Country   \n",
       "\n",
       "                                                   lyrics  \n",
       "362232  I gotta say\\nBoy, after only just a couple of ...  \n",
       "362233  I helped you find her diamond ring\\nYou made m...  \n",
       "362234  Look at the couple in the corner booth\\nLooks ...  \n",
       "362235  When I fly off this mortal earth\\nAnd I'm meas...  \n",
       "362236  I heard from a friend of a friend of a friend ...  "
      ]
     },
     "execution_count": 44,
     "metadata": {},
     "output_type": "execute_result"
    }
   ],
   "source": [
    "song_list.tail()"
   ]
  },
  {
   "cell_type": "markdown",
   "metadata": {},
   "source": [
    "### Drop rows with NAN values for column song"
   ]
  },
  {
   "cell_type": "code",
   "execution_count": 45,
   "metadata": {
    "scrolled": true
   },
   "outputs": [],
   "source": [
    "song_list.dropna(inplace = True)\n",
    "song_list.song.isna().sum()\n",
    "song_list.reset_index(inplace = True)"
   ]
  },
  {
   "cell_type": "code",
   "execution_count": 46,
   "metadata": {
    "scrolled": true
   },
   "outputs": [
    {
     "data": {
      "text/html": [
       "<div>\n",
       "<style scoped>\n",
       "    .dataframe tbody tr th:only-of-type {\n",
       "        vertical-align: middle;\n",
       "    }\n",
       "\n",
       "    .dataframe tbody tr th {\n",
       "        vertical-align: top;\n",
       "    }\n",
       "\n",
       "    .dataframe thead th {\n",
       "        text-align: right;\n",
       "    }\n",
       "</style>\n",
       "<table border=\"1\" class=\"dataframe\">\n",
       "  <thead>\n",
       "    <tr style=\"text-align: right;\">\n",
       "      <th></th>\n",
       "      <th>level_0</th>\n",
       "      <th>index</th>\n",
       "      <th>song</th>\n",
       "      <th>year</th>\n",
       "      <th>artist</th>\n",
       "      <th>genre</th>\n",
       "      <th>lyrics</th>\n",
       "    </tr>\n",
       "  </thead>\n",
       "  <tbody>\n",
       "    <tr>\n",
       "      <th>231786</th>\n",
       "      <td>362232</td>\n",
       "      <td>362232</td>\n",
       "      <td>who-am-i-drinking-tonight</td>\n",
       "      <td>2012</td>\n",
       "      <td>edens-edge</td>\n",
       "      <td>Country</td>\n",
       "      <td>I gotta say\\nBoy, after only just a couple of ...</td>\n",
       "    </tr>\n",
       "    <tr>\n",
       "      <th>231787</th>\n",
       "      <td>362233</td>\n",
       "      <td>362233</td>\n",
       "      <td>liar</td>\n",
       "      <td>2012</td>\n",
       "      <td>edens-edge</td>\n",
       "      <td>Country</td>\n",
       "      <td>I helped you find her diamond ring\\nYou made m...</td>\n",
       "    </tr>\n",
       "    <tr>\n",
       "      <th>231788</th>\n",
       "      <td>362234</td>\n",
       "      <td>362234</td>\n",
       "      <td>last-supper</td>\n",
       "      <td>2012</td>\n",
       "      <td>edens-edge</td>\n",
       "      <td>Country</td>\n",
       "      <td>Look at the couple in the corner booth\\nLooks ...</td>\n",
       "    </tr>\n",
       "    <tr>\n",
       "      <th>231789</th>\n",
       "      <td>362235</td>\n",
       "      <td>362235</td>\n",
       "      <td>christ-alone-live-in-studio</td>\n",
       "      <td>2012</td>\n",
       "      <td>edens-edge</td>\n",
       "      <td>Country</td>\n",
       "      <td>When I fly off this mortal earth\\nAnd I'm meas...</td>\n",
       "    </tr>\n",
       "    <tr>\n",
       "      <th>231790</th>\n",
       "      <td>362236</td>\n",
       "      <td>362236</td>\n",
       "      <td>amen</td>\n",
       "      <td>2012</td>\n",
       "      <td>edens-edge</td>\n",
       "      <td>Country</td>\n",
       "      <td>I heard from a friend of a friend of a friend ...</td>\n",
       "    </tr>\n",
       "  </tbody>\n",
       "</table>\n",
       "</div>"
      ],
      "text/plain": [
       "        level_0   index                         song  year      artist  \\\n",
       "231786   362232  362232    who-am-i-drinking-tonight  2012  edens-edge   \n",
       "231787   362233  362233                         liar  2012  edens-edge   \n",
       "231788   362234  362234                  last-supper  2012  edens-edge   \n",
       "231789   362235  362235  christ-alone-live-in-studio  2012  edens-edge   \n",
       "231790   362236  362236                         amen  2012  edens-edge   \n",
       "\n",
       "          genre                                             lyrics  \n",
       "231786  Country  I gotta say\\nBoy, after only just a couple of ...  \n",
       "231787  Country  I helped you find her diamond ring\\nYou made m...  \n",
       "231788  Country  Look at the couple in the corner booth\\nLooks ...  \n",
       "231789  Country  When I fly off this mortal earth\\nAnd I'm meas...  \n",
       "231790  Country  I heard from a friend of a friend of a friend ...  "
      ]
     },
     "execution_count": 46,
     "metadata": {},
     "output_type": "execute_result"
    }
   ],
   "source": [
    "song_list.tail()"
   ]
  },
  {
   "cell_type": "markdown",
   "metadata": {},
   "source": [
    "### Clean Song titles to remove dashes and capitalize"
   ]
  },
  {
   "cell_type": "code",
   "execution_count": 47,
   "metadata": {},
   "outputs": [
    {
     "data": {
      "text/plain": [
       "231791"
      ]
     },
     "execution_count": 47,
     "metadata": {},
     "output_type": "execute_result"
    }
   ],
   "source": [
    "def clean_song_names(titles_list):\n",
    "    no_dot = list(map(lambda item: item.replace(\".\", \"\"), titles_list))\n",
    "    no_dash = list(map(lambda item: item.replace(\"-\", \" \"), no_dot))\n",
    "    return list(map(lambda item: string.capwords(item), no_dash))\n",
    "\n",
    "titles_list = song_list.song\n",
    "final_titles = clean_song_names(titles_list)\n",
    "len(final_titles)"
   ]
  },
  {
   "cell_type": "markdown",
   "metadata": {},
   "source": [
    "### Append Clean Song names to DF as a new column and drop old column"
   ]
  },
  {
   "cell_type": "code",
   "execution_count": 48,
   "metadata": {},
   "outputs": [],
   "source": [
    "new_df = song_list\n",
    "# new_df.head()\n",
    "new_titles = final_titles\n",
    "\n",
    "\n",
    "new_lyr = pd.DataFrame(new_titles)\n",
    "new_lyr.tail()\n",
    "\n",
    "final_df = new_df.join(new_lyr)\n",
    "\n",
    "final_df.drop(columns = ['song', 'level_0', \"index\"], axis = 1, inplace = True)\n"
   ]
  },
  {
   "cell_type": "code",
   "execution_count": 49,
   "metadata": {},
   "outputs": [
    {
     "data": {
      "text/plain": [
       "(231791, 5)"
      ]
     },
     "execution_count": 49,
     "metadata": {},
     "output_type": "execute_result"
    }
   ],
   "source": [
    "final_df.shape"
   ]
  },
  {
   "cell_type": "code",
   "execution_count": 50,
   "metadata": {
    "scrolled": true
   },
   "outputs": [
    {
     "data": {
      "text/plain": [
       "year      0\n",
       "artist    0\n",
       "genre     0\n",
       "lyrics    0\n",
       "song      0\n",
       "dtype: int64"
      ]
     },
     "execution_count": 50,
     "metadata": {},
     "output_type": "execute_result"
    }
   ],
   "source": [
    "final_df.rename(columns = {0: \"song\"}, inplace = True)\n",
    "final_df.isna().sum()"
   ]
  },
  {
   "cell_type": "code",
   "execution_count": 51,
   "metadata": {
    "scrolled": true
   },
   "outputs": [
    {
     "data": {
      "text/plain": [
       "(231791, 5)"
      ]
     },
     "execution_count": 51,
     "metadata": {},
     "output_type": "execute_result"
    }
   ],
   "source": [
    "final_df.shape"
   ]
  },
  {
   "cell_type": "markdown",
   "metadata": {},
   "source": [
    "### Drop Song titles with Nan Values"
   ]
  },
  {
   "cell_type": "code",
   "execution_count": 52,
   "metadata": {},
   "outputs": [
    {
     "data": {
      "text/plain": [
       "Rock          108992\n",
       "Pop            40466\n",
       "Hip-Hop        24850\n",
       "Metal          23759\n",
       "Country        14387\n",
       "Jazz            7970\n",
       "Electronic      7966\n",
       "R&B             3401\n",
       "Name: genre, dtype: int64"
      ]
     },
     "execution_count": 52,
     "metadata": {},
     "output_type": "execute_result"
    }
   ],
   "source": [
    "final_df.genre.value_counts()"
   ]
  },
  {
   "cell_type": "code",
   "execution_count": 53,
   "metadata": {},
   "outputs": [],
   "source": [
    "rock_df = final_df[final_df.genre == \"Rock\"][-900:]\n",
    "pop_df = final_df[final_df.genre == \"Pop\"][:900]\n",
    "hip_df = final_df[final_df.genre == \"Hip-Hop\"][:900]\n",
    "metal_df = final_df[final_df.genre == \"Metal\"][:900]\n",
    "jazz_df = final_df[final_df.genre == \"Jazz\"][:900]\n",
    "elec_df = final_df[final_df.genre == \"Electronic\"][:900]\n",
    "country_df = final_df[final_df.genre == \"Country\"][:900]\n",
    "rnb_df = final_df[final_df.genre == \"R&B\"][:900]\n"
   ]
  },
  {
   "cell_type": "code",
   "execution_count": 54,
   "metadata": {},
   "outputs": [
    {
     "data": {
      "text/html": [
       "<div>\n",
       "<style scoped>\n",
       "    .dataframe tbody tr th:only-of-type {\n",
       "        vertical-align: middle;\n",
       "    }\n",
       "\n",
       "    .dataframe tbody tr th {\n",
       "        vertical-align: top;\n",
       "    }\n",
       "\n",
       "    .dataframe thead th {\n",
       "        text-align: right;\n",
       "    }\n",
       "</style>\n",
       "<table border=\"1\" class=\"dataframe\">\n",
       "  <thead>\n",
       "    <tr style=\"text-align: right;\">\n",
       "      <th></th>\n",
       "      <th>year</th>\n",
       "      <th>artist</th>\n",
       "      <th>genre</th>\n",
       "      <th>lyrics</th>\n",
       "      <th>song</th>\n",
       "    </tr>\n",
       "  </thead>\n",
       "  <tbody>\n",
       "    <tr>\n",
       "      <th>228781</th>\n",
       "      <td>2006</td>\n",
       "      <td>brainstorm</td>\n",
       "      <td>Rock</td>\n",
       "      <td>Good morning my goodness and majesty!\\nGood mo...</td>\n",
       "      <td>Space Detective Story</td>\n",
       "    </tr>\n",
       "    <tr>\n",
       "      <th>228782</th>\n",
       "      <td>2006</td>\n",
       "      <td>brainstorm</td>\n",
       "      <td>Rock</td>\n",
       "      <td>Got a cheesy poem in my head\\nTom Jones is my ...</td>\n",
       "      <td>These Women Drive Me Crazy All The Time</td>\n",
       "    </tr>\n",
       "    <tr>\n",
       "      <th>228783</th>\n",
       "      <td>2006</td>\n",
       "      <td>brainstorm</td>\n",
       "      <td>Rock</td>\n",
       "      <td>If only I could trace that light\\nTo ignore th...</td>\n",
       "      <td>Behind</td>\n",
       "    </tr>\n",
       "    <tr>\n",
       "      <th>228784</th>\n",
       "      <td>2006</td>\n",
       "      <td>brainstorm</td>\n",
       "      <td>Rock</td>\n",
       "      <td>I've never thought about if I do love you\\nIt'...</td>\n",
       "      <td>Before The Time Has Come To Leave You</td>\n",
       "    </tr>\n",
       "    <tr>\n",
       "      <th>228785</th>\n",
       "      <td>2006</td>\n",
       "      <td>brainstorm</td>\n",
       "      <td>Rock</td>\n",
       "      <td>My friends gonna call me: hey dreamer\\nThe sta...</td>\n",
       "      <td>My Star</td>\n",
       "    </tr>\n",
       "  </tbody>\n",
       "</table>\n",
       "</div>"
      ],
      "text/plain": [
       "        year      artist genre  \\\n",
       "228781  2006  brainstorm  Rock   \n",
       "228782  2006  brainstorm  Rock   \n",
       "228783  2006  brainstorm  Rock   \n",
       "228784  2006  brainstorm  Rock   \n",
       "228785  2006  brainstorm  Rock   \n",
       "\n",
       "                                                   lyrics  \\\n",
       "228781  Good morning my goodness and majesty!\\nGood mo...   \n",
       "228782  Got a cheesy poem in my head\\nTom Jones is my ...   \n",
       "228783  If only I could trace that light\\nTo ignore th...   \n",
       "228784  I've never thought about if I do love you\\nIt'...   \n",
       "228785  My friends gonna call me: hey dreamer\\nThe sta...   \n",
       "\n",
       "                                           song  \n",
       "228781                    Space Detective Story  \n",
       "228782  These Women Drive Me Crazy All The Time  \n",
       "228783                                   Behind  \n",
       "228784    Before The Time Has Come To Leave You  \n",
       "228785                                  My Star  "
      ]
     },
     "execution_count": 54,
     "metadata": {},
     "output_type": "execute_result"
    }
   ],
   "source": [
    "rock_df.head()"
   ]
  },
  {
   "cell_type": "code",
   "execution_count": 55,
   "metadata": {
    "scrolled": true
   },
   "outputs": [],
   "source": [
    "final_df.drop(final_df[final_df.genre == \"Rock\"].index, inplace = True)\n",
    "final_df.drop(final_df[final_df.genre == \"Pop\"].index, inplace = True)\n",
    "final_df.drop(final_df[final_df.genre == \"Hip-Hop\"].index, inplace = True)\n",
    "final_df.drop(final_df[final_df.genre == \"Metal\"].index, inplace = True)\n",
    "final_df.drop(final_df[final_df.genre == \"Jazz\"].index, inplace = True)\n",
    "final_df.drop(final_df[final_df.genre == \"Electronic\"].index, inplace = True)\n",
    "final_df.drop(final_df[final_df.genre == \"Country\"].index, inplace = True)\n"
   ]
  },
  {
   "cell_type": "code",
   "execution_count": 56,
   "metadata": {
    "scrolled": false
   },
   "outputs": [
    {
     "data": {
      "text/plain": [
       "R&B           3401\n",
       "Country        900\n",
       "Rock           900\n",
       "Jazz           900\n",
       "Pop            900\n",
       "Hip-Hop        900\n",
       "Electronic     900\n",
       "Metal          900\n",
       "Name: genre, dtype: int64"
      ]
     },
     "execution_count": 56,
     "metadata": {},
     "output_type": "execute_result"
    }
   ],
   "source": [
    "maybe_df = final_df.append([rock_df, pop_df, hip_df, metal_df, jazz_df, elec_df, country_df])\n",
    "maybe_df.genre.value_counts()"
   ]
  },
  {
   "cell_type": "code",
   "execution_count": 57,
   "metadata": {},
   "outputs": [],
   "source": [
    "maybe_df.drop(maybe_df[maybe_df.genre == \"R&B\"].index, inplace = True)\n",
    "maybe_df = maybe_df.append([rnb_df])"
   ]
  },
  {
   "cell_type": "code",
   "execution_count": 58,
   "metadata": {},
   "outputs": [
    {
     "data": {
      "text/plain": [
       "Country       900\n",
       "Rock          900\n",
       "Jazz          900\n",
       "Pop           900\n",
       "R&B           900\n",
       "Hip-Hop       900\n",
       "Electronic    900\n",
       "Metal         900\n",
       "Name: genre, dtype: int64"
      ]
     },
     "execution_count": 58,
     "metadata": {},
     "output_type": "execute_result"
    }
   ],
   "source": [
    "maybe_df.genre.value_counts()"
   ]
  },
  {
   "cell_type": "code",
   "execution_count": 59,
   "metadata": {},
   "outputs": [],
   "source": [
    "maybe_df.reset_index(inplace = True)"
   ]
  },
  {
   "cell_type": "code",
   "execution_count": 60,
   "metadata": {},
   "outputs": [],
   "source": [
    "maybe_df.drop(columns = [\"index\"], axis = 1, inplace = True)"
   ]
  },
  {
   "cell_type": "code",
   "execution_count": 61,
   "metadata": {},
   "outputs": [
    {
     "data": {
      "text/html": [
       "<div>\n",
       "<style scoped>\n",
       "    .dataframe tbody tr th:only-of-type {\n",
       "        vertical-align: middle;\n",
       "    }\n",
       "\n",
       "    .dataframe tbody tr th {\n",
       "        vertical-align: top;\n",
       "    }\n",
       "\n",
       "    .dataframe thead th {\n",
       "        text-align: right;\n",
       "    }\n",
       "</style>\n",
       "<table border=\"1\" class=\"dataframe\">\n",
       "  <thead>\n",
       "    <tr style=\"text-align: right;\">\n",
       "      <th></th>\n",
       "      <th>year</th>\n",
       "      <th>artist</th>\n",
       "      <th>genre</th>\n",
       "      <th>lyrics</th>\n",
       "      <th>song</th>\n",
       "    </tr>\n",
       "  </thead>\n",
       "  <tbody>\n",
       "    <tr>\n",
       "      <th>0</th>\n",
       "      <td>2006</td>\n",
       "      <td>brainstorm</td>\n",
       "      <td>Rock</td>\n",
       "      <td>Good morning my goodness and majesty!\\nGood mo...</td>\n",
       "      <td>Space Detective Story</td>\n",
       "    </tr>\n",
       "    <tr>\n",
       "      <th>1</th>\n",
       "      <td>2006</td>\n",
       "      <td>brainstorm</td>\n",
       "      <td>Rock</td>\n",
       "      <td>Got a cheesy poem in my head\\nTom Jones is my ...</td>\n",
       "      <td>These Women Drive Me Crazy All The Time</td>\n",
       "    </tr>\n",
       "    <tr>\n",
       "      <th>2</th>\n",
       "      <td>2006</td>\n",
       "      <td>brainstorm</td>\n",
       "      <td>Rock</td>\n",
       "      <td>If only I could trace that light\\nTo ignore th...</td>\n",
       "      <td>Behind</td>\n",
       "    </tr>\n",
       "    <tr>\n",
       "      <th>3</th>\n",
       "      <td>2006</td>\n",
       "      <td>brainstorm</td>\n",
       "      <td>Rock</td>\n",
       "      <td>I've never thought about if I do love you\\nIt'...</td>\n",
       "      <td>Before The Time Has Come To Leave You</td>\n",
       "    </tr>\n",
       "    <tr>\n",
       "      <th>4</th>\n",
       "      <td>2006</td>\n",
       "      <td>brainstorm</td>\n",
       "      <td>Rock</td>\n",
       "      <td>My friends gonna call me: hey dreamer\\nThe sta...</td>\n",
       "      <td>My Star</td>\n",
       "    </tr>\n",
       "  </tbody>\n",
       "</table>\n",
       "</div>"
      ],
      "text/plain": [
       "   year      artist genre                                             lyrics  \\\n",
       "0  2006  brainstorm  Rock  Good morning my goodness and majesty!\\nGood mo...   \n",
       "1  2006  brainstorm  Rock  Got a cheesy poem in my head\\nTom Jones is my ...   \n",
       "2  2006  brainstorm  Rock  If only I could trace that light\\nTo ignore th...   \n",
       "3  2006  brainstorm  Rock  I've never thought about if I do love you\\nIt'...   \n",
       "4  2006  brainstorm  Rock  My friends gonna call me: hey dreamer\\nThe sta...   \n",
       "\n",
       "                                      song  \n",
       "0                    Space Detective Story  \n",
       "1  These Women Drive Me Crazy All The Time  \n",
       "2                                   Behind  \n",
       "3    Before The Time Has Come To Leave You  \n",
       "4                                  My Star  "
      ]
     },
     "execution_count": 61,
     "metadata": {},
     "output_type": "execute_result"
    }
   ],
   "source": [
    "maybe_df.head()"
   ]
  },
  {
   "cell_type": "code",
   "execution_count": 62,
   "metadata": {},
   "outputs": [],
   "source": [
    "lyrics_list = list(maybe_df.lyrics)\n",
    "\n",
    "pattern = \"([a-zA-Z]+(?:'[a-z]+)?)\"\n",
    "\n",
    "lemmatizer = WordNetLemmatizer()\n",
    "stemmer = SnowballStemmer(\"english\")\n",
    "english = list(set(nltk.corpus.words.words()))\n",
    "\n",
    "def clean_docs_lemma(lyrics_list):\n",
    "    cleaned = []\n",
    "    pattern = \"([a-zA-Z]+(?:'[a-z]+)?)\"\n",
    "    for lyric in lyrics_list:\n",
    "        clean_lyric = nltk.regexp_tokenize(lyric, pattern)\n",
    "        lyric_lower = [i.lower() for i in clean_lyric]\n",
    "        stop_words = stopwords.words('english')\n",
    "        stopwords_list = stop_words + list(string.punctuation)\n",
    "        stopwords_list += [\"''\", '\"\"', '...', '``']\n",
    "        lyrics_tokens_stopped = [w for w in lyric_lower if not w in stopwords_list]\n",
    "        lyric_lemmas = [lemmatizer.lemmatize(word) for word in lyrics_tokens_stopped]\n",
    "        c = \" \".join(lyric_lemmas)\n",
    "        cleaned.append(c)\n",
    "    return cleaned\n",
    "\n",
    "def clean_docs_stemma(lyrics_list):\n",
    "    cleaned = []\n",
    "    pattern = \"([a-zA-Z]+(?:'[a-z]+)?)\"\n",
    "    for lyric in lyrics_list:\n",
    "        clean_lyric = nltk.regexp_tokenize(lyric, pattern)\n",
    "        lyric_lower = [i.lower() for i in clean_lyric]\n",
    "        stop_words = stopwords.words('english')\n",
    "        stopwords_list = stop_words + list(string.punctuation)\n",
    "        stopwords_list += [\"''\", '\"\"', '...', '``']\n",
    "        lyrics_tokens_stopped = [w for w in lyric_lower if not w in stopwords_list]\n",
    "        lyric_stemmas = [stemmer.stem(word) for word in lyrics_tokens_stopped]\n",
    "        c = \" \".join(lyric_stemmas)\n",
    "        cleaned.append(c)\n",
    "    return cleaned"
   ]
  },
  {
   "cell_type": "markdown",
   "metadata": {},
   "source": [
    "### First thing we wanted to do is test whether Lemmatizing works better than Stemmatizing"
   ]
  },
  {
   "cell_type": "markdown",
   "metadata": {},
   "source": [
    "### Stemmed Lyrics Test"
   ]
  },
  {
   "cell_type": "code",
   "execution_count": 63,
   "metadata": {},
   "outputs": [],
   "source": [
    "stemmed_lyrics = clean_docs_stemma(lyrics_list)\n"
   ]
  },
  {
   "cell_type": "code",
   "execution_count": 65,
   "metadata": {
    "scrolled": false
   },
   "outputs": [
    {
     "data": {
      "text/plain": [
       "29945"
      ]
     },
     "execution_count": 65,
     "metadata": {},
     "output_type": "execute_result"
    }
   ],
   "source": [
    "len(set(nltk.word_tokenize(\" \".join(stemmed_lyrics))))"
   ]
  },
  {
   "cell_type": "code",
   "execution_count": 66,
   "metadata": {},
   "outputs": [
    {
     "data": {
      "text/plain": [
       "True"
      ]
     },
     "execution_count": 66,
     "metadata": {},
     "output_type": "execute_result"
    }
   ],
   "source": [
    "X = stemmed_lyrics\n",
    "y = maybe_df.genre\n",
    "\n",
    "len(X) == len(y)"
   ]
  },
  {
   "cell_type": "code",
   "execution_count": 67,
   "metadata": {},
   "outputs": [],
   "source": [
    "from sklearn.model_selection import train_test_split  \n",
    "X_train, X_test, y_train, y_test = train_test_split(stemmed_lyrics, maybe_df.genre, test_size=0.2, random_state=18)"
   ]
  },
  {
   "cell_type": "code",
   "execution_count": 80,
   "metadata": {
    "scrolled": true
   },
   "outputs": [
    {
     "name": "stdout",
     "output_type": "stream",
     "text": [
      "Pipeline(memory=None,\n",
      "     steps=[('count_vectorizer', CountVectorizer(analyzer='word', binary=False, decode_error='strict',\n",
      "        dtype=<class 'numpy.int64'>, encoding='utf-8', input='content',\n",
      "        lowercase=True, max_df=1.0, max_features=None, min_df=1,\n",
      "        ngram_range=(1, 1), preprocessor=None, stop_words=None,\n",
      " ...inear_tf=False, use_idf=True)), ('clf', MultinomialNB(alpha=1.0, class_prior=None, fit_prior=True))])\n",
      "Pipeline(memory=None,\n",
      "     steps=[('count_vectorizer', CountVectorizer(analyzer='word', binary=False, decode_error='strict',\n",
      "        dtype=<class 'numpy.int64'>, encoding='utf-8', input='content',\n",
      "        lowercase=True, max_df=1.0, max_features=None, min_df=1,\n",
      "        ngram_range=(1, 1), preprocessor=None, stop_words=None,\n",
      " ...    subsample=1.0, tol=0.0001, validation_fraction=0.1,\n",
      "              verbose=0, warm_start=False))])\n",
      "Pipeline(memory=None,\n",
      "     steps=[('count_vectorizer', CountVectorizer(analyzer='word', binary=False, decode_error='strict',\n",
      "        dtype=<class 'numpy.int64'>, encoding='utf-8', input='content',\n",
      "        lowercase=True, max_df=1.0, max_features=None, min_df=1,\n",
      "        ngram_range=(1, 1), preprocessor=None, stop_words=None,\n",
      " ...obs=None,\n",
      "            oob_score=False, random_state=None, verbose=0,\n",
      "            warm_start=False))])\n"
     ]
    },
    {
     "name": "stderr",
     "output_type": "stream",
     "text": [
      "/anaconda3/lib/python3.6/site-packages/sklearn/ensemble/forest.py:246: FutureWarning: The default value of n_estimators will change from 10 in version 0.20 to 100 in 0.22.\n",
      "  \"10 in version 0.20 to 100 in 0.22.\", FutureWarning)\n"
     ]
    },
    {
     "name": "stdout",
     "output_type": "stream",
     "text": [
      "Pipeline(memory=None,\n",
      "     steps=[('count_vectorizer', CountVectorizer(analyzer='word', binary=False, decode_error='strict',\n",
      "        dtype=<class 'numpy.int64'>, encoding='utf-8', input='content',\n",
      "        lowercase=True, max_df=1.0, max_features=None, min_df=1,\n",
      "        ngram_range=(1, 1), preprocessor=None, stop_words=None,\n",
      " ...m='SAMME.R', base_estimator=None,\n",
      "          learning_rate=0.3, n_estimators=50, random_state=None))])\n",
      "Pipeline(memory=None,\n",
      "     steps=[('count_vectorizer', CountVectorizer(analyzer='word', binary=False, decode_error='strict',\n",
      "        dtype=<class 'numpy.int64'>, encoding='utf-8', input='content',\n",
      "        lowercase=True, max_df=1.0, max_features=None, min_df=1,\n",
      "        ngram_range=(1, 1), preprocessor=None, stop_words=None,\n",
      " ...ki',\n",
      "           metric_params=None, n_jobs=None, n_neighbors=5, p=2,\n",
      "           weights='uniform'))])\n",
      "Multinomail NB pipeline test accuracy: 0.452\n",
      "Gboost pipeline test accuracy: 0.463\n",
      "Random Forest pipeline test accuracy: 0.388\n",
      "ADA pipeline test accuracy: 0.333\n",
      "KNN pipeline test accuracy: 0.173\n"
     ]
    }
   ],
   "source": [
    "\n",
    "pipe_NB = Pipeline([('count_vectorizer', CountVectorizer()), \n",
    "                     ('tfidf_vectorizer', TfidfTransformer()),\n",
    "                     ('clf', MultinomialNB())\n",
    "                    ])\n",
    "\n",
    "pipe_GBoost = Pipeline([('count_vectorizer', CountVectorizer()), \n",
    "                     ('tfidf_vectorizer', TfidfTransformer()),\n",
    "                     ('clf', GradientBoostingClassifier(learning_rate=0.3))\n",
    "                    ])\n",
    "\n",
    "pipe_RF = Pipeline([('count_vectorizer', CountVectorizer()), \n",
    "                     ('tfidf_vectorizer', TfidfTransformer()),\n",
    "                     ('clf', RandomForestClassifier())\n",
    "                    ])\n",
    "\n",
    "pipe_ADA = Pipeline([('count_vectorizer', CountVectorizer()), \n",
    "                     ('tfidf_vectorizer', TfidfTransformer()),\n",
    "                     ('clf', AdaBoostClassifier(learning_rate=0.3))\n",
    "                    ])\n",
    "\n",
    "\n",
    "pipe_KNN = Pipeline([('count_vectorizer', CountVectorizer()), \n",
    "                     ('tfidf_vectorizer', TfidfTransformer()),\n",
    "                     ('clf', KNeighborsClassifier())\n",
    "                    ])\n",
    "\n",
    "# List of pipelines, List of pipeline names\n",
    "pipelines = [pipe_NB, pipe_GBoost, pipe_RF, pipe_ADA, pipe_KNN]\n",
    "pipeline_names = ['Multinomail NB', \"Gboost\", 'Random Forest', 'ADA', \"KNN\"]\n",
    "\n",
    "# Loop to fit each of the three pipelines\n",
    "for pipe in pipelines:\n",
    "    print(pipe)\n",
    "    pipe.fit(X_train, y_train)\n",
    "\n",
    "# Compare accuracies\n",
    "basic_scores = []\n",
    "for index, val in enumerate(pipelines):\n",
    "    tup = (pipeline_names[index], val.score(X_test, y_test), val.predict_proba(X_train))\n",
    "    basic_scores.append(tup)\n",
    "    print('%s pipeline test accuracy: %.3f' % (pipeline_names[index], val.score(X_test, y_test)))"
   ]
  },
  {
   "cell_type": "code",
   "execution_count": 107,
   "metadata": {},
   "outputs": [
    {
     "data": {
      "text/plain": [
       "<BarContainer object of 5 artists>"
      ]
     },
     "execution_count": 107,
     "metadata": {},
     "output_type": "execute_result"
    },
    {
     "data": {
      "image/png": "[encoded data removed]",
      "text/plain": [
       "<Figure size 720x432 with 1 Axes>"
      ]
     },
     "metadata": {
      "needs_background": "light"
     },
     "output_type": "display_data"
    }
   ],
   "source": [
    "modles_stem = [item[0] for item in basic_scores]\n",
    "accuracy_stem = [item[1] for item in basic_scores]\n",
    "\n",
    "plt.figure(figsize=(10,6))\n",
    "plt.title(\"Basic Model Scores for Stemmed Data\")\n",
    "plt.xlabel(\"Model\")\n",
    "plt.ylabel(\"Accuracy Score\")\n",
    "plt.bar(modles_stem, accuracy_stem)"
   ]
  },
  {
   "cell_type": "markdown",
   "metadata": {},
   "source": [
    "### Lemmed Lyrics Test"
   ]
  },
  {
   "cell_type": "code",
   "execution_count": 108,
   "metadata": {},
   "outputs": [],
   "source": [
    "lemmed_lyrics = clean_docs_lemma(lyrics_list)"
   ]
  },
  {
   "cell_type": "code",
   "execution_count": 115,
   "metadata": {
    "scrolled": true
   },
   "outputs": [
    {
     "data": {
      "text/plain": [
       "29945"
      ]
     },
     "execution_count": 115,
     "metadata": {},
     "output_type": "execute_result"
    }
   ],
   "source": [
    "len(set(nltk.word_tokenize(\" \".join(stemmed_lyrics))))"
   ]
  },
  {
   "cell_type": "code",
   "execution_count": 116,
   "metadata": {
    "scrolled": true
   },
   "outputs": [],
   "source": [
    "X = lemmed_lyrics\n",
    "y = maybe_df.genre\n",
    "\n"
   ]
  },
  {
   "cell_type": "code",
   "execution_count": 312,
   "metadata": {},
   "outputs": [],
   "source": [
    "from sklearn.model_selection import train_test_split  \n",
    "X_train, X_test, y_train, y_test = train_test_split(lemmed_lyrics, maybe_df.genre, test_size=0.2, random_state=18) "
   ]
  },
  {
   "cell_type": "code",
   "execution_count": 118,
   "metadata": {
    "scrolled": false
   },
   "outputs": [
    {
     "name": "stdout",
     "output_type": "stream",
     "text": [
      "Pipeline(memory=None,\n",
      "     steps=[('count_vectorizer', CountVectorizer(analyzer='word', binary=False, decode_error='strict',\n",
      "        dtype=<class 'numpy.int64'>, encoding='utf-8', input='content',\n",
      "        lowercase=True, max_df=1.0, max_features=None, min_df=1,\n",
      "        ngram_range=(1, 1), preprocessor=None, stop_words=None,\n",
      " ...inear_tf=False, use_idf=True)), ('clf', MultinomialNB(alpha=1.0, class_prior=None, fit_prior=True))])\n",
      "Pipeline(memory=None,\n",
      "     steps=[('count_vectorizer', CountVectorizer(analyzer='word', binary=False, decode_error='strict',\n",
      "        dtype=<class 'numpy.int64'>, encoding='utf-8', input='content',\n",
      "        lowercase=True, max_df=1.0, max_features=None, min_df=1,\n",
      "        ngram_range=(1, 1), preprocessor=None, stop_words=None,\n",
      " ...    subsample=1.0, tol=0.0001, validation_fraction=0.1,\n",
      "              verbose=0, warm_start=False))])\n",
      "Pipeline(memory=None,\n",
      "     steps=[('count_vectorizer', CountVectorizer(analyzer='word', binary=False, decode_error='strict',\n",
      "        dtype=<class 'numpy.int64'>, encoding='utf-8', input='content',\n",
      "        lowercase=True, max_df=1.0, max_features=None, min_df=1,\n",
      "        ngram_range=(1, 1), preprocessor=None, stop_words=None,\n",
      " ...obs=None,\n",
      "            oob_score=False, random_state=None, verbose=0,\n",
      "            warm_start=False))])\n"
     ]
    },
    {
     "name": "stderr",
     "output_type": "stream",
     "text": [
      "/anaconda3/lib/python3.6/site-packages/sklearn/ensemble/forest.py:246: FutureWarning: The default value of n_estimators will change from 10 in version 0.20 to 100 in 0.22.\n",
      "  \"10 in version 0.20 to 100 in 0.22.\", FutureWarning)\n"
     ]
    },
    {
     "name": "stdout",
     "output_type": "stream",
     "text": [
      "Pipeline(memory=None,\n",
      "     steps=[('count_vectorizer', CountVectorizer(analyzer='word', binary=False, decode_error='strict',\n",
      "        dtype=<class 'numpy.int64'>, encoding='utf-8', input='content',\n",
      "        lowercase=True, max_df=1.0, max_features=None, min_df=1,\n",
      "        ngram_range=(1, 1), preprocessor=None, stop_words=None,\n",
      " ...m='SAMME.R', base_estimator=None,\n",
      "          learning_rate=0.3, n_estimators=50, random_state=None))])\n",
      "Pipeline(memory=None,\n",
      "     steps=[('count_vectorizer', CountVectorizer(analyzer='word', binary=False, decode_error='strict',\n",
      "        dtype=<class 'numpy.int64'>, encoding='utf-8', input='content',\n",
      "        lowercase=True, max_df=1.0, max_features=None, min_df=1,\n",
      "        ngram_range=(1, 1), preprocessor=None, stop_words=None,\n",
      " ...ki',\n",
      "           metric_params=None, n_jobs=None, n_neighbors=5, p=2,\n",
      "           weights='uniform'))])\n",
      "Multinomail NB pipeline test accuracy: 0.457\n",
      "Gboost pipeline test accuracy: 0.451\n",
      "Random Forest pipeline test accuracy: 0.404\n",
      "ADA pipeline test accuracy: 0.342\n",
      "KNN pipeline test accuracy: 0.179\n"
     ]
    }
   ],
   "source": [
    "pipe_NB = Pipeline([('count_vectorizer', CountVectorizer()), \n",
    "                     ('tfidf_vectorizer', TfidfTransformer()),\n",
    "                     ('clf', MultinomialNB())\n",
    "                    ])\n",
    "\n",
    "pipe_GBoost = Pipeline([('count_vectorizer', CountVectorizer()), \n",
    "                     ('tfidf_vectorizer', TfidfTransformer()),\n",
    "                     ('clf', GradientBoostingClassifier(learning_rate=0.3))\n",
    "                    ])\n",
    "\n",
    "pipe_RF = Pipeline([('count_vectorizer', CountVectorizer()), \n",
    "                     ('tfidf_vectorizer', TfidfTransformer()),\n",
    "                     ('clf', RandomForestClassifier())\n",
    "                    ])\n",
    "\n",
    "pipe_ADA = Pipeline([('count_vectorizer', CountVectorizer()), \n",
    "                     ('tfidf_vectorizer', TfidfTransformer()),\n",
    "                     ('clf', AdaBoostClassifier(learning_rate=0.3))\n",
    "                    ])\n",
    "\n",
    "\n",
    "pipe_KNN = Pipeline([('count_vectorizer', CountVectorizer()), \n",
    "                     ('tfidf_vectorizer', TfidfTransformer()),\n",
    "                     ('clf', KNeighborsClassifier())\n",
    "                    ])\n",
    "\n",
    "# List of pipelines, List of pipeline names\n",
    "pipelines = [pipe_NB, pipe_GBoost, pipe_RF, pipe_ADA, pipe_KNN]\n",
    "pipeline_names = ['Multinomail NB', \"Gboost\", 'Random Forest', 'ADA', \"KNN\"]\n",
    "\n",
    "# Loop to fit each of the three pipelines\n",
    "for pipe in pipelines:\n",
    "    print(pipe)\n",
    "    pipe.fit(X_train, y_train)\n",
    "\n",
    "# Compare accuracies\n",
    "lemmed_basic_scores = []\n",
    "for index, val in enumerate(pipelines):\n",
    "    tup = (pipeline_names[index], val.score(X_test, y_test), val.predict_proba(X_train))\n",
    "    lemmed_basic_scores.append(tup)\n",
    "    print('%s pipeline test accuracy: %.3f' % (pipeline_names[index], val.score(X_test, y_test)))"
   ]
  },
  {
   "cell_type": "code",
   "execution_count": 119,
   "metadata": {},
   "outputs": [
    {
     "data": {
      "text/plain": [
       "[('Multinomail NB',\n",
       "  0.45694444444444443,\n",
       "  array([[0.02566676, 0.01030022, 0.8224175 , ..., 0.02026982, 0.03925601,\n",
       "          0.06277274],\n",
       "         [0.42789794, 0.03981814, 0.15820197, ..., 0.05668015, 0.10471489,\n",
       "          0.14543735],\n",
       "         [0.1092205 , 0.1029462 , 0.14752813, ..., 0.14404441, 0.13995764,\n",
       "          0.26537367],\n",
       "         ...,\n",
       "         [0.07259785, 0.05261692, 0.17980383, ..., 0.46830428, 0.07864649,\n",
       "          0.06446807],\n",
       "         [0.08006026, 0.09875739, 0.35706512, ..., 0.09702868, 0.14121745,\n",
       "          0.09080046],\n",
       "         [0.04801317, 0.01754665, 0.00462362, ..., 0.0294888 , 0.01773273,\n",
       "          0.07836754]])),\n",
       " ('Gboost',\n",
       "  0.45069444444444445,\n",
       "  array([[1.19862074e-02, 1.10356134e-02, 9.39686620e-01, ...,\n",
       "          8.54686996e-03, 9.38740305e-03, 8.69703690e-03],\n",
       "         [8.60503466e-01, 1.43002745e-02, 3.54763879e-03, ...,\n",
       "          2.11195345e-02, 3.11826190e-02, 3.20384508e-02],\n",
       "         [1.30037461e-01, 2.09675477e-01, 2.01895120e-02, ...,\n",
       "          1.69374418e-01, 1.08415795e-01, 1.88937760e-01],\n",
       "         ...,\n",
       "         [1.01013477e-03, 1.64106901e-03, 8.93312931e-04, ...,\n",
       "          9.90845243e-01, 2.91436214e-03, 1.55959084e-03],\n",
       "         [6.82577470e-02, 6.04186540e-02, 8.54629349e-03, ...,\n",
       "          6.45270023e-02, 1.55960154e-01, 9.13638346e-02],\n",
       "         [8.07281724e-02, 6.96532233e-02, 5.11604082e-03, ...,\n",
       "          6.50685322e-02, 5.58222506e-02, 9.53661141e-02]])),\n",
       " ('Random Forest',\n",
       "  0.4041666666666667,\n",
       "  array([[0. , 0. , 0.9, ..., 0.1, 0. , 0. ],\n",
       "         [0.8, 0.1, 0. , ..., 0. , 0. , 0. ],\n",
       "         [0. , 0.1, 0. , ..., 0.7, 0. , 0.2],\n",
       "         ...,\n",
       "         [0. , 0. , 0. , ..., 0.9, 0. , 0. ],\n",
       "         [0. , 0. , 0. , ..., 0.1, 0.1, 0. ],\n",
       "         [0. , 0. , 0. , ..., 0.2, 0. , 0. ]])),\n",
       " ('ADA',\n",
       "  0.3423611111111111,\n",
       "  array([[0.11663763, 0.12132814, 0.13376979, ..., 0.12596754, 0.13307522,\n",
       "          0.12804367],\n",
       "         [0.22588847, 0.11355464, 0.10275141, ..., 0.11397202, 0.11411755,\n",
       "          0.11326218],\n",
       "         [0.12628936, 0.12737617, 0.11057744, ..., 0.12685309, 0.12751205,\n",
       "          0.12959526],\n",
       "         ...,\n",
       "         [0.1025969 , 0.10224026, 0.17065038, ..., 0.21812236, 0.10754204,\n",
       "          0.10473315],\n",
       "         [0.12755491, 0.12669207, 0.1124534 , ..., 0.12612039, 0.13364586,\n",
       "          0.12725057],\n",
       "         [0.13016976, 0.12613223, 0.10719719, ..., 0.12845539, 0.12788269,\n",
       "          0.1301309 ]])),\n",
       " ('KNN', 0.17916666666666667, array([[0. , 0. , 0.2, ..., 0.8, 0. , 0. ],\n",
       "         [0.2, 0.2, 0. , ..., 0.4, 0. , 0. ],\n",
       "         [0. , 0.2, 0. , ..., 0.8, 0. , 0. ],\n",
       "         ...,\n",
       "         [0. , 0. , 0. , ..., 1. , 0. , 0. ],\n",
       "         [0. , 0. , 0. , ..., 0.6, 0. , 0. ],\n",
       "         [0. , 0. , 0. , ..., 0.6, 0. , 0. ]]))]"
      ]
     },
     "execution_count": 119,
     "metadata": {},
     "output_type": "execute_result"
    }
   ],
   "source": [
    "lemmed_basic_scores"
   ]
  },
  {
   "cell_type": "code",
   "execution_count": 120,
   "metadata": {
    "scrolled": true
   },
   "outputs": [
    {
     "data": {
      "text/plain": [
       "Pipeline(memory=None,\n",
       "     steps=[('count_vectorizer', CountVectorizer(analyzer='word', binary=False, decode_error='strict',\n",
       "        dtype=<class 'numpy.int64'>, encoding='utf-8', input='content',\n",
       "        lowercase=True, max_df=1.0, max_features=None, min_df=1,\n",
       "        ngram_range=(1, 1), preprocessor=None, stop_words=None,\n",
       " ...inear_tf=False, use_idf=True)), ('clf', MultinomialNB(alpha=1.0, class_prior=None, fit_prior=True))])"
      ]
     },
     "execution_count": 120,
     "metadata": {},
     "output_type": "execute_result"
    }
   ],
   "source": [
    "pipe_NB = Pipeline([('count_vectorizer', CountVectorizer()), \n",
    "                     ('tfidf_vectorizer', TfidfTransformer()),\n",
    "                     ('clf', MultinomialNB())\n",
    "                    ])\n",
    "\n",
    "pipe_NB.fit(X_train, y_train)"
   ]
  },
  {
   "cell_type": "code",
   "execution_count": 121,
   "metadata": {},
   "outputs": [
    {
     "data": {
      "text/plain": [
       "array(['Country', 'Electronic', 'Hip-Hop', 'Jazz', 'Metal', 'Pop', 'R&B',\n",
       "       'Rock'], dtype='<U10')"
      ]
     },
     "execution_count": 121,
     "metadata": {},
     "output_type": "execute_result"
    }
   ],
   "source": [
    "classes = pipe_NB.classes_\n",
    "classes"
   ]
  },
  {
   "cell_type": "code",
   "execution_count": 126,
   "metadata": {},
   "outputs": [],
   "source": [
    "NB_df = pd.DataFrame(lemmed_basic_scores[0][2], columns = [item + \"_NB\" for item in classes])"
   ]
  },
  {
   "cell_type": "code",
   "execution_count": 128,
   "metadata": {},
   "outputs": [],
   "source": [
    "#pipeline_names = ['Multinomail NB', \"Gboost\", 'Random Forest', 'ADA', \"KNN\"]\n",
    "GB_df = pd.DataFrame(lemmed_basic_scores[1][2], columns = [item + \"_GB\" for item in classes])\n",
    "RF_df = pd.DataFrame(lemmed_basic_scores[2][2], columns = [item + \"_RF\" for item in classes])\n",
    "ADA_df = pd.DataFrame(lemmed_basic_scores[3][2], columns = [item + \"_ADA\" for item in classes])\n",
    "KNN_df = pd.DataFrame(lemmed_basic_scores[4][2], columns = [item + \"_KNN\" for item in classes])"
   ]
  },
  {
   "cell_type": "code",
   "execution_count": 307,
   "metadata": {},
   "outputs": [],
   "source": [
    "super_train = NB_df.join([GB_df, RF_df, ADA_df, KNN_df])"
   ]
  },
  {
   "cell_type": "code",
   "execution_count": 465,
   "metadata": {},
   "outputs": [],
   "source": [
    "testing = (lemmed_basic_scores[1][2] + lemmed_basic_scores[0][2] +lemmed_basic_scores[4][2])/5"
   ]
  },
  {
   "cell_type": "code",
   "execution_count": 466,
   "metadata": {},
   "outputs": [
    {
     "data": {
      "text/plain": [
       "array([[1.19862074e-02, 1.10356134e-02, 9.39686620e-01, ...,\n",
       "        8.54686996e-03, 9.38740305e-03, 8.69703690e-03],\n",
       "       [8.60503466e-01, 1.43002745e-02, 3.54763879e-03, ...,\n",
       "        2.11195345e-02, 3.11826190e-02, 3.20384508e-02],\n",
       "       [1.30037461e-01, 2.09675477e-01, 2.01895120e-02, ...,\n",
       "        1.69374418e-01, 1.08415795e-01, 1.88937760e-01],\n",
       "       ...,\n",
       "       [1.01013477e-03, 1.64106901e-03, 8.93312931e-04, ...,\n",
       "        9.90845243e-01, 2.91436214e-03, 1.55959084e-03],\n",
       "       [6.82577470e-02, 6.04186540e-02, 8.54629349e-03, ...,\n",
       "        6.45270023e-02, 1.55960154e-01, 9.13638346e-02],\n",
       "       [8.07281724e-02, 6.96532233e-02, 5.11604082e-03, ...,\n",
       "        6.50685322e-02, 5.58222506e-02, 9.53661141e-02]])"
      ]
     },
     "execution_count": 466,
     "metadata": {},
     "output_type": "execute_result"
    }
   ],
   "source": [
    "lemmed_basic_scores[1][2]"
   ]
  },
  {
   "cell_type": "code",
   "execution_count": 467,
   "metadata": {},
   "outputs": [],
   "source": [
    "testing[0]\n",
    "test_train =  pd.DataFrame(testing, columns = [item + \"_AVG\" for item in classes])"
   ]
  },
  {
   "cell_type": "code",
   "execution_count": 468,
   "metadata": {},
   "outputs": [
    {
     "data": {
      "text/html": [
       "<div>\n",
       "<style scoped>\n",
       "    .dataframe tbody tr th:only-of-type {\n",
       "        vertical-align: middle;\n",
       "    }\n",
       "\n",
       "    .dataframe tbody tr th {\n",
       "        vertical-align: top;\n",
       "    }\n",
       "\n",
       "    .dataframe thead th {\n",
       "        text-align: right;\n",
       "    }\n",
       "</style>\n",
       "<table border=\"1\" class=\"dataframe\">\n",
       "  <thead>\n",
       "    <tr style=\"text-align: right;\">\n",
       "      <th></th>\n",
       "      <th>Country_AVG</th>\n",
       "      <th>Electronic_AVG</th>\n",
       "      <th>Hip-Hop_AVG</th>\n",
       "      <th>Jazz_AVG</th>\n",
       "      <th>Metal_AVG</th>\n",
       "      <th>Pop_AVG</th>\n",
       "      <th>R&amp;B_AVG</th>\n",
       "      <th>Rock_AVG</th>\n",
       "    </tr>\n",
       "  </thead>\n",
       "  <tbody>\n",
       "    <tr>\n",
       "      <th>0</th>\n",
       "      <td>0.007531</td>\n",
       "      <td>0.004267</td>\n",
       "      <td>0.392421</td>\n",
       "      <td>0.003678</td>\n",
       "      <td>0.002317</td>\n",
       "      <td>0.165763</td>\n",
       "      <td>0.009729</td>\n",
       "      <td>0.014294</td>\n",
       "    </tr>\n",
       "    <tr>\n",
       "      <th>1</th>\n",
       "      <td>0.297680</td>\n",
       "      <td>0.050824</td>\n",
       "      <td>0.032350</td>\n",
       "      <td>0.015029</td>\n",
       "      <td>0.045882</td>\n",
       "      <td>0.095560</td>\n",
       "      <td>0.027180</td>\n",
       "      <td>0.035495</td>\n",
       "    </tr>\n",
       "    <tr>\n",
       "      <th>2</th>\n",
       "      <td>0.047852</td>\n",
       "      <td>0.102524</td>\n",
       "      <td>0.033544</td>\n",
       "      <td>0.031087</td>\n",
       "      <td>0.021773</td>\n",
       "      <td>0.222684</td>\n",
       "      <td>0.049675</td>\n",
       "      <td>0.090862</td>\n",
       "    </tr>\n",
       "    <tr>\n",
       "      <th>3</th>\n",
       "      <td>0.049647</td>\n",
       "      <td>0.219394</td>\n",
       "      <td>0.018336</td>\n",
       "      <td>0.041879</td>\n",
       "      <td>0.048866</td>\n",
       "      <td>0.111782</td>\n",
       "      <td>0.049297</td>\n",
       "      <td>0.060799</td>\n",
       "    </tr>\n",
       "    <tr>\n",
       "      <th>4</th>\n",
       "      <td>0.032998</td>\n",
       "      <td>0.027754</td>\n",
       "      <td>0.015483</td>\n",
       "      <td>0.295460</td>\n",
       "      <td>0.003745</td>\n",
       "      <td>0.033088</td>\n",
       "      <td>0.164579</td>\n",
       "      <td>0.026893</td>\n",
       "    </tr>\n",
       "  </tbody>\n",
       "</table>\n",
       "</div>"
      ],
      "text/plain": [
       "   Country_AVG  Electronic_AVG  Hip-Hop_AVG  Jazz_AVG  Metal_AVG   Pop_AVG  \\\n",
       "0     0.007531        0.004267     0.392421  0.003678   0.002317  0.165763   \n",
       "1     0.297680        0.050824     0.032350  0.015029   0.045882  0.095560   \n",
       "2     0.047852        0.102524     0.033544  0.031087   0.021773  0.222684   \n",
       "3     0.049647        0.219394     0.018336  0.041879   0.048866  0.111782   \n",
       "4     0.032998        0.027754     0.015483  0.295460   0.003745  0.033088   \n",
       "\n",
       "    R&B_AVG  Rock_AVG  \n",
       "0  0.009729  0.014294  \n",
       "1  0.027180  0.035495  \n",
       "2  0.049675  0.090862  \n",
       "3  0.049297  0.060799  \n",
       "4  0.164579  0.026893  "
      ]
     },
     "execution_count": 468,
     "metadata": {},
     "output_type": "execute_result"
    }
   ],
   "source": [
    "test_train.shape\n",
    "test_train.head()"
   ]
  },
  {
   "cell_type": "code",
   "execution_count": 469,
   "metadata": {
    "scrolled": false
   },
   "outputs": [
    {
     "data": {
      "text/html": [
       "<div>\n",
       "<style scoped>\n",
       "    .dataframe tbody tr th:only-of-type {\n",
       "        vertical-align: middle;\n",
       "    }\n",
       "\n",
       "    .dataframe tbody tr th {\n",
       "        vertical-align: top;\n",
       "    }\n",
       "\n",
       "    .dataframe thead th {\n",
       "        text-align: right;\n",
       "    }\n",
       "</style>\n",
       "<table border=\"1\" class=\"dataframe\">\n",
       "  <thead>\n",
       "    <tr style=\"text-align: right;\">\n",
       "      <th></th>\n",
       "      <th>Country_NB</th>\n",
       "      <th>Electronic_NB</th>\n",
       "      <th>Hip-Hop_NB</th>\n",
       "      <th>Jazz_NB</th>\n",
       "      <th>Metal_NB</th>\n",
       "      <th>Pop_NB</th>\n",
       "      <th>R&amp;B_NB</th>\n",
       "      <th>Rock_NB</th>\n",
       "      <th>Country_GB</th>\n",
       "      <th>Electronic_GB</th>\n",
       "      <th>...</th>\n",
       "      <th>R&amp;B_ADA</th>\n",
       "      <th>Rock_ADA</th>\n",
       "      <th>Country_KNN</th>\n",
       "      <th>Electronic_KNN</th>\n",
       "      <th>Hip-Hop_KNN</th>\n",
       "      <th>Jazz_KNN</th>\n",
       "      <th>Metal_KNN</th>\n",
       "      <th>Pop_KNN</th>\n",
       "      <th>R&amp;B_KNN</th>\n",
       "      <th>Rock_KNN</th>\n",
       "    </tr>\n",
       "  </thead>\n",
       "  <tbody>\n",
       "    <tr>\n",
       "      <th>0</th>\n",
       "      <td>0.025667</td>\n",
       "      <td>0.010300</td>\n",
       "      <td>0.822417</td>\n",
       "      <td>0.012345</td>\n",
       "      <td>0.006972</td>\n",
       "      <td>0.020270</td>\n",
       "      <td>0.039256</td>\n",
       "      <td>0.062773</td>\n",
       "      <td>0.011986</td>\n",
       "      <td>0.011036</td>\n",
       "      <td>...</td>\n",
       "      <td>0.133075</td>\n",
       "      <td>0.128044</td>\n",
       "      <td>0.0</td>\n",
       "      <td>0.0</td>\n",
       "      <td>0.2</td>\n",
       "      <td>0.0</td>\n",
       "      <td>0.0</td>\n",
       "      <td>0.8</td>\n",
       "      <td>0.0</td>\n",
       "      <td>0.0</td>\n",
       "    </tr>\n",
       "    <tr>\n",
       "      <th>1</th>\n",
       "      <td>0.427898</td>\n",
       "      <td>0.039818</td>\n",
       "      <td>0.158202</td>\n",
       "      <td>0.050648</td>\n",
       "      <td>0.016601</td>\n",
       "      <td>0.056680</td>\n",
       "      <td>0.104715</td>\n",
       "      <td>0.145437</td>\n",
       "      <td>0.860503</td>\n",
       "      <td>0.014300</td>\n",
       "      <td>...</td>\n",
       "      <td>0.114118</td>\n",
       "      <td>0.113262</td>\n",
       "      <td>0.2</td>\n",
       "      <td>0.2</td>\n",
       "      <td>0.0</td>\n",
       "      <td>0.0</td>\n",
       "      <td>0.2</td>\n",
       "      <td>0.4</td>\n",
       "      <td>0.0</td>\n",
       "      <td>0.0</td>\n",
       "    </tr>\n",
       "    <tr>\n",
       "      <th>2</th>\n",
       "      <td>0.109221</td>\n",
       "      <td>0.102946</td>\n",
       "      <td>0.147528</td>\n",
       "      <td>0.060064</td>\n",
       "      <td>0.030866</td>\n",
       "      <td>0.144044</td>\n",
       "      <td>0.139958</td>\n",
       "      <td>0.265374</td>\n",
       "      <td>0.130037</td>\n",
       "      <td>0.209675</td>\n",
       "      <td>...</td>\n",
       "      <td>0.127512</td>\n",
       "      <td>0.129595</td>\n",
       "      <td>0.0</td>\n",
       "      <td>0.2</td>\n",
       "      <td>0.0</td>\n",
       "      <td>0.0</td>\n",
       "      <td>0.0</td>\n",
       "      <td>0.8</td>\n",
       "      <td>0.0</td>\n",
       "      <td>0.0</td>\n",
       "    </tr>\n",
       "    <tr>\n",
       "      <th>3</th>\n",
       "      <td>0.197150</td>\n",
       "      <td>0.115639</td>\n",
       "      <td>0.083729</td>\n",
       "      <td>0.099353</td>\n",
       "      <td>0.026698</td>\n",
       "      <td>0.098759</td>\n",
       "      <td>0.193788</td>\n",
       "      <td>0.184885</td>\n",
       "      <td>0.051086</td>\n",
       "      <td>0.581329</td>\n",
       "      <td>...</td>\n",
       "      <td>0.128051</td>\n",
       "      <td>0.128563</td>\n",
       "      <td>0.0</td>\n",
       "      <td>0.4</td>\n",
       "      <td>0.0</td>\n",
       "      <td>0.0</td>\n",
       "      <td>0.2</td>\n",
       "      <td>0.4</td>\n",
       "      <td>0.0</td>\n",
       "      <td>0.0</td>\n",
       "    </tr>\n",
       "    <tr>\n",
       "      <th>4</th>\n",
       "      <td>0.126288</td>\n",
       "      <td>0.093870</td>\n",
       "      <td>0.056473</td>\n",
       "      <td>0.250081</td>\n",
       "      <td>0.006680</td>\n",
       "      <td>0.101488</td>\n",
       "      <td>0.278192</td>\n",
       "      <td>0.086928</td>\n",
       "      <td>0.038703</td>\n",
       "      <td>0.044898</td>\n",
       "      <td>...</td>\n",
       "      <td>0.128602</td>\n",
       "      <td>0.128738</td>\n",
       "      <td>0.0</td>\n",
       "      <td>0.0</td>\n",
       "      <td>0.0</td>\n",
       "      <td>0.6</td>\n",
       "      <td>0.0</td>\n",
       "      <td>0.0</td>\n",
       "      <td>0.4</td>\n",
       "      <td>0.0</td>\n",
       "    </tr>\n",
       "  </tbody>\n",
       "</table>\n",
       "<p>5 rows × 40 columns</p>\n",
       "</div>"
      ],
      "text/plain": [
       "   Country_NB  Electronic_NB  Hip-Hop_NB   Jazz_NB  Metal_NB    Pop_NB  \\\n",
       "0    0.025667       0.010300    0.822417  0.012345  0.006972  0.020270   \n",
       "1    0.427898       0.039818    0.158202  0.050648  0.016601  0.056680   \n",
       "2    0.109221       0.102946    0.147528  0.060064  0.030866  0.144044   \n",
       "3    0.197150       0.115639    0.083729  0.099353  0.026698  0.098759   \n",
       "4    0.126288       0.093870    0.056473  0.250081  0.006680  0.101488   \n",
       "\n",
       "     R&B_NB   Rock_NB  Country_GB  Electronic_GB    ...      R&B_ADA  \\\n",
       "0  0.039256  0.062773    0.011986       0.011036    ...     0.133075   \n",
       "1  0.104715  0.145437    0.860503       0.014300    ...     0.114118   \n",
       "2  0.139958  0.265374    0.130037       0.209675    ...     0.127512   \n",
       "3  0.193788  0.184885    0.051086       0.581329    ...     0.128051   \n",
       "4  0.278192  0.086928    0.038703       0.044898    ...     0.128602   \n",
       "\n",
       "   Rock_ADA  Country_KNN  Electronic_KNN  Hip-Hop_KNN  Jazz_KNN  Metal_KNN  \\\n",
       "0  0.128044          0.0             0.0          0.2       0.0        0.0   \n",
       "1  0.113262          0.2             0.2          0.0       0.0        0.2   \n",
       "2  0.129595          0.0             0.2          0.0       0.0        0.0   \n",
       "3  0.128563          0.0             0.4          0.0       0.0        0.2   \n",
       "4  0.128738          0.0             0.0          0.0       0.6        0.0   \n",
       "\n",
       "   Pop_KNN  R&B_KNN  Rock_KNN  \n",
       "0      0.8      0.0       0.0  \n",
       "1      0.4      0.0       0.0  \n",
       "2      0.8      0.0       0.0  \n",
       "3      0.4      0.0       0.0  \n",
       "4      0.0      0.4       0.0  \n",
       "\n",
       "[5 rows x 40 columns]"
      ]
     },
     "execution_count": 469,
     "metadata": {},
     "output_type": "execute_result"
    }
   ],
   "source": [
    "super_train.head(5)"
   ]
  },
  {
   "cell_type": "code",
   "execution_count": 470,
   "metadata": {},
   "outputs": [],
   "source": [
    "from sklearn.model_selection import train_test_split  \n",
    "X_train, X_test, y_train, y_test = train_test_split(lemmed_lyrics, maybe_df.genre, test_size=0.2, random_state=18) "
   ]
  },
  {
   "cell_type": "code",
   "execution_count": 147,
   "metadata": {},
   "outputs": [
    {
     "name": "stderr",
     "output_type": "stream",
     "text": [
      "Using TensorFlow backend.\n"
     ]
    }
   ],
   "source": [
    "import matplotlib.pyplot as plt\n",
    "import pandas as pd\n",
    "import numpy as np\n",
    "import random\n",
    "from sklearn.model_selection import train_test_split\n",
    "from keras.utils.np_utils import to_categorical\n",
    "from sklearn import preprocessing\n",
    "from keras.preprocessing.text import Tokenizer\n",
    "from keras import models\n",
    "from keras import layers\n",
    "from keras import optimizers"
   ]
  },
  {
   "cell_type": "code",
   "execution_count": 471,
   "metadata": {
    "scrolled": false
   },
   "outputs": [
    {
     "name": "stdout",
     "output_type": "stream",
     "text": [
      "Original class labels:\n",
      "['Country', 'Electronic', 'Hip-Hop', 'Jazz', 'Metal', 'Pop', 'R&B', 'Rock']\n",
      "\n",
      "\n",
      "New product labels:\n",
      "[2 0 5 ... 5 3 4]\n",
      "\n",
      "\n",
      "One hot labels; 7 binary columns, one for each of the categories.\n",
      "[[0. 0. 1. ... 0. 0. 0.]\n",
      " [1. 0. 0. ... 0. 0. 0.]\n",
      " [0. 0. 0. ... 1. 0. 0.]\n",
      " ...\n",
      " [0. 0. 0. ... 1. 0. 0.]\n",
      " [0. 0. 0. ... 0. 0. 0.]\n",
      " [0. 0. 0. ... 0. 0. 0.]]\n",
      "\n",
      "\n",
      "One hot labels shape:\n",
      "(5760, 8)\n"
     ]
    }
   ],
   "source": [
    "#Converting y_test to categorical\n",
    "\n",
    "product = y_train\n",
    "\n",
    "le = preprocessing.LabelEncoder() #Initialize. le used as abbreviation fo label encoder\n",
    "le.fit(product)\n",
    "print(\"Original class labels:\")\n",
    "print(list(le.classes_))\n",
    "print('\\n')\n",
    "product_cat = le.transform(product)  \n",
    "#list(le.inverse_transform([0, 1, 3, 3, 0, 6, 4])) #If you wish to retrieve the original descriptive labels post production\n",
    "\n",
    "print('New product labels:')\n",
    "print(product_cat)\n",
    "print('\\n')\n",
    "\n",
    "\n",
    "print('One hot labels; 7 binary columns, one for each of the categories.') #Each row will be all zeros except for the category for that observation.\n",
    "product_onehot = to_categorical(product_cat)\n",
    "print(product_onehot)\n",
    "print('\\n')\n",
    "\n",
    "print('One hot labels shape:')\n",
    "print(np.shape(product_onehot))"
   ]
  },
  {
   "cell_type": "code",
   "execution_count": 472,
   "metadata": {
    "scrolled": true
   },
   "outputs": [
    {
     "name": "stdout",
     "output_type": "stream",
     "text": [
      "(4000, 8) (1000, 8) (4000, 8) (1000, 8)\n"
     ]
    },
    {
     "data": {
      "text/plain": [
       "array([[0., 1., 0., ..., 0., 0., 0.],\n",
       "       [0., 0., 1., ..., 0., 0., 0.],\n",
       "       [0., 0., 0., ..., 1., 0., 0.],\n",
       "       ...,\n",
       "       [0., 0., 0., ..., 0., 1., 0.],\n",
       "       [0., 0., 0., ..., 0., 0., 0.],\n",
       "       [0., 0., 0., ..., 0., 0., 0.]], dtype=float32)"
      ]
     },
     "execution_count": 472,
     "metadata": {},
     "output_type": "execute_result"
    }
   ],
   "source": [
    "X_train, X_test, y_train, y_test = train_test_split(test_train[:5000], product_onehot[:5000], test_size=0.2, random_state=123)  \n",
    "\n",
    "# X_train = X_train.reset_index(drop=True)\n",
    "# y_train = y_train.reset_index(drop=True)  \n",
    "\n",
    "\n",
    "print(X_train.shape, X_test.shape, y_train.shape, y_test.shape)\n",
    "y_train"
   ]
  },
  {
   "cell_type": "code",
   "execution_count": 473,
   "metadata": {},
   "outputs": [],
   "source": [
    "#instantiate NN mmodel\n",
    "\n",
    "random.seed(123)\n",
    "from keras import models\n",
    "from keras import layers\n",
    "model = models.Sequential()\n",
    "model.add(layers.Dense(5, input_dim=8, kernel_initializer='normal', activation='tanh')) #2 hidden layers\n",
    "model.add(layers.Dense(2, activation='tanh'))\n",
    "model.add(layers.Dense(8, activation='softmax'))"
   ]
  },
  {
   "cell_type": "code",
   "execution_count": 474,
   "metadata": {},
   "outputs": [],
   "source": [
    "model.compile(optimizer='SGD',\n",
    "              loss='categorical_crossentropy',\n",
    "              metrics=['accuracy'])"
   ]
  },
  {
   "cell_type": "code",
   "execution_count": 480,
   "metadata": {
    "scrolled": false
   },
   "outputs": [
    {
     "name": "stdout",
     "output_type": "stream",
     "text": [
      "Train on 4000 samples, validate on 1000 samples\n",
      "Epoch 1/50\n",
      "4000/4000 [==============================] - 0s 30us/step - loss: 0.8386 - acc: 0.7183 - val_loss: 0.8364 - val_acc: 0.7260\n",
      "Epoch 2/50\n",
      "4000/4000 [==============================] - 0s 35us/step - loss: 0.8361 - acc: 0.7170 - val_loss: 0.8330 - val_acc: 0.7250\n",
      "Epoch 3/50\n",
      "4000/4000 [==============================] - 0s 34us/step - loss: 0.8341 - acc: 0.7170 - val_loss: 0.8306 - val_acc: 0.7310\n",
      "Epoch 4/50\n",
      "4000/4000 [==============================] - 0s 33us/step - loss: 0.8321 - acc: 0.7207 - val_loss: 0.8307 - val_acc: 0.7310\n",
      "Epoch 5/50\n",
      "4000/4000 [==============================] - 0s 31us/step - loss: 0.8300 - acc: 0.7210 - val_loss: 0.8269 - val_acc: 0.7310\n",
      "Epoch 6/50\n",
      "4000/4000 [==============================] - 0s 32us/step - loss: 0.8281 - acc: 0.7240 - val_loss: 0.8240 - val_acc: 0.7260\n",
      "Epoch 7/50\n",
      "4000/4000 [==============================] - 0s 35us/step - loss: 0.8260 - acc: 0.7252 - val_loss: 0.8212 - val_acc: 0.7290\n",
      "Epoch 8/50\n",
      "4000/4000 [==============================] - 0s 34us/step - loss: 0.8240 - acc: 0.7260 - val_loss: 0.8205 - val_acc: 0.7320\n",
      "Epoch 9/50\n",
      "4000/4000 [==============================] - 0s 33us/step - loss: 0.8218 - acc: 0.7290 - val_loss: 0.8179 - val_acc: 0.7280\n",
      "Epoch 10/50\n",
      "4000/4000 [==============================] - 0s 33us/step - loss: 0.8196 - acc: 0.7245 - val_loss: 0.8181 - val_acc: 0.7360\n",
      "Epoch 11/50\n",
      "4000/4000 [==============================] - 0s 34us/step - loss: 0.8176 - acc: 0.7317 - val_loss: 0.8129 - val_acc: 0.7340\n",
      "Epoch 12/50\n",
      "4000/4000 [==============================] - 0s 33us/step - loss: 0.8154 - acc: 0.7298 - val_loss: 0.8124 - val_acc: 0.7330\n",
      "Epoch 13/50\n",
      "4000/4000 [==============================] - 0s 34us/step - loss: 0.8135 - acc: 0.7325 - val_loss: 0.8134 - val_acc: 0.7350\n",
      "Epoch 14/50\n",
      "4000/4000 [==============================] - 0s 34us/step - loss: 0.8117 - acc: 0.7347 - val_loss: 0.8092 - val_acc: 0.7420\n",
      "Epoch 15/50\n",
      "4000/4000 [==============================] - 0s 34us/step - loss: 0.8095 - acc: 0.7362 - val_loss: 0.8072 - val_acc: 0.7400\n",
      "Epoch 16/50\n",
      "4000/4000 [==============================] - 0s 31us/step - loss: 0.8076 - acc: 0.7362 - val_loss: 0.8035 - val_acc: 0.7370\n",
      "Epoch 17/50\n",
      "4000/4000 [==============================] - 0s 36us/step - loss: 0.8064 - acc: 0.7388 - val_loss: 0.8017 - val_acc: 0.7440\n",
      "Epoch 18/50\n",
      "4000/4000 [==============================] - 0s 35us/step - loss: 0.8042 - acc: 0.7360 - val_loss: 0.8005 - val_acc: 0.7460\n",
      "Epoch 19/50\n",
      "4000/4000 [==============================] - 0s 33us/step - loss: 0.8026 - acc: 0.7390 - val_loss: 0.7984 - val_acc: 0.7510\n",
      "Epoch 20/50\n",
      "4000/4000 [==============================] - 0s 34us/step - loss: 0.8005 - acc: 0.7393 - val_loss: 0.7966 - val_acc: 0.7520\n",
      "Epoch 21/50\n",
      "4000/4000 [==============================] - 0s 35us/step - loss: 0.7989 - acc: 0.7425 - val_loss: 0.7941 - val_acc: 0.7510\n",
      "Epoch 22/50\n",
      "4000/4000 [==============================] - 0s 34us/step - loss: 0.7970 - acc: 0.7440 - val_loss: 0.7966 - val_acc: 0.7510\n",
      "Epoch 23/50\n",
      "4000/4000 [==============================] - 0s 34us/step - loss: 0.7954 - acc: 0.7462 - val_loss: 0.7913 - val_acc: 0.7540\n",
      "Epoch 24/50\n",
      "4000/4000 [==============================] - 0s 37us/step - loss: 0.7937 - acc: 0.7475 - val_loss: 0.7906 - val_acc: 0.7580\n",
      "Epoch 25/50\n",
      "4000/4000 [==============================] - 0s 39us/step - loss: 0.7924 - acc: 0.7485 - val_loss: 0.7886 - val_acc: 0.7530\n",
      "Epoch 26/50\n",
      "4000/4000 [==============================] - 0s 32us/step - loss: 0.7903 - acc: 0.7498 - val_loss: 0.7868 - val_acc: 0.7520\n",
      "Epoch 27/50\n",
      "4000/4000 [==============================] - 0s 34us/step - loss: 0.7888 - acc: 0.7483 - val_loss: 0.7837 - val_acc: 0.7530\n",
      "Epoch 28/50\n",
      "4000/4000 [==============================] - 0s 33us/step - loss: 0.7874 - acc: 0.7493 - val_loss: 0.7831 - val_acc: 0.7620\n",
      "Epoch 29/50\n",
      "4000/4000 [==============================] - 0s 36us/step - loss: 0.7852 - acc: 0.7522 - val_loss: 0.7809 - val_acc: 0.7600\n",
      "Epoch 30/50\n",
      "4000/4000 [==============================] - 0s 33us/step - loss: 0.7839 - acc: 0.7545 - val_loss: 0.7823 - val_acc: 0.7520\n",
      "Epoch 31/50\n",
      "4000/4000 [==============================] - 0s 34us/step - loss: 0.7828 - acc: 0.7508 - val_loss: 0.7791 - val_acc: 0.7570\n",
      "Epoch 32/50\n",
      "4000/4000 [==============================] - 0s 36us/step - loss: 0.7809 - acc: 0.7520 - val_loss: 0.7772 - val_acc: 0.7580\n",
      "Epoch 33/50\n",
      "4000/4000 [==============================] - 0s 35us/step - loss: 0.7790 - acc: 0.7555 - val_loss: 0.7757 - val_acc: 0.7630\n",
      "Epoch 34/50\n",
      "4000/4000 [==============================] - 0s 34us/step - loss: 0.7782 - acc: 0.7570 - val_loss: 0.7738 - val_acc: 0.7610\n",
      "Epoch 35/50\n",
      "4000/4000 [==============================] - 0s 32us/step - loss: 0.7765 - acc: 0.7568 - val_loss: 0.7713 - val_acc: 0.7600\n",
      "Epoch 36/50\n",
      "4000/4000 [==============================] - 0s 31us/step - loss: 0.7753 - acc: 0.7580 - val_loss: 0.7706 - val_acc: 0.7650\n",
      "Epoch 37/50\n",
      "4000/4000 [==============================] - 0s 32us/step - loss: 0.7735 - acc: 0.7590 - val_loss: 0.7717 - val_acc: 0.7590\n",
      "Epoch 38/50\n",
      "4000/4000 [==============================] - 0s 36us/step - loss: 0.7721 - acc: 0.7583 - val_loss: 0.7671 - val_acc: 0.7690\n",
      "Epoch 39/50\n",
      "4000/4000 [==============================] - 0s 34us/step - loss: 0.7710 - acc: 0.7590 - val_loss: 0.7662 - val_acc: 0.7710\n",
      "Epoch 40/50\n",
      "4000/4000 [==============================] - 0s 32us/step - loss: 0.7694 - acc: 0.7635 - val_loss: 0.7646 - val_acc: 0.7690\n",
      "Epoch 41/50\n",
      "4000/4000 [==============================] - 0s 33us/step - loss: 0.7681 - acc: 0.7665 - val_loss: 0.7641 - val_acc: 0.7660\n",
      "Epoch 42/50\n",
      "4000/4000 [==============================] - 0s 33us/step - loss: 0.7669 - acc: 0.7640 - val_loss: 0.7648 - val_acc: 0.7630\n",
      "Epoch 43/50\n",
      "4000/4000 [==============================] - 0s 32us/step - loss: 0.7652 - acc: 0.7645 - val_loss: 0.7605 - val_acc: 0.7740\n",
      "Epoch 44/50\n",
      "4000/4000 [==============================] - 0s 35us/step - loss: 0.7641 - acc: 0.7670 - val_loss: 0.7596 - val_acc: 0.7810\n",
      "Epoch 45/50\n",
      "4000/4000 [==============================] - 0s 33us/step - loss: 0.7623 - acc: 0.7695 - val_loss: 0.7575 - val_acc: 0.7720\n",
      "Epoch 46/50\n",
      "4000/4000 [==============================] - 0s 33us/step - loss: 0.7612 - acc: 0.7688 - val_loss: 0.7596 - val_acc: 0.7780\n",
      "Epoch 47/50\n",
      "4000/4000 [==============================] - 0s 32us/step - loss: 0.7601 - acc: 0.7708 - val_loss: 0.7549 - val_acc: 0.7790\n",
      "Epoch 48/50\n",
      "4000/4000 [==============================] - 0s 34us/step - loss: 0.7584 - acc: 0.7722 - val_loss: 0.7546 - val_acc: 0.7810\n",
      "Epoch 49/50\n",
      "4000/4000 [==============================] - 0s 35us/step - loss: 0.7576 - acc: 0.7748 - val_loss: 0.7534 - val_acc: 0.7850\n",
      "Epoch 50/50\n",
      "4000/4000 [==============================] - 0s 33us/step - loss: 0.7560 - acc: 0.7730 - val_loss: 0.7535 - val_acc: 0.7820\n"
     ]
    }
   ],
   "source": [
    "model_val = model.fit(X_train,\n",
    "                    y_train,\n",
    "                    epochs=50,\n",
    "                    batch_size=48,\n",
    "                    validation_data=(X_test, y_test))"
   ]
  },
  {
   "cell_type": "code",
   "execution_count": 481,
   "metadata": {
    "scrolled": false
   },
   "outputs": [
    {
     "name": "stdout",
     "output_type": "stream",
     "text": [
      "960/960 [==============================] - 0s 22us/step\n"
     ]
    },
    {
     "data": {
      "text/plain": [
       "[0.7743071138858795, 0.746875]"
      ]
     },
     "execution_count": 481,
     "metadata": {},
     "output_type": "execute_result"
    }
   ],
   "source": [
    "validation_score = model.evaluate(test_train[4800:], product_onehot[4800:])\n",
    "validation_score"
   ]
  },
  {
   "cell_type": "code",
   "execution_count": 482,
   "metadata": {},
   "outputs": [],
   "source": [
    "y_hat = model.predict_classes(test_train[4800:])"
   ]
  },
  {
   "cell_type": "code",
   "execution_count": 483,
   "metadata": {},
   "outputs": [
    {
     "data": {
      "text/plain": [
       "['Jazz',\n",
       " 'Hip-Hop',\n",
       " 'Electronic',\n",
       " 'Hip-Hop',\n",
       " 'Electronic',\n",
       " 'Hip-Hop',\n",
       " 'Metal',\n",
       " 'Country',\n",
       " 'Electronic',\n",
       " 'Metal']"
      ]
     },
     "execution_count": 483,
     "metadata": {},
     "output_type": "execute_result"
    }
   ],
   "source": [
    "tryit = list(le.inverse_transform(y_hat))\n",
    "tryit[-10:]"
   ]
  },
  {
   "cell_type": "code",
   "execution_count": 484,
   "metadata": {},
   "outputs": [
    {
     "data": {
      "text/plain": [
       "[3, 2, 1, 2, 1, 5, 4, 5, 3, 4]"
      ]
     },
     "execution_count": 484,
     "metadata": {},
     "output_type": "execute_result"
    }
   ],
   "source": [
    "actual = [np.where(item == 1)[0][0] for item in product_onehot[4800:]]\n",
    "actual[-10:]"
   ]
  },
  {
   "cell_type": "code",
   "execution_count": 485,
   "metadata": {},
   "outputs": [
    {
     "data": {
      "text/plain": [
       "['Jazz',\n",
       " 'Hip-Hop',\n",
       " 'Electronic',\n",
       " 'Hip-Hop',\n",
       " 'Electronic',\n",
       " 'Pop',\n",
       " 'Metal',\n",
       " 'Pop',\n",
       " 'Jazz',\n",
       " 'Metal']"
      ]
     },
     "execution_count": 485,
     "metadata": {},
     "output_type": "execute_result"
    }
   ],
   "source": [
    "actual_genre = list(le.inverse_transform(actual))\n",
    "actual_genre[-10:]"
   ]
  },
  {
   "cell_type": "code",
   "execution_count": 486,
   "metadata": {},
   "outputs": [
    {
     "data": {
      "text/plain": [
       "0.746875"
      ]
     },
     "execution_count": 486,
     "metadata": {},
     "output_type": "execute_result"
    }
   ],
   "source": [
    "count = 0\n",
    "for item in list(zip(tryit, actual_genre)):\n",
    "        if item[0] == item[1]:\n",
    "            count += 1\n",
    "            \n",
    "count/len(tryit)"
   ]
  },
  {
   "cell_type": "code",
   "execution_count": 198,
   "metadata": {},
   "outputs": [
    {
     "data": {
      "text/plain": [
       "dict_keys(['loss', 'acc'])"
      ]
     },
     "execution_count": 198,
     "metadata": {},
     "output_type": "execute_result"
    }
   ],
   "source": [
    "model_val_dict = model_val.history\n",
    "model_val_dict.keys()"
   ]
  },
  {
   "cell_type": "code",
   "execution_count": 199,
   "metadata": {},
   "outputs": [
    {
     "name": "stdout",
     "output_type": "stream",
     "text": [
      "4608/4608 [==============================] - 0s 23us/step\n"
     ]
    },
    {
     "data": {
      "text/plain": [
       "[0.17896588953832784, 0.98828125]"
      ]
     },
     "execution_count": 199,
     "metadata": {},
     "output_type": "execute_result"
    }
   ],
   "source": [
    "results_train = model.evaluate(X_train, y_train)\n",
    "results_train"
   ]
  },
  {
   "cell_type": "code",
   "execution_count": 223,
   "metadata": {},
   "outputs": [
    {
     "name": "stdout",
     "output_type": "stream",
     "text": [
      "1152/1152 [==============================] - 0s 18us/step\n"
     ]
    },
    {
     "data": {
      "text/plain": [
       "[0.054486993428630136, 0.9869791666666666]"
      ]
     },
     "execution_count": 223,
     "metadata": {},
     "output_type": "execute_result"
    }
   ],
   "source": [
    "results_test = model.evaluate(X_test, y_test)\n",
    "results_test"
   ]
  },
  {
   "cell_type": "code",
   "execution_count": 193,
   "metadata": {},
   "outputs": [
    {
     "name": "stdout",
     "output_type": "stream",
     "text": [
      "2.384185791015625e-06\n"
     ]
    }
   ],
   "source": [
    "y_hat_test = model.predict(X_test)\n",
    "result = y_test - y_hat_test\n",
    "print(sum(sum(result)))"
   ]
  },
  {
   "cell_type": "code",
   "execution_count": 169,
   "metadata": {},
   "outputs": [],
   "source": [
    "from sklearn.model_selection import train_test_split  \n",
    "X_train, X_test, y_train, y_test = train_test_split(lemmed_lyrics, maybe_df.genre, test_size=0.2, random_state=18)"
   ]
  },
  {
   "cell_type": "code",
   "execution_count": null,
   "metadata": {},
   "outputs": [],
   "source": []
  },
  {
   "cell_type": "code",
   "execution_count": 171,
   "metadata": {},
   "outputs": [
    {
     "ename": "AttributeError",
     "evalue": "'str' object has no attribute 'ndim'",
     "output_type": "error",
     "traceback": [
      "\u001b[0;31m---------------------------------------------------------------------------\u001b[0m",
      "\u001b[0;31mAttributeError\u001b[0m                            Traceback (most recent call last)",
      "\u001b[0;32m<ipython-input-171-acc519fcce62>\u001b[0m in \u001b[0;36m<module>\u001b[0;34m\u001b[0m\n\u001b[0;32m----> 1\u001b[0;31m \u001b[0mmodel\u001b[0m\u001b[0;34m.\u001b[0m\u001b[0mevaluate\u001b[0m\u001b[0;34m(\u001b[0m\u001b[0mX_test\u001b[0m\u001b[0;34m,\u001b[0m \u001b[0my_test\u001b[0m\u001b[0;34m)\u001b[0m\u001b[0;34m\u001b[0m\u001b[0;34m\u001b[0m\u001b[0m\n\u001b[0m",
      "\u001b[0;32m/anaconda3/lib/python3.6/site-packages/keras/engine/training.py\u001b[0m in \u001b[0;36mevaluate\u001b[0;34m(self, x, y, batch_size, verbose, sample_weight, steps)\u001b[0m\n\u001b[1;32m   1100\u001b[0m             \u001b[0mx\u001b[0m\u001b[0;34m,\u001b[0m \u001b[0my\u001b[0m\u001b[0;34m,\u001b[0m\u001b[0;34m\u001b[0m\u001b[0;34m\u001b[0m\u001b[0m\n\u001b[1;32m   1101\u001b[0m             \u001b[0msample_weight\u001b[0m\u001b[0;34m=\u001b[0m\u001b[0msample_weight\u001b[0m\u001b[0;34m,\u001b[0m\u001b[0;34m\u001b[0m\u001b[0;34m\u001b[0m\u001b[0m\n\u001b[0;32m-> 1102\u001b[0;31m             batch_size=batch_size)\n\u001b[0m\u001b[1;32m   1103\u001b[0m         \u001b[0;31m# Prepare inputs, delegate logic to `test_loop`.\u001b[0m\u001b[0;34m\u001b[0m\u001b[0;34m\u001b[0m\u001b[0;34m\u001b[0m\u001b[0m\n\u001b[1;32m   1104\u001b[0m         \u001b[0;32mif\u001b[0m \u001b[0mself\u001b[0m\u001b[0;34m.\u001b[0m\u001b[0m_uses_dynamic_learning_phase\u001b[0m\u001b[0;34m(\u001b[0m\u001b[0;34m)\u001b[0m\u001b[0;34m:\u001b[0m\u001b[0;34m\u001b[0m\u001b[0;34m\u001b[0m\u001b[0m\n",
      "\u001b[0;32m/anaconda3/lib/python3.6/site-packages/keras/engine/training.py\u001b[0m in \u001b[0;36m_standardize_user_data\u001b[0;34m(self, x, y, sample_weight, class_weight, check_array_lengths, batch_size)\u001b[0m\n\u001b[1;32m    749\u001b[0m             \u001b[0mfeed_input_shapes\u001b[0m\u001b[0;34m,\u001b[0m\u001b[0;34m\u001b[0m\u001b[0;34m\u001b[0m\u001b[0m\n\u001b[1;32m    750\u001b[0m             \u001b[0mcheck_batch_axis\u001b[0m\u001b[0;34m=\u001b[0m\u001b[0;32mFalse\u001b[0m\u001b[0;34m,\u001b[0m  \u001b[0;31m# Don't enforce the batch size.\u001b[0m\u001b[0;34m\u001b[0m\u001b[0;34m\u001b[0m\u001b[0m\n\u001b[0;32m--> 751\u001b[0;31m             exception_prefix='input')\n\u001b[0m\u001b[1;32m    752\u001b[0m \u001b[0;34m\u001b[0m\u001b[0m\n\u001b[1;32m    753\u001b[0m         \u001b[0;32mif\u001b[0m \u001b[0my\u001b[0m \u001b[0;32mis\u001b[0m \u001b[0;32mnot\u001b[0m \u001b[0;32mNone\u001b[0m\u001b[0;34m:\u001b[0m\u001b[0;34m\u001b[0m\u001b[0;34m\u001b[0m\u001b[0m\n",
      "\u001b[0;32m/anaconda3/lib/python3.6/site-packages/keras/engine/training_utils.py\u001b[0m in \u001b[0;36mstandardize_input_data\u001b[0;34m(data, names, shapes, check_batch_axis, exception_prefix)\u001b[0m\n\u001b[1;32m     90\u001b[0m         \u001b[0mdata\u001b[0m \u001b[0;34m=\u001b[0m \u001b[0mdata\u001b[0m\u001b[0;34m.\u001b[0m\u001b[0mvalues\u001b[0m \u001b[0;32mif\u001b[0m \u001b[0mdata\u001b[0m\u001b[0;34m.\u001b[0m\u001b[0m__class__\u001b[0m\u001b[0;34m.\u001b[0m\u001b[0m__name__\u001b[0m \u001b[0;34m==\u001b[0m \u001b[0;34m'DataFrame'\u001b[0m \u001b[0;32melse\u001b[0m \u001b[0mdata\u001b[0m\u001b[0;34m\u001b[0m\u001b[0;34m\u001b[0m\u001b[0m\n\u001b[1;32m     91\u001b[0m         \u001b[0mdata\u001b[0m \u001b[0;34m=\u001b[0m \u001b[0;34m[\u001b[0m\u001b[0mdata\u001b[0m\u001b[0;34m]\u001b[0m\u001b[0;34m\u001b[0m\u001b[0;34m\u001b[0m\u001b[0m\n\u001b[0;32m---> 92\u001b[0;31m     \u001b[0mdata\u001b[0m \u001b[0;34m=\u001b[0m \u001b[0;34m[\u001b[0m\u001b[0mstandardize_single_array\u001b[0m\u001b[0;34m(\u001b[0m\u001b[0mx\u001b[0m\u001b[0;34m)\u001b[0m \u001b[0;32mfor\u001b[0m \u001b[0mx\u001b[0m \u001b[0;32min\u001b[0m \u001b[0mdata\u001b[0m\u001b[0;34m]\u001b[0m\u001b[0;34m\u001b[0m\u001b[0;34m\u001b[0m\u001b[0m\n\u001b[0m\u001b[1;32m     93\u001b[0m \u001b[0;34m\u001b[0m\u001b[0m\n\u001b[1;32m     94\u001b[0m     \u001b[0;32mif\u001b[0m \u001b[0mlen\u001b[0m\u001b[0;34m(\u001b[0m\u001b[0mdata\u001b[0m\u001b[0;34m)\u001b[0m \u001b[0;34m!=\u001b[0m \u001b[0mlen\u001b[0m\u001b[0;34m(\u001b[0m\u001b[0mnames\u001b[0m\u001b[0;34m)\u001b[0m\u001b[0;34m:\u001b[0m\u001b[0;34m\u001b[0m\u001b[0;34m\u001b[0m\u001b[0m\n",
      "\u001b[0;32m/anaconda3/lib/python3.6/site-packages/keras/engine/training_utils.py\u001b[0m in \u001b[0;36m<listcomp>\u001b[0;34m(.0)\u001b[0m\n\u001b[1;32m     90\u001b[0m         \u001b[0mdata\u001b[0m \u001b[0;34m=\u001b[0m \u001b[0mdata\u001b[0m\u001b[0;34m.\u001b[0m\u001b[0mvalues\u001b[0m \u001b[0;32mif\u001b[0m \u001b[0mdata\u001b[0m\u001b[0;34m.\u001b[0m\u001b[0m__class__\u001b[0m\u001b[0;34m.\u001b[0m\u001b[0m__name__\u001b[0m \u001b[0;34m==\u001b[0m \u001b[0;34m'DataFrame'\u001b[0m \u001b[0;32melse\u001b[0m \u001b[0mdata\u001b[0m\u001b[0;34m\u001b[0m\u001b[0;34m\u001b[0m\u001b[0m\n\u001b[1;32m     91\u001b[0m         \u001b[0mdata\u001b[0m \u001b[0;34m=\u001b[0m \u001b[0;34m[\u001b[0m\u001b[0mdata\u001b[0m\u001b[0;34m]\u001b[0m\u001b[0;34m\u001b[0m\u001b[0;34m\u001b[0m\u001b[0m\n\u001b[0;32m---> 92\u001b[0;31m     \u001b[0mdata\u001b[0m \u001b[0;34m=\u001b[0m \u001b[0;34m[\u001b[0m\u001b[0mstandardize_single_array\u001b[0m\u001b[0;34m(\u001b[0m\u001b[0mx\u001b[0m\u001b[0;34m)\u001b[0m \u001b[0;32mfor\u001b[0m \u001b[0mx\u001b[0m \u001b[0;32min\u001b[0m \u001b[0mdata\u001b[0m\u001b[0;34m]\u001b[0m\u001b[0;34m\u001b[0m\u001b[0;34m\u001b[0m\u001b[0m\n\u001b[0m\u001b[1;32m     93\u001b[0m \u001b[0;34m\u001b[0m\u001b[0m\n\u001b[1;32m     94\u001b[0m     \u001b[0;32mif\u001b[0m \u001b[0mlen\u001b[0m\u001b[0;34m(\u001b[0m\u001b[0mdata\u001b[0m\u001b[0;34m)\u001b[0m \u001b[0;34m!=\u001b[0m \u001b[0mlen\u001b[0m\u001b[0;34m(\u001b[0m\u001b[0mnames\u001b[0m\u001b[0;34m)\u001b[0m\u001b[0;34m:\u001b[0m\u001b[0;34m\u001b[0m\u001b[0;34m\u001b[0m\u001b[0m\n",
      "\u001b[0;32m/anaconda3/lib/python3.6/site-packages/keras/engine/training_utils.py\u001b[0m in \u001b[0;36mstandardize_single_array\u001b[0;34m(x)\u001b[0m\n\u001b[1;32m     25\u001b[0m                 'Got tensor with shape: %s' % str(shape))\n\u001b[1;32m     26\u001b[0m         \u001b[0;32mreturn\u001b[0m \u001b[0mx\u001b[0m\u001b[0;34m\u001b[0m\u001b[0;34m\u001b[0m\u001b[0m\n\u001b[0;32m---> 27\u001b[0;31m     \u001b[0;32melif\u001b[0m \u001b[0mx\u001b[0m\u001b[0;34m.\u001b[0m\u001b[0mndim\u001b[0m \u001b[0;34m==\u001b[0m \u001b[0;36m1\u001b[0m\u001b[0;34m:\u001b[0m\u001b[0;34m\u001b[0m\u001b[0;34m\u001b[0m\u001b[0m\n\u001b[0m\u001b[1;32m     28\u001b[0m         \u001b[0mx\u001b[0m \u001b[0;34m=\u001b[0m \u001b[0mnp\u001b[0m\u001b[0;34m.\u001b[0m\u001b[0mexpand_dims\u001b[0m\u001b[0;34m(\u001b[0m\u001b[0mx\u001b[0m\u001b[0;34m,\u001b[0m \u001b[0;36m1\u001b[0m\u001b[0;34m)\u001b[0m\u001b[0;34m\u001b[0m\u001b[0;34m\u001b[0m\u001b[0m\n\u001b[1;32m     29\u001b[0m     \u001b[0;32mreturn\u001b[0m \u001b[0mx\u001b[0m\u001b[0;34m\u001b[0m\u001b[0;34m\u001b[0m\u001b[0m\n",
      "\u001b[0;31mAttributeError\u001b[0m: 'str' object has no attribute 'ndim'"
     ]
    }
   ],
   "source": [
    "model.evaluate(X_test, y_test)"
   ]
  },
  {
   "cell_type": "code",
   "execution_count": 137,
   "metadata": {},
   "outputs": [
    {
     "data": {
      "image/png": "[encoded data removed]",
      "text/plain": [
       "<Figure size 864x576 with 1 Axes>"
      ]
     },
     "metadata": {
      "needs_background": "light"
     },
     "output_type": "display_data"
    }
   ],
   "source": [
    "modles_lem = [item[0] for item in lemmed_basic_scores]\n",
    "accuracy_lem = [item[1] for item in lemmed_basic_scores]\n",
    "\n",
    "\n",
    "import numpy as np\n",
    "import matplotlib.pyplot as plt\n",
    "from matplotlib.ticker import MaxNLocator\n",
    "from collections import namedtuple\n",
    "\n",
    "\n",
    "n_groups = 5\n",
    "\n",
    "means_men = (20, 35, 30, 35, 27)\n",
    "std_men = (2, 3, 4, 1, 2)\n",
    "\n",
    "means_women = (25, 32, 34, 20, 25)\n",
    "std_women = (3, 5, 2, 3, 3)\n",
    "\n",
    "\n",
    "fig, ax = plt.subplots(figsize = (12, 8))\n",
    "\n",
    "\n",
    "index = np.arange(n_groups)\n",
    "bar_width = 0.35\n",
    "\n",
    "opacity = 0.5\n",
    "error_config = {'ecolor': '0.3'}\n",
    "\n",
    "lemmed_bars = ax.bar(index, accuracy_lem, bar_width,\n",
    "                alpha=opacity, color='b',\n",
    "                label='Lematized')\n",
    "\n",
    "stemmed_bars = ax.bar(index + bar_width, accuracy_stem, bar_width,\n",
    "                alpha=opacity, color='r',\n",
    "                label='Stemmatized')\n",
    "\n",
    "ax.set_xlabel('Model Type', fontsize = 14)\n",
    "ax.set_ylabel('Accuracy Scores', fontsize = 14)\n",
    "ax.set_title('Stemmed vs. Lemmed Accuracy Score Comparison', fontsize = 18)\n",
    "ax.set_xticks(index + bar_width / 2)\n",
    "ax.set_xticklabels(modles_lem)\n",
    "\n",
    "plt.axhline(y=1/len(set(y)), color='#17CA83', linestyle='-', label = \"Random Guessing\")\n",
    "ax.legend()\n",
    "\n",
    "\n",
    "plt.show()\n"
   ]
  },
  {
   "cell_type": "markdown",
   "metadata": {},
   "source": [
    "### We decided to pick Lemmatized over Stemmatized and top three models for further optimization"
   ]
  },
  {
   "cell_type": "markdown",
   "metadata": {},
   "source": [
    "### Next we want to try using PCA to improve performance and reduce dimentionality"
   ]
  },
  {
   "cell_type": "code",
   "execution_count": 82,
   "metadata": {
    "scrolled": true
   },
   "outputs": [
    {
     "data": {
      "text/plain": [
       "(7200, 35846)"
      ]
     },
     "execution_count": 82,
     "metadata": {},
     "output_type": "execute_result"
    }
   ],
   "source": [
    "# tfidf = TfidfVectorizer()\n",
    "# response = tfidf.fit_transform(lemmed_lyrics)\n",
    "\n",
    "# PCA_df = pd.DataFrame(response.toarray(), columns=tfidf.get_feature_names())\n",
    "# PCA_df.shape"
   ]
  },
  {
   "cell_type": "code",
   "execution_count": 83,
   "metadata": {},
   "outputs": [
    {
     "name": "stdout",
     "output_type": "stream",
     "text": [
      "Average Number of Non-Zero Elements in Vectorized Articles: 66.79833333333333\n",
      "Percentage of columns containing 0: 0.9981365191839164\n"
     ]
    }
   ],
   "source": [
    "# DATA = response  # this comes from above where you're vectorizing tdif dictionary\n",
    "\n",
    "# non_zero_cols = DATA.nnz / float(DATA.shape[0])\n",
    "# print(\"Average Number of Non-Zero Elements in Vectorized Articles: {}\".format(non_zero_cols))\n",
    "\n",
    "# percent_sparse = 1 - (non_zero_cols / float(DATA.shape[1]))\n",
    "# print('Percentage of columns containing 0: {}'.format(percent_sparse))"
   ]
  },
  {
   "cell_type": "code",
   "execution_count": 84,
   "metadata": {
    "scrolled": true
   },
   "outputs": [
    {
     "data": {
      "text/html": [
       "<div>\n",
       "<style scoped>\n",
       "    .dataframe tbody tr th:only-of-type {\n",
       "        vertical-align: middle;\n",
       "    }\n",
       "\n",
       "    .dataframe tbody tr th {\n",
       "        vertical-align: top;\n",
       "    }\n",
       "\n",
       "    .dataframe thead th {\n",
       "        text-align: right;\n",
       "    }\n",
       "</style>\n",
       "<table border=\"1\" class=\"dataframe\">\n",
       "  <thead>\n",
       "    <tr style=\"text-align: right;\">\n",
       "      <th></th>\n",
       "      <th>aa</th>\n",
       "      <th>aaaaaaaaa</th>\n",
       "      <th>aaaaaaaaaaaaaaaaaaaaaaaaa</th>\n",
       "      <th>aaaaaaaaah</th>\n",
       "      <th>aaaaaaaahhhhhhhhhhhh</th>\n",
       "      <th>aaaaaaaeeeeaaaaeeeeooooo</th>\n",
       "      <th>aaaaaaahhhhhhhh</th>\n",
       "      <th>aaaaaah</th>\n",
       "      <th>aaaaaaiiinnnnntttttttt</th>\n",
       "      <th>aaaaaaooooooouuuuuu</th>\n",
       "      <th>...</th>\n",
       "      <th>zwierza</th>\n",
       "      <th>zwiewn</th>\n",
       "      <th>zwijgen</th>\n",
       "      <th>zwischen</th>\n",
       "      <th>zwo</th>\n",
       "      <th>zwracam</th>\n",
       "      <th>zy</th>\n",
       "      <th>zycia</th>\n",
       "      <th>zyje</th>\n",
       "      <th>zzap</th>\n",
       "    </tr>\n",
       "  </thead>\n",
       "  <tbody>\n",
       "    <tr>\n",
       "      <th>0</th>\n",
       "      <td>0.0</td>\n",
       "      <td>0.0</td>\n",
       "      <td>0.0</td>\n",
       "      <td>0.0</td>\n",
       "      <td>0.0</td>\n",
       "      <td>0.0</td>\n",
       "      <td>0.0</td>\n",
       "      <td>0.0</td>\n",
       "      <td>0.0</td>\n",
       "      <td>0.0</td>\n",
       "      <td>...</td>\n",
       "      <td>0.0</td>\n",
       "      <td>0.0</td>\n",
       "      <td>0.0</td>\n",
       "      <td>0.0</td>\n",
       "      <td>0.0</td>\n",
       "      <td>0.0</td>\n",
       "      <td>0.0</td>\n",
       "      <td>0.0</td>\n",
       "      <td>0.0</td>\n",
       "      <td>0.0</td>\n",
       "    </tr>\n",
       "    <tr>\n",
       "      <th>1</th>\n",
       "      <td>0.0</td>\n",
       "      <td>0.0</td>\n",
       "      <td>0.0</td>\n",
       "      <td>0.0</td>\n",
       "      <td>0.0</td>\n",
       "      <td>0.0</td>\n",
       "      <td>0.0</td>\n",
       "      <td>0.0</td>\n",
       "      <td>0.0</td>\n",
       "      <td>0.0</td>\n",
       "      <td>...</td>\n",
       "      <td>0.0</td>\n",
       "      <td>0.0</td>\n",
       "      <td>0.0</td>\n",
       "      <td>0.0</td>\n",
       "      <td>0.0</td>\n",
       "      <td>0.0</td>\n",
       "      <td>0.0</td>\n",
       "      <td>0.0</td>\n",
       "      <td>0.0</td>\n",
       "      <td>0.0</td>\n",
       "    </tr>\n",
       "    <tr>\n",
       "      <th>2</th>\n",
       "      <td>0.0</td>\n",
       "      <td>0.0</td>\n",
       "      <td>0.0</td>\n",
       "      <td>0.0</td>\n",
       "      <td>0.0</td>\n",
       "      <td>0.0</td>\n",
       "      <td>0.0</td>\n",
       "      <td>0.0</td>\n",
       "      <td>0.0</td>\n",
       "      <td>0.0</td>\n",
       "      <td>...</td>\n",
       "      <td>0.0</td>\n",
       "      <td>0.0</td>\n",
       "      <td>0.0</td>\n",
       "      <td>0.0</td>\n",
       "      <td>0.0</td>\n",
       "      <td>0.0</td>\n",
       "      <td>0.0</td>\n",
       "      <td>0.0</td>\n",
       "      <td>0.0</td>\n",
       "      <td>0.0</td>\n",
       "    </tr>\n",
       "    <tr>\n",
       "      <th>3</th>\n",
       "      <td>0.0</td>\n",
       "      <td>0.0</td>\n",
       "      <td>0.0</td>\n",
       "      <td>0.0</td>\n",
       "      <td>0.0</td>\n",
       "      <td>0.0</td>\n",
       "      <td>0.0</td>\n",
       "      <td>0.0</td>\n",
       "      <td>0.0</td>\n",
       "      <td>0.0</td>\n",
       "      <td>...</td>\n",
       "      <td>0.0</td>\n",
       "      <td>0.0</td>\n",
       "      <td>0.0</td>\n",
       "      <td>0.0</td>\n",
       "      <td>0.0</td>\n",
       "      <td>0.0</td>\n",
       "      <td>0.0</td>\n",
       "      <td>0.0</td>\n",
       "      <td>0.0</td>\n",
       "      <td>0.0</td>\n",
       "    </tr>\n",
       "    <tr>\n",
       "      <th>4</th>\n",
       "      <td>0.0</td>\n",
       "      <td>0.0</td>\n",
       "      <td>0.0</td>\n",
       "      <td>0.0</td>\n",
       "      <td>0.0</td>\n",
       "      <td>0.0</td>\n",
       "      <td>0.0</td>\n",
       "      <td>0.0</td>\n",
       "      <td>0.0</td>\n",
       "      <td>0.0</td>\n",
       "      <td>...</td>\n",
       "      <td>0.0</td>\n",
       "      <td>0.0</td>\n",
       "      <td>0.0</td>\n",
       "      <td>0.0</td>\n",
       "      <td>0.0</td>\n",
       "      <td>0.0</td>\n",
       "      <td>0.0</td>\n",
       "      <td>0.0</td>\n",
       "      <td>0.0</td>\n",
       "      <td>0.0</td>\n",
       "    </tr>\n",
       "  </tbody>\n",
       "</table>\n",
       "<p>5 rows × 35846 columns</p>\n",
       "</div>"
      ],
      "text/plain": [
       "    aa  aaaaaaaaa  aaaaaaaaaaaaaaaaaaaaaaaaa  aaaaaaaaah  \\\n",
       "0  0.0        0.0                        0.0         0.0   \n",
       "1  0.0        0.0                        0.0         0.0   \n",
       "2  0.0        0.0                        0.0         0.0   \n",
       "3  0.0        0.0                        0.0         0.0   \n",
       "4  0.0        0.0                        0.0         0.0   \n",
       "\n",
       "   aaaaaaaahhhhhhhhhhhh  aaaaaaaeeeeaaaaeeeeooooo  aaaaaaahhhhhhhh  aaaaaah  \\\n",
       "0                   0.0                       0.0              0.0      0.0   \n",
       "1                   0.0                       0.0              0.0      0.0   \n",
       "2                   0.0                       0.0              0.0      0.0   \n",
       "3                   0.0                       0.0              0.0      0.0   \n",
       "4                   0.0                       0.0              0.0      0.0   \n",
       "\n",
       "   aaaaaaiiinnnnntttttttt  aaaaaaooooooouuuuuu  ...   zwierza  zwiewn  \\\n",
       "0                     0.0                  0.0  ...       0.0     0.0   \n",
       "1                     0.0                  0.0  ...       0.0     0.0   \n",
       "2                     0.0                  0.0  ...       0.0     0.0   \n",
       "3                     0.0                  0.0  ...       0.0     0.0   \n",
       "4                     0.0                  0.0  ...       0.0     0.0   \n",
       "\n",
       "   zwijgen  zwischen  zwo  zwracam   zy  zycia  zyje  zzap  \n",
       "0      0.0       0.0  0.0      0.0  0.0    0.0   0.0   0.0  \n",
       "1      0.0       0.0  0.0      0.0  0.0    0.0   0.0   0.0  \n",
       "2      0.0       0.0  0.0      0.0  0.0    0.0   0.0   0.0  \n",
       "3      0.0       0.0  0.0      0.0  0.0    0.0   0.0   0.0  \n",
       "4      0.0       0.0  0.0      0.0  0.0    0.0   0.0   0.0  \n",
       "\n",
       "[5 rows x 35846 columns]"
      ]
     },
     "execution_count": 84,
     "metadata": {},
     "output_type": "execute_result"
    }
   ],
   "source": [
    "# PCA_df.head()"
   ]
  },
  {
   "cell_type": "markdown",
   "metadata": {},
   "source": [
    "### Creating Features table and Target table and testing first model"
   ]
  },
  {
   "cell_type": "code",
   "execution_count": 85,
   "metadata": {
    "scrolled": true
   },
   "outputs": [
    {
     "data": {
      "text/plain": [
       "True"
      ]
     },
     "execution_count": 85,
     "metadata": {},
     "output_type": "execute_result"
    }
   ],
   "source": [
    "# X_pca = PCA_df\n",
    "# y_pca = maybe_df.genre\n",
    "\n",
    "# len(X_pca) == len(y_pca)"
   ]
  },
  {
   "cell_type": "code",
   "execution_count": 86,
   "metadata": {},
   "outputs": [],
   "source": [
    "# from sklearn.model_selection import train_test_split  \n",
    "# X_train_pca, X_test_pca, y_train_pca, y_test_pca = train_test_split(X_pca, y_pca, test_size=0.2, random_state=18) "
   ]
  },
  {
   "cell_type": "markdown",
   "metadata": {},
   "source": [
    "### Try different PCA values and pick a number that preserves sufficient % of variation"
   ]
  },
  {
   "cell_type": "code",
   "execution_count": null,
   "metadata": {
    "scrolled": false
   },
   "outputs": [],
   "source": [
    "# from sklearn.decomposition import PCA\n",
    "# pca_1 = PCA(n_components=500)\n",
    "# pca_2 = PCA(n_components=1000)\n",
    "# pca_3 = PCA(n_components=1455)\n",
    "# pca_4 = PCA(n_components=2000)\n",
    "\n",
    "# principalComponents = pca_1.fit_transform(X_pca)\n",
    "# principalComponents = pca_2.fit_transform(X_pca)\n",
    "# principalComponents = pca_3.fit_transform(X_pca)\n",
    "# principalComponents = pca_4.fit_transform(X_pca)\n",
    "\n",
    "# print(np.sum(pca_1.explained_variance_ratio_))\n",
    "# print(np.sum(pca_2.explained_variance_ratio_))\n",
    "# print(np.sum(pca_3.explained_variance_ratio_))\n",
    "# print(np.sum(pca_4.explained_variance_ratio_))"
   ]
  },
  {
   "cell_type": "markdown",
   "metadata": {},
   "source": [
    "### We will test PCA witn n = 1800 on our top 3 models to see if it helps performance"
   ]
  },
  {
   "cell_type": "code",
   "execution_count": 88,
   "metadata": {
    "scrolled": true
   },
   "outputs": [
    {
     "name": "stdout",
     "output_type": "stream",
     "text": [
      "Pipeline(memory=None,\n",
      "     steps=[('pca', PCA(copy=True, iterated_power='auto', n_components=3000, random_state=18,\n",
      "  svd_solver='auto', tol=0.0, whiten=False)), ('clf', GaussianNB(priors=None, var_smoothing=1e-09))])\n",
      "Pipeline(memory=None,\n",
      "     steps=[('pca', PCA(copy=True, iterated_power='auto', n_components=3000, random_state=18,\n",
      "  svd_solver='auto', tol=0.0, whiten=False)), ('clf', RandomForestClassifier(bootstrap=True, class_weight=None, criterion='gini',\n",
      "            max_depth=None, max_features='auto', max_leaf_nodes=None,\n",
      "           ..._jobs=-1,\n",
      "            oob_score=False, random_state=None, verbose=0,\n",
      "            warm_start=False))])\n"
     ]
    },
    {
     "name": "stderr",
     "output_type": "stream",
     "text": [
      "/anaconda3/lib/python3.6/site-packages/sklearn/ensemble/forest.py:246: FutureWarning: The default value of n_estimators will change from 10 in version 0.20 to 100 in 0.22.\n",
      "  \"10 in version 0.20 to 100 in 0.22.\", FutureWarning)\n"
     ]
    },
    {
     "name": "stdout",
     "output_type": "stream",
     "text": [
      "Pipeline(memory=None,\n",
      "     steps=[('pca', PCA(copy=True, iterated_power='auto', n_components=1800, random_state=18,\n",
      "  svd_solver='auto', tol=0.0, whiten=False)), ('clf', GradientBoostingClassifier(criterion='friedman_mse', init=None,\n",
      "              learning_rate=0.3, loss='deviance', max_depth=3,\n",
      "              max_features=Non...    subsample=1.0, tol=0.0001, validation_fraction=0.1,\n",
      "              verbose=0, warm_start=False))])\n",
      "Multinomial NB pipeline test accuracy: 0.149\n",
      "Random Forest pipeline test accuracy: 0.290\n",
      "Gradient Boost pipeline test accuracy: 0.423\n"
     ]
    }
   ],
   "source": [
    "# pipe_NB_pca = Pipeline([('pca', PCA(n_components=3000, random_state=18)),\n",
    "#                      ('clf', GaussianNB())\n",
    "#                     ])\n",
    "\n",
    "# pipe_RF_pca = Pipeline([('pca', PCA(n_components=3000, random_state=18)),\n",
    "#                      ('clf', RandomForestClassifier(n_jobs = -1))\n",
    "#                    ])\n",
    "                  \n",
    "# pipe_GBoost_pca = Pipeline([('pca', PCA(n_components=1800, random_state=18)),\n",
    "#                      ('clf', GradientBoostingClassifier(learning_rate=0.3))\n",
    "#                     ])\n",
    "\n",
    "\n",
    "# # List of pipelines, List of pipeline names\n",
    "# pipelines = [pipe_NB_pca, pipe_RF_pca, pipe_GBoost_pca]\n",
    "# pipeline_names = ['Multinomial NB', \"Random Forest\", \"Gradient Boost\"]\n",
    "\n",
    "# # Loop to fit each of the three pipelines\n",
    "# for pipe in pipelines:\n",
    "#     print(pipe)\n",
    "#     pipe.fit(X_train_pca, y_train_pca)\n",
    "\n",
    "# # Compare accuracies\n",
    "# PCA_scores = []\n",
    "# for index, val in enumerate(pipelines):\n",
    "#     tup = (pipeline_names[index], val.score(X_test_pca, y_test_pca))\n",
    "#     lemmed_basic_scores.append(tup)\n",
    "#     print('%s pipeline test accuracy: %.3f' % (pipeline_names[index], val.score(X_test_pca, y_test_pca)))"
   ]
  },
  {
   "cell_type": "code",
   "execution_count": 90,
   "metadata": {},
   "outputs": [],
   "source": [
    "# PCA1800_results = dict(Multinomail_NB = 0.203,\n",
    "# Gradient_boost = 0.422,\n",
    "# Random_forest =0.290)\n",
    "\n"
   ]
  },
  {
   "cell_type": "code",
   "execution_count": 91,
   "metadata": {
    "scrolled": true
   },
   "outputs": [
    {
     "data": {
      "image/png": "[encoded data removed]",
      "text/plain": [
       "<Figure size 720x576 with 1 Axes>"
      ]
     },
     "metadata": {
      "needs_background": "light"
     },
     "output_type": "display_data"
    }
   ],
   "source": [
    "# n_groups = 3\n",
    "\n",
    "# basic_mod_name = modles_lem[:3]\n",
    "# basic_mod_acc = accuracy_lem[:3]\n",
    "# pca_models_acc = [item[1] for item in PCA1800_results.items()]\n",
    "\n",
    "# fig, ax = plt.subplots(figsize = (10,8))\n",
    "\n",
    "\n",
    "# index = np.arange(n_groups)\n",
    "# bar_width = 0.35\n",
    "\n",
    "# opacity = 0.5\n",
    "# error_config = {'ecolor': '0.3'}\n",
    "\n",
    "# basic_bars = ax.bar(index, basic_mod_acc, bar_width,\n",
    "#                 alpha=opacity, color='b',\n",
    "#                 label='Basic Model')\n",
    "\n",
    "# pca_bars = ax.bar(index + bar_width, pca_models_acc , bar_width,\n",
    "#                 alpha=opacity, color='r',\n",
    "#                 label='PCA n_components = 1800')\n",
    "\n",
    "# ax.set_xlabel('Model Type', fontsize = 14)\n",
    "# ax.set_ylabel('Accuracy Scores', fontsize = 14)\n",
    "# ax.set_title('Basic Model vs. PCA with n = 1800 Model Comparison', fontsize = 18)\n",
    "# ax.set_xticks(index + bar_width / 2)\n",
    "# ax.set_xticklabels(basic_mod_name)\n",
    "\n",
    "# plt.axhline(y=1/len(set(y)), color='#17CA83', linestyle='-', label = \"Random Guessing\")\n",
    "# ax.legend()\n",
    "# plt.show()"
   ]
  },
  {
   "cell_type": "markdown",
   "metadata": {},
   "source": [
    "### We decided that it's not worth using PCA for our models because it increases computational time and doesn't really improve performance"
   ]
  },
  {
   "cell_type": "markdown",
   "metadata": {},
   "source": [
    "## Let's use GridSearch to try to optimize our  top 3 models!"
   ]
  },
  {
   "cell_type": "code",
   "execution_count": 92,
   "metadata": {},
   "outputs": [],
   "source": [
    "Top3_pipelines = [pipe_NB, pipe_GBoost, pipe_RF]\n",
    "Top3_pipeline_names = ['Multinomail NB', \"Gboost\", 'Random Forest']"
   ]
  },
  {
   "cell_type": "markdown",
   "metadata": {},
   "source": [
    "### Grid Search RandomForest"
   ]
  },
  {
   "cell_type": "code",
   "execution_count": 93,
   "metadata": {
    "scrolled": true
   },
   "outputs": [
    {
     "name": "stderr",
     "output_type": "stream",
     "text": [
      "/anaconda3/lib/python3.6/site-packages/sklearn/utils/deprecation.py:125: FutureWarning: You are accessing a training score ('mean_train_score'), which will not be available by default any more in 0.21. If you need training scores, please set return_train_score=True\n",
      "  warnings.warn(*warn_args, **warn_kwargs)\n"
     ]
    },
    {
     "name": "stdout",
     "output_type": "stream",
     "text": [
      "Mean Training Score: 41.6%\n",
      "Mean Testing Score: 41.67%\n",
      "Best Parameter Combination Found During Grid Search: {'clf__criterion': 'entropy', 'clf__max_depth': 10, 'clf__min_samples_leaf': 3, 'clf__min_samples_split': 10, 'clf__n_estimators': 100}\n"
     ]
    }
   ],
   "source": [
    "GS_pipe_RF = Pipeline([('count_vectorizer', CountVectorizer()), \n",
    "                     ('tfidf_vectorizer', TfidfTransformer()),\n",
    "                     ('clf', RandomForestClassifier())\n",
    "                    ])\n",
    "\n",
    "sorted(GS_pipe_RF.get_params().keys())\n",
    "\n",
    "rf_param_grid = dict(clf__n_estimators = [10, 30, 100], clf__criterion = ['gini', 'entropy'], \n",
    "                    clf__max_depth = [2, 6, 10], clf__min_samples_split = [5, 10],\n",
    "                    clf__min_samples_leaf = [3, 6])\n",
    "\n",
    "\n",
    "gs_RF = GridSearchCV(estimator=GS_pipe_RF,\n",
    "            param_grid=rf_param_grid,\n",
    "            scoring='accuracy',\n",
    "            cv=3)\n",
    "\n",
    "gs_RF.fit(X_train, y_train)\n",
    "\n",
    "dt_gs_training_score = np.mean(gs_RF.cv_results_['mean_train_score'])\n",
    "dt_gs_testing_score = gs_RF.score(X_test, y_test)\n",
    "\n",
    "print(\"Mean Training Score: {:.4}%\".format(dt_gs_training_score * 100))\n",
    "print(\"Mean Testing Score: {:.4}%\".format(dt_gs_testing_score * 100))\n",
    "print(\"Best Parameter Combination Found During Grid Search: {}\".format(gs_RF.best_params_))"
   ]
  },
  {
   "cell_type": "code",
   "execution_count": 94,
   "metadata": {},
   "outputs": [
    {
     "data": {
      "text/plain": [
       "{'train_score': 0.416040748177916,\n",
       " 'test_score': 0.4166666666666667,\n",
       " 'best_params': {'clf__criterion': 'entropy',\n",
       "  'clf__max_depth': 10,\n",
       "  'clf__min_samples_leaf': 3,\n",
       "  'clf__min_samples_split': 10,\n",
       "  'clf__n_estimators': 100}}"
      ]
     },
     "execution_count": 94,
     "metadata": {},
     "output_type": "execute_result"
    }
   ],
   "source": [
    "Grid_RF_metrics = dict(train_score = dt_gs_training_score, test_score = dt_gs_testing_score, best_params = gs_RF.best_params_)\n",
    "Grid_RF_metrics"
   ]
  },
  {
   "cell_type": "markdown",
   "metadata": {},
   "source": [
    "### GridSearch Gboost"
   ]
  },
  {
   "cell_type": "code",
   "execution_count": 42,
   "metadata": {
    "scrolled": false
   },
   "outputs": [
    {
     "name": "stdout",
     "output_type": "stream",
     "text": [
      "Mean Training Score: 93.9%\n",
      "Mean Testing Score: 46.46%\n",
      "Best Parameter Combination Found During Grid Search: {'clf__learning_rate': 0.2, 'clf__max_depth': 3, 'clf__min_samples_leaf': 6, 'clf__min_samples_split': 4, 'clf__n_estimators': 150}\n"
     ]
    },
    {
     "name": "stderr",
     "output_type": "stream",
     "text": [
      "/anaconda3/lib/python3.6/site-packages/sklearn/utils/deprecation.py:125: FutureWarning: You are accessing a training score ('mean_train_score'), which will not be available by default any more in 0.21. If you need training scores, please set return_train_score=True\n",
      "  warnings.warn(*warn_args, **warn_kwargs)\n"
     ]
    }
   ],
   "source": [
    "GS_pipe_GB = Pipeline([('count_vectorizer', CountVectorizer()), \n",
    "                     ('tfidf_vectorizer', TfidfTransformer()),\n",
    "                     ('clf', GradientBoostingClassifier())\n",
    "                    ])\n",
    "# sorted(GS_pipe_RF.get_params().keys())\n",
    "\n",
    "GB_params = {\n",
    "    \"clf__learning_rate\": [0.2, 0.25],\n",
    "    \"clf__min_samples_split\": [4, 5],\n",
    "    \"clf__min_samples_leaf\": [6],\n",
    "    \"clf__max_depth\":[3],\n",
    "    \"clf__n_estimators\":[100, 150]\n",
    "    }\n",
    "\n",
    "gs_GB = GridSearchCV(estimator=GS_pipe_GB,\n",
    "            param_grid=GB_params,\n",
    "            scoring='accuracy',\n",
    "            cv=3)\n",
    "\n",
    "gs_GB.fit(X_train, y_train)\n",
    "\n",
    "dt_GB_training_score = np.mean(gs_GB.cv_results_['mean_train_score'])\n",
    "dt_GB_testing_score = gs_GB.score(X_test, y_test)\n",
    "\n",
    "print(\"Mean Training Score: {:.4}%\".format(dt_GB_training_score * 100))\n",
    "print(\"Mean Testing Score: {:.4}%\".format(dt_GB_testing_score * 100))\n",
    "print(\"Best Parameter Combination Found During Grid Search: {}\".format(gs_GB.best_params_))"
   ]
  },
  {
   "cell_type": "code",
   "execution_count": 43,
   "metadata": {
    "scrolled": true
   },
   "outputs": [
    {
     "data": {
      "text/plain": [
       "{'train_score': 0.938954555714002,\n",
       " 'test_score': 0.46458333333333335,\n",
       " 'best_params': {'clf__learning_rate': 0.2,\n",
       "  'clf__max_depth': 3,\n",
       "  'clf__min_samples_leaf': 6,\n",
       "  'clf__min_samples_split': 4,\n",
       "  'clf__n_estimators': 150}}"
      ]
     },
     "execution_count": 43,
     "metadata": {},
     "output_type": "execute_result"
    }
   ],
   "source": [
    "Grid_GB_metrics = dict(train_score = dt_GB_training_score, test_score = dt_GB_testing_score, best_params = gs_GB.best_params_)\n",
    "Grid_GB_metrics"
   ]
  },
  {
   "cell_type": "code",
   "execution_count": 79,
   "metadata": {},
   "outputs": [],
   "source": [
    "hip_lyric = [\"dropin my dough real quick. Data Science squad for the win. Drake got nothin on us!\"]\n",
    "jazz_lyric = [\"humdinger, babababoo, bababaa from san francisco to georgia, we teach you to code like wah wah\"]\n",
    "rock_lyric = ['when I was young I thought code is not important. Now I learned that i need to know it if I want to grow.']\n",
    "def test_genre(lyric):\n",
    "    lemmed_test = clean_docs_lemma(lyric)\n",
    "    print(\"This song is definetely {}!\".format(gs_GB.predict(lemmed_test)[0]))"
   ]
  },
  {
   "cell_type": "code",
   "execution_count": 80,
   "metadata": {},
   "outputs": [
    {
     "name": "stdout",
     "output_type": "stream",
     "text": [
      "This song is definetely Country!\n"
     ]
    }
   ],
   "source": [
    "test_genre(rock_lyric)"
   ]
  },
  {
   "cell_type": "code",
   "execution_count": null,
   "metadata": {},
   "outputs": [],
   "source": [
    "basic_scores"
   ]
  },
  {
   "cell_type": "code",
   "execution_count": null,
   "metadata": {},
   "outputs": [],
   "source": [
    "final_top3 = [(\"GradientBoost with GridSearch\", Grid_GB_metrics['test_score']), basic_scores[0], (\"Random Forest with GridSearch\", basic_scores[2][1])]"
   ]
  },
  {
   "cell_type": "code",
   "execution_count": null,
   "metadata": {},
   "outputs": [],
   "source": [
    "final_top3"
   ]
  },
  {
   "cell_type": "code",
   "execution_count": null,
   "metadata": {},
   "outputs": [],
   "source": [
    "top3_model = [item[0] for item in final_top3]\n",
    "top3_scores = [item[1] for item in final_top3]\n",
    "\n",
    "plt.figure(figsize=(10,6))\n",
    "plt.title(\"Top3 Models Final Performance\", color ='#061152' , fontsize = 20)\n",
    "plt.ylabel(\"Accuracy Score\", color = '#061152', fontsize = 16)\n",
    "plt.bar(top3_model, top3_scores, color = \"#17CA83\", label = \"Top 3 Models\")\n",
    "\n",
    "plt.axhline(y=1/len(set(y)), color='#AF2138', linestyle='-', label = \"Random Guessing\")\n",
    "plt.legend()\n",
    "\n",
    "plt.show()"
   ]
  },
  {
   "cell_type": "code",
   "execution_count": null,
   "metadata": {},
   "outputs": [],
   "source": [
    "top_mode_df = pd.DataFrame.from_dict(Grid_GB_metrics['best_params'])\n",
    "top_mode_df"
   ]
  },
  {
   "cell_type": "code",
   "execution_count": null,
   "metadata": {},
   "outputs": [],
   "source": [
    "!pip install gensim\n",
    "import gensim\n",
    "from gensim.utils import simple_preprocess\n",
    "from gensim.parsing.preprocessing import STOPWORDS\n",
    "from gensim import corpora, models"
   ]
  },
  {
   "cell_type": "code",
   "execution_count": null,
   "metadata": {},
   "outputs": [],
   "source": [
    "import random\n",
    "test = random.sample(stemmed_lyrics, 7000)\n",
    "lemmed_lyr = [nltk.word_tokenize(doc) for doc in test]\n",
    "\n",
    "lemmed_lyr\n",
    "# test\n",
    "dictionary = gensim.corpora.Dictionary(lemmed_lyr)\n",
    "\n",
    "count = 0\n",
    "for k, v in dictionary.iteritems():\n",
    "    print(k, v)\n",
    "    count += 1\n",
    "    if count > 10:\n",
    "        break\n",
    "\n",
    "dictionary.filter_extremes(no_below=15, no_above=0.5, keep_n=100000)\n",
    "\n",
    "bow_corpus = [dictionary.doc2bow(doc) for doc in lemmed_lyr]"
   ]
  },
  {
   "cell_type": "markdown",
   "metadata": {},
   "source": [
    "### Run Topic Classifier using BoW"
   ]
  },
  {
   "cell_type": "code",
   "execution_count": null,
   "metadata": {},
   "outputs": [],
   "source": [
    "lda_model = gensim.models.LdaMulticore(bow_corpus, num_topics=15, id2word=dictionary, passes=2, workers=2)\n",
    "for idx, topic in lda_model.print_topics(-1):\n",
    "    print('Topic: {} \\nWords: {}'.format(idx, topic))"
   ]
  },
  {
   "cell_type": "markdown",
   "metadata": {},
   "source": [
    "### Using Topic Classifier Using TF-IDF"
   ]
  },
  {
   "cell_type": "code",
   "execution_count": null,
   "metadata": {},
   "outputs": [],
   "source": [
    "tfidf = models.TfidfModel(bow_corpus)\n",
    "corpus_tfidf = tfidf[bow_corpus]\n",
    "\n",
    "lda_model_tfidf = gensim.models.LdaMulticore(corpus_tfidf, num_topics=15, id2word=dictionary, passes=2, workers=4)\n",
    "for idx, topic in lda_model_tfidf.print_topics(-1):\n",
    "    print('Topic: {} Word: {}'.format(idx, topic))"
   ]
  },
  {
   "cell_type": "markdown",
   "metadata": {},
   "source": [
    "### WordCloud"
   ]
  },
  {
   "cell_type": "code",
   "execution_count": null,
   "metadata": {},
   "outputs": [],
   "source": [
    "weights = tfidf[bow_corpus[12]]\n",
    "\n",
    "# Get terms from the dictionary and pair with weights\n",
    "\n",
    "weights = [(dictionary[pair[0]], pair[1]) for pair in weights]\n",
    "weights[-35:]\n",
    "\n"
   ]
  },
  {
   "cell_type": "code",
   "execution_count": null,
   "metadata": {},
   "outputs": [],
   "source": [
    "# !pip install wordcloud\n",
    "from wordcloud import WordCloud\n",
    "\n",
    "# Initialize the word cloud\n",
    "\n",
    "d = {}\n",
    "for a, x in weights:\n",
    "    d[a] = x\n",
    "    \n",
    "wc = WordCloud(\n",
    "    background_color=\"white\",\n",
    "    max_words=2000,\n",
    "    width = 1024,\n",
    "    height = 720,\n",
    "    stopwords=stopwords.words(\"english\")\n",
    ")\n",
    "\n",
    "# Generate the cloud\n",
    "\n",
    "wc.generate_from_frequencies(d)\n",
    "plt.figure(figsize = (12, 8))\n",
    "plt.imshow(wc, interpolation=\"bilinear\")\n",
    "plt.axis(\"off\")\n",
    "plt.show()"
   ]
  },
  {
   "cell_type": "code",
   "execution_count": null,
   "metadata": {},
   "outputs": [],
   "source": [
    "d"
   ]
  },
  {
   "cell_type": "code",
   "execution_count": null,
   "metadata": {},
   "outputs": [],
   "source": []
  }
 ],
 "metadata": {
  "kernelspec": {
   "display_name": "Python 3",
   "language": "python",
   "name": "python3"
  },
  "language_info": {
   "codemirror_mode": {
    "name": "ipython",
    "version": 3
   },
   "file_extension": ".py",
   "mimetype": "text/x-python",
   "name": "python",
   "nbconvert_exporter": "python",
   "pygments_lexer": "ipython3",
   "version": "3.6.7"
  }
 },
 "nbformat": 4,
 "nbformat_minor": 2
}
