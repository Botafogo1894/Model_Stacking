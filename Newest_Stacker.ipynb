{
 "cells": [
  {
   "cell_type": "markdown",
   "metadata": {},
   "source": [
    "### Import all necessary libraries"
   ]
  },
  {
   "cell_type": "code",
   "execution_count": 1,
   "metadata": {},
   "outputs": [
    {
     "name": "stdout",
     "output_type": "stream",
     "text": [
      "[nltk_data] Downloading package wordnet to\n",
      "[nltk_data]     /Users/flatironschool/nltk_data...\n",
      "[nltk_data]   Package wordnet is already up-to-date!\n",
      "[nltk_data] Downloading package words to\n",
      "[nltk_data]     /Users/flatironschool/nltk_data...\n",
      "[nltk_data]   Package words is already up-to-date!\n"
     ]
    }
   ],
   "source": [
    "#!pip install seaborn\n",
    "import pandas as pd\n",
    "import seaborn as sns\n",
    "import numpy as np\n",
    "import matplotlib.pyplot as plt\n",
    "%matplotlib inline\n",
    "import nltk\n",
    "import sklearn\n",
    "import nltk.collocations \n",
    "from nltk import FreqDist, word_tokenize\n",
    "from sklearn.feature_extraction.text import TfidfVectorizer\n",
    "from sklearn.feature_extraction.text import CountVectorizer, TfidfTransformer\n",
    "from sklearn.metrics import accuracy_score\n",
    "from sklearn.model_selection import GridSearchCV\n",
    "import string, re\n",
    "import urllib\n",
    "from sklearn.model_selection import train_test_split\n",
    "from sklearn.metrics import accuracy_score, confusion_matrix, classification_report\n",
    "from sklearn.ensemble import RandomForestClassifier\n",
    "import xgboost as xgb\n",
    "#nltk.download('punkt')\n",
    "#nltk.download('stopwords')\n",
    "nltk.download('wordnet')\n",
    "nltk.download('words')\n",
    "from nltk.stem import WordNetLemmatizer\n",
    "from nltk.stem.snowball import SnowballStemmer\n",
    "from nltk.corpus import stopwords\n",
    "from sklearn.decomposition import PCA\n",
    "from sklearn.naive_bayes import MultinomialNB, GaussianNB\n",
    "from sklearn.model_selection import cross_val_score\n",
    "from sklearn import svm\n",
    "from sklearn.pipeline import Pipeline\n",
    "from sklearn.decomposition import PCA\n",
    "from sklearn.ensemble import AdaBoostClassifier, GradientBoostingClassifier\n",
    "from sklearn.neighbors import KNeighborsClassifier\n"
   ]
  },
  {
   "cell_type": "markdown",
   "metadata": {},
   "source": [
    "### Read CSV Data"
   ]
  },
  {
   "cell_type": "code",
   "execution_count": 2,
   "metadata": {},
   "outputs": [],
   "source": [
    "song_list = pd.read_csv('380lyrics.csv')"
   ]
  },
  {
   "cell_type": "markdown",
   "metadata": {},
   "source": [
    "### Remove Rows with Other and Not Available Genre"
   ]
  },
  {
   "cell_type": "code",
   "execution_count": 3,
   "metadata": {},
   "outputs": [
    {
     "data": {
      "text/plain": [
       "Rock             131377\n",
       "Pop               49444\n",
       "Hip-Hop           33965\n",
       "Not Available     29814\n",
       "Metal             28408\n",
       "Other             23683\n",
       "Country           17286\n",
       "Jazz              17147\n",
       "Electronic        16205\n",
       "R&B                5935\n",
       "Indie              5732\n",
       "Folk               3241\n",
       "Name: genre, dtype: int64"
      ]
     },
     "execution_count": 3,
     "metadata": {},
     "output_type": "execute_result"
    }
   ],
   "source": [
    "song_list.genre.value_counts()"
   ]
  },
  {
   "cell_type": "code",
   "execution_count": 4,
   "metadata": {},
   "outputs": [
    {
     "data": {
      "text/plain": [
       "(299523, 6)"
      ]
     },
     "execution_count": 4,
     "metadata": {},
     "output_type": "execute_result"
    }
   ],
   "source": [
    "song_list.drop(song_list[song_list.genre == \"Other\"].index, inplace = True)\n",
    "song_list.drop(song_list[song_list.genre == \"Not Available\"].index, inplace = True)\n",
    "song_list.drop(song_list[song_list.genre == \"Indie\"].index, inplace = True)\n",
    "song_list.drop(song_list[song_list.genre == \"Folk\"].index, inplace = True)\n",
    "song_list.drop(song_list[song_list.artist == \"dolcenera\"].index, inplace = True)\n",
    "song_list.drop(song_list[song_list.artist == \"brthhse-onkelz\"].index, inplace = True)\n",
    "song_list.shape"
   ]
  },
  {
   "cell_type": "code",
   "execution_count": 5,
   "metadata": {},
   "outputs": [
    {
     "data": {
      "text/html": [
       "<div>\n",
       "<style scoped>\n",
       "    .dataframe tbody tr th:only-of-type {\n",
       "        vertical-align: middle;\n",
       "    }\n",
       "\n",
       "    .dataframe tbody tr th {\n",
       "        vertical-align: top;\n",
       "    }\n",
       "\n",
       "    .dataframe thead th {\n",
       "        text-align: right;\n",
       "    }\n",
       "</style>\n",
       "<table border=\"1\" class=\"dataframe\">\n",
       "  <thead>\n",
       "    <tr style=\"text-align: right;\">\n",
       "      <th></th>\n",
       "      <th>index</th>\n",
       "      <th>song</th>\n",
       "      <th>year</th>\n",
       "      <th>artist</th>\n",
       "      <th>genre</th>\n",
       "      <th>lyrics</th>\n",
       "    </tr>\n",
       "  </thead>\n",
       "  <tbody>\n",
       "    <tr>\n",
       "      <th>362232</th>\n",
       "      <td>362232</td>\n",
       "      <td>who-am-i-drinking-tonight</td>\n",
       "      <td>2012</td>\n",
       "      <td>edens-edge</td>\n",
       "      <td>Country</td>\n",
       "      <td>I gotta say\\nBoy, after only just a couple of ...</td>\n",
       "    </tr>\n",
       "    <tr>\n",
       "      <th>362233</th>\n",
       "      <td>362233</td>\n",
       "      <td>liar</td>\n",
       "      <td>2012</td>\n",
       "      <td>edens-edge</td>\n",
       "      <td>Country</td>\n",
       "      <td>I helped you find her diamond ring\\nYou made m...</td>\n",
       "    </tr>\n",
       "    <tr>\n",
       "      <th>362234</th>\n",
       "      <td>362234</td>\n",
       "      <td>last-supper</td>\n",
       "      <td>2012</td>\n",
       "      <td>edens-edge</td>\n",
       "      <td>Country</td>\n",
       "      <td>Look at the couple in the corner booth\\nLooks ...</td>\n",
       "    </tr>\n",
       "    <tr>\n",
       "      <th>362235</th>\n",
       "      <td>362235</td>\n",
       "      <td>christ-alone-live-in-studio</td>\n",
       "      <td>2012</td>\n",
       "      <td>edens-edge</td>\n",
       "      <td>Country</td>\n",
       "      <td>When I fly off this mortal earth\\nAnd I'm meas...</td>\n",
       "    </tr>\n",
       "    <tr>\n",
       "      <th>362236</th>\n",
       "      <td>362236</td>\n",
       "      <td>amen</td>\n",
       "      <td>2012</td>\n",
       "      <td>edens-edge</td>\n",
       "      <td>Country</td>\n",
       "      <td>I heard from a friend of a friend of a friend ...</td>\n",
       "    </tr>\n",
       "  </tbody>\n",
       "</table>\n",
       "</div>"
      ],
      "text/plain": [
       "         index                         song  year      artist    genre  \\\n",
       "362232  362232    who-am-i-drinking-tonight  2012  edens-edge  Country   \n",
       "362233  362233                         liar  2012  edens-edge  Country   \n",
       "362234  362234                  last-supper  2012  edens-edge  Country   \n",
       "362235  362235  christ-alone-live-in-studio  2012  edens-edge  Country   \n",
       "362236  362236                         amen  2012  edens-edge  Country   \n",
       "\n",
       "                                                   lyrics  \n",
       "362232  I gotta say\\nBoy, after only just a couple of ...  \n",
       "362233  I helped you find her diamond ring\\nYou made m...  \n",
       "362234  Look at the couple in the corner booth\\nLooks ...  \n",
       "362235  When I fly off this mortal earth\\nAnd I'm meas...  \n",
       "362236  I heard from a friend of a friend of a friend ...  "
      ]
     },
     "execution_count": 5,
     "metadata": {},
     "output_type": "execute_result"
    }
   ],
   "source": [
    "song_list.tail()"
   ]
  },
  {
   "cell_type": "markdown",
   "metadata": {},
   "source": [
    "### Drop rows with NAN values for column song"
   ]
  },
  {
   "cell_type": "code",
   "execution_count": 6,
   "metadata": {
    "scrolled": true
   },
   "outputs": [],
   "source": [
    "song_list.dropna(inplace = True)\n",
    "song_list.song.isna().sum()\n",
    "song_list.reset_index(inplace = True)"
   ]
  },
  {
   "cell_type": "code",
   "execution_count": 7,
   "metadata": {
    "scrolled": true
   },
   "outputs": [
    {
     "data": {
      "text/html": [
       "<div>\n",
       "<style scoped>\n",
       "    .dataframe tbody tr th:only-of-type {\n",
       "        vertical-align: middle;\n",
       "    }\n",
       "\n",
       "    .dataframe tbody tr th {\n",
       "        vertical-align: top;\n",
       "    }\n",
       "\n",
       "    .dataframe thead th {\n",
       "        text-align: right;\n",
       "    }\n",
       "</style>\n",
       "<table border=\"1\" class=\"dataframe\">\n",
       "  <thead>\n",
       "    <tr style=\"text-align: right;\">\n",
       "      <th></th>\n",
       "      <th>level_0</th>\n",
       "      <th>index</th>\n",
       "      <th>song</th>\n",
       "      <th>year</th>\n",
       "      <th>artist</th>\n",
       "      <th>genre</th>\n",
       "      <th>lyrics</th>\n",
       "    </tr>\n",
       "  </thead>\n",
       "  <tbody>\n",
       "    <tr>\n",
       "      <th>231786</th>\n",
       "      <td>362232</td>\n",
       "      <td>362232</td>\n",
       "      <td>who-am-i-drinking-tonight</td>\n",
       "      <td>2012</td>\n",
       "      <td>edens-edge</td>\n",
       "      <td>Country</td>\n",
       "      <td>I gotta say\\nBoy, after only just a couple of ...</td>\n",
       "    </tr>\n",
       "    <tr>\n",
       "      <th>231787</th>\n",
       "      <td>362233</td>\n",
       "      <td>362233</td>\n",
       "      <td>liar</td>\n",
       "      <td>2012</td>\n",
       "      <td>edens-edge</td>\n",
       "      <td>Country</td>\n",
       "      <td>I helped you find her diamond ring\\nYou made m...</td>\n",
       "    </tr>\n",
       "    <tr>\n",
       "      <th>231788</th>\n",
       "      <td>362234</td>\n",
       "      <td>362234</td>\n",
       "      <td>last-supper</td>\n",
       "      <td>2012</td>\n",
       "      <td>edens-edge</td>\n",
       "      <td>Country</td>\n",
       "      <td>Look at the couple in the corner booth\\nLooks ...</td>\n",
       "    </tr>\n",
       "    <tr>\n",
       "      <th>231789</th>\n",
       "      <td>362235</td>\n",
       "      <td>362235</td>\n",
       "      <td>christ-alone-live-in-studio</td>\n",
       "      <td>2012</td>\n",
       "      <td>edens-edge</td>\n",
       "      <td>Country</td>\n",
       "      <td>When I fly off this mortal earth\\nAnd I'm meas...</td>\n",
       "    </tr>\n",
       "    <tr>\n",
       "      <th>231790</th>\n",
       "      <td>362236</td>\n",
       "      <td>362236</td>\n",
       "      <td>amen</td>\n",
       "      <td>2012</td>\n",
       "      <td>edens-edge</td>\n",
       "      <td>Country</td>\n",
       "      <td>I heard from a friend of a friend of a friend ...</td>\n",
       "    </tr>\n",
       "  </tbody>\n",
       "</table>\n",
       "</div>"
      ],
      "text/plain": [
       "        level_0   index                         song  year      artist  \\\n",
       "231786   362232  362232    who-am-i-drinking-tonight  2012  edens-edge   \n",
       "231787   362233  362233                         liar  2012  edens-edge   \n",
       "231788   362234  362234                  last-supper  2012  edens-edge   \n",
       "231789   362235  362235  christ-alone-live-in-studio  2012  edens-edge   \n",
       "231790   362236  362236                         amen  2012  edens-edge   \n",
       "\n",
       "          genre                                             lyrics  \n",
       "231786  Country  I gotta say\\nBoy, after only just a couple of ...  \n",
       "231787  Country  I helped you find her diamond ring\\nYou made m...  \n",
       "231788  Country  Look at the couple in the corner booth\\nLooks ...  \n",
       "231789  Country  When I fly off this mortal earth\\nAnd I'm meas...  \n",
       "231790  Country  I heard from a friend of a friend of a friend ...  "
      ]
     },
     "execution_count": 7,
     "metadata": {},
     "output_type": "execute_result"
    }
   ],
   "source": [
    "song_list.tail()"
   ]
  },
  {
   "cell_type": "markdown",
   "metadata": {},
   "source": [
    "### Clean Song titles to remove dashes and capitalize"
   ]
  },
  {
   "cell_type": "code",
   "execution_count": 8,
   "metadata": {},
   "outputs": [
    {
     "data": {
      "text/plain": [
       "231791"
      ]
     },
     "execution_count": 8,
     "metadata": {},
     "output_type": "execute_result"
    }
   ],
   "source": [
    "def clean_song_names(titles_list):\n",
    "    no_dot = list(map(lambda item: item.replace(\".\", \"\"), titles_list))\n",
    "    no_dash = list(map(lambda item: item.replace(\"-\", \" \"), no_dot))\n",
    "    return list(map(lambda item: string.capwords(item), no_dash))\n",
    "\n",
    "titles_list = song_list.song\n",
    "final_titles = clean_song_names(titles_list)\n",
    "len(final_titles)"
   ]
  },
  {
   "cell_type": "markdown",
   "metadata": {},
   "source": [
    "### Append Clean Song names to DF as a new column and drop old column"
   ]
  },
  {
   "cell_type": "code",
   "execution_count": 9,
   "metadata": {},
   "outputs": [],
   "source": [
    "new_df = song_list\n",
    "# new_df.head()\n",
    "new_titles = final_titles\n",
    "\n",
    "\n",
    "new_lyr = pd.DataFrame(new_titles)\n",
    "new_lyr.tail()\n",
    "\n",
    "final_df = new_df.join(new_lyr)\n",
    "\n",
    "final_df.drop(columns = ['song', 'level_0', \"index\"], axis = 1, inplace = True)\n"
   ]
  },
  {
   "cell_type": "code",
   "execution_count": 10,
   "metadata": {},
   "outputs": [
    {
     "data": {
      "text/plain": [
       "(231791, 5)"
      ]
     },
     "execution_count": 10,
     "metadata": {},
     "output_type": "execute_result"
    }
   ],
   "source": [
    "final_df.shape"
   ]
  },
  {
   "cell_type": "code",
   "execution_count": 11,
   "metadata": {
    "scrolled": true
   },
   "outputs": [
    {
     "data": {
      "text/plain": [
       "year      0\n",
       "artist    0\n",
       "genre     0\n",
       "lyrics    0\n",
       "song      0\n",
       "dtype: int64"
      ]
     },
     "execution_count": 11,
     "metadata": {},
     "output_type": "execute_result"
    }
   ],
   "source": [
    "final_df.rename(columns = {0: \"song\"}, inplace = True)\n",
    "final_df.isna().sum()"
   ]
  },
  {
   "cell_type": "code",
   "execution_count": 12,
   "metadata": {
    "scrolled": true
   },
   "outputs": [
    {
     "data": {
      "text/plain": [
       "(231791, 5)"
      ]
     },
     "execution_count": 12,
     "metadata": {},
     "output_type": "execute_result"
    }
   ],
   "source": [
    "final_df.shape"
   ]
  },
  {
   "cell_type": "markdown",
   "metadata": {},
   "source": [
    "### Drop Song titles with Nan Values"
   ]
  },
  {
   "cell_type": "code",
   "execution_count": 13,
   "metadata": {},
   "outputs": [
    {
     "data": {
      "text/plain": [
       "Rock          108992\n",
       "Pop            40466\n",
       "Hip-Hop        24850\n",
       "Metal          23759\n",
       "Country        14387\n",
       "Jazz            7970\n",
       "Electronic      7966\n",
       "R&B             3401\n",
       "Name: genre, dtype: int64"
      ]
     },
     "execution_count": 13,
     "metadata": {},
     "output_type": "execute_result"
    }
   ],
   "source": [
    "final_df.genre.value_counts()"
   ]
  },
  {
   "cell_type": "code",
   "execution_count": 14,
   "metadata": {},
   "outputs": [],
   "source": [
    "rock_df = final_df[final_df.genre == \"Rock\"][:2000]\n",
    "pop_df = final_df[final_df.genre == \"Pop\"][:2000]\n",
    "hip_df = final_df[final_df.genre == \"Hip-Hop\"][:2000]\n",
    "metal_df = final_df[final_df.genre == \"Metal\"][:2000]\n",
    "jazz_df = final_df[final_df.genre == \"Jazz\"][:2000]\n",
    "elec_df = final_df[final_df.genre == \"Electronic\"][:2000]\n",
    "country_df = final_df[final_df.genre == \"Country\"][:2000]\n",
    "rnb_df = final_df[final_df.genre == \"R&B\"][:2000]\n"
   ]
  },
  {
   "cell_type": "code",
   "execution_count": 15,
   "metadata": {},
   "outputs": [
    {
     "data": {
      "text/html": [
       "<div>\n",
       "<style scoped>\n",
       "    .dataframe tbody tr th:only-of-type {\n",
       "        vertical-align: middle;\n",
       "    }\n",
       "\n",
       "    .dataframe tbody tr th {\n",
       "        vertical-align: top;\n",
       "    }\n",
       "\n",
       "    .dataframe thead th {\n",
       "        text-align: right;\n",
       "    }\n",
       "</style>\n",
       "<table border=\"1\" class=\"dataframe\">\n",
       "  <thead>\n",
       "    <tr style=\"text-align: right;\">\n",
       "      <th></th>\n",
       "      <th>year</th>\n",
       "      <th>artist</th>\n",
       "      <th>genre</th>\n",
       "      <th>lyrics</th>\n",
       "      <th>song</th>\n",
       "    </tr>\n",
       "  </thead>\n",
       "  <tbody>\n",
       "    <tr>\n",
       "      <th>345</th>\n",
       "      <td>2004</td>\n",
       "      <td>borialis</td>\n",
       "      <td>Rock</td>\n",
       "      <td>A lot of cats are hatin', slandering makin' ba...</td>\n",
       "      <td>Hourglass</td>\n",
       "    </tr>\n",
       "    <tr>\n",
       "      <th>346</th>\n",
       "      <td>2004</td>\n",
       "      <td>borialis</td>\n",
       "      <td>Rock</td>\n",
       "      <td>Somebody tell me why we landed here on the pla...</td>\n",
       "      <td>Why Oh Why</td>\n",
       "    </tr>\n",
       "    <tr>\n",
       "      <th>347</th>\n",
       "      <td>2004</td>\n",
       "      <td>borialis</td>\n",
       "      <td>Rock</td>\n",
       "      <td>I'm spittin' with the venom\\nTo your soul thro...</td>\n",
       "      <td>Mightier Than The Sword</td>\n",
       "    </tr>\n",
       "    <tr>\n",
       "      <th>348</th>\n",
       "      <td>2004</td>\n",
       "      <td>borialis</td>\n",
       "      <td>Rock</td>\n",
       "      <td>Where should I begin cripplin' all you villain...</td>\n",
       "      <td>White Trash</td>\n",
       "    </tr>\n",
       "    <tr>\n",
       "      <th>349</th>\n",
       "      <td>2004</td>\n",
       "      <td>borialis</td>\n",
       "      <td>Rock</td>\n",
       "      <td>Enough of all that, let's switch up the format...</td>\n",
       "      <td>Don T Mean A Thing</td>\n",
       "    </tr>\n",
       "  </tbody>\n",
       "</table>\n",
       "</div>"
      ],
      "text/plain": [
       "     year    artist genre                                             lyrics  \\\n",
       "345  2004  borialis  Rock  A lot of cats are hatin', slandering makin' ba...   \n",
       "346  2004  borialis  Rock  Somebody tell me why we landed here on the pla...   \n",
       "347  2004  borialis  Rock  I'm spittin' with the venom\\nTo your soul thro...   \n",
       "348  2004  borialis  Rock  Where should I begin cripplin' all you villain...   \n",
       "349  2004  borialis  Rock  Enough of all that, let's switch up the format...   \n",
       "\n",
       "                        song  \n",
       "345                Hourglass  \n",
       "346               Why Oh Why  \n",
       "347  Mightier Than The Sword  \n",
       "348              White Trash  \n",
       "349       Don T Mean A Thing  "
      ]
     },
     "execution_count": 15,
     "metadata": {},
     "output_type": "execute_result"
    }
   ],
   "source": [
    "rock_df.head()"
   ]
  },
  {
   "cell_type": "code",
   "execution_count": 16,
   "metadata": {
    "scrolled": true
   },
   "outputs": [],
   "source": [
    "final_df.drop(final_df[final_df.genre == \"Rock\"].index, inplace = True)\n",
    "final_df.drop(final_df[final_df.genre == \"Pop\"].index, inplace = True)\n",
    "final_df.drop(final_df[final_df.genre == \"Hip-Hop\"].index, inplace = True)\n",
    "final_df.drop(final_df[final_df.genre == \"Metal\"].index, inplace = True)\n",
    "final_df.drop(final_df[final_df.genre == \"Jazz\"].index, inplace = True)\n",
    "final_df.drop(final_df[final_df.genre == \"Electronic\"].index, inplace = True)\n",
    "final_df.drop(final_df[final_df.genre == \"Country\"].index, inplace = True)\n"
   ]
  },
  {
   "cell_type": "code",
   "execution_count": 17,
   "metadata": {
    "scrolled": false
   },
   "outputs": [
    {
     "data": {
      "text/plain": [
       "R&B           3401\n",
       "Metal         2000\n",
       "Electronic    2000\n",
       "Pop           2000\n",
       "Jazz          2000\n",
       "Rock          2000\n",
       "Hip-Hop       2000\n",
       "Country       2000\n",
       "Name: genre, dtype: int64"
      ]
     },
     "execution_count": 17,
     "metadata": {},
     "output_type": "execute_result"
    }
   ],
   "source": [
    "maybe_df = final_df.append([rock_df, pop_df, hip_df, metal_df, jazz_df, elec_df, country_df])\n",
    "maybe_df.genre.value_counts()"
   ]
  },
  {
   "cell_type": "code",
   "execution_count": 18,
   "metadata": {},
   "outputs": [],
   "source": [
    "maybe_df.drop(maybe_df[maybe_df.genre == \"R&B\"].index, inplace = True)\n",
    "maybe_df = maybe_df.append([rnb_df])"
   ]
  },
  {
   "cell_type": "code",
   "execution_count": 19,
   "metadata": {},
   "outputs": [
    {
     "data": {
      "text/plain": [
       "Metal         2000\n",
       "R&B           2000\n",
       "Electronic    2000\n",
       "Pop           2000\n",
       "Jazz          2000\n",
       "Rock          2000\n",
       "Hip-Hop       2000\n",
       "Country       2000\n",
       "Name: genre, dtype: int64"
      ]
     },
     "execution_count": 19,
     "metadata": {},
     "output_type": "execute_result"
    }
   ],
   "source": [
    "maybe_df.genre.value_counts()"
   ]
  },
  {
   "cell_type": "code",
   "execution_count": 20,
   "metadata": {},
   "outputs": [],
   "source": [
    "maybe_df.reset_index(inplace = True)"
   ]
  },
  {
   "cell_type": "code",
   "execution_count": 21,
   "metadata": {},
   "outputs": [],
   "source": [
    "maybe_df.drop(columns = [\"index\"], axis = 1, inplace = True)"
   ]
  },
  {
   "cell_type": "code",
   "execution_count": 22,
   "metadata": {},
   "outputs": [
    {
     "data": {
      "text/html": [
       "<div>\n",
       "<style scoped>\n",
       "    .dataframe tbody tr th:only-of-type {\n",
       "        vertical-align: middle;\n",
       "    }\n",
       "\n",
       "    .dataframe tbody tr th {\n",
       "        vertical-align: top;\n",
       "    }\n",
       "\n",
       "    .dataframe thead th {\n",
       "        text-align: right;\n",
       "    }\n",
       "</style>\n",
       "<table border=\"1\" class=\"dataframe\">\n",
       "  <thead>\n",
       "    <tr style=\"text-align: right;\">\n",
       "      <th></th>\n",
       "      <th>year</th>\n",
       "      <th>artist</th>\n",
       "      <th>genre</th>\n",
       "      <th>lyrics</th>\n",
       "      <th>song</th>\n",
       "    </tr>\n",
       "  </thead>\n",
       "  <tbody>\n",
       "    <tr>\n",
       "      <th>0</th>\n",
       "      <td>2004</td>\n",
       "      <td>borialis</td>\n",
       "      <td>Rock</td>\n",
       "      <td>A lot of cats are hatin', slandering makin' ba...</td>\n",
       "      <td>Hourglass</td>\n",
       "    </tr>\n",
       "    <tr>\n",
       "      <th>1</th>\n",
       "      <td>2004</td>\n",
       "      <td>borialis</td>\n",
       "      <td>Rock</td>\n",
       "      <td>Somebody tell me why we landed here on the pla...</td>\n",
       "      <td>Why Oh Why</td>\n",
       "    </tr>\n",
       "    <tr>\n",
       "      <th>2</th>\n",
       "      <td>2004</td>\n",
       "      <td>borialis</td>\n",
       "      <td>Rock</td>\n",
       "      <td>I'm spittin' with the venom\\nTo your soul thro...</td>\n",
       "      <td>Mightier Than The Sword</td>\n",
       "    </tr>\n",
       "    <tr>\n",
       "      <th>3</th>\n",
       "      <td>2004</td>\n",
       "      <td>borialis</td>\n",
       "      <td>Rock</td>\n",
       "      <td>Where should I begin cripplin' all you villain...</td>\n",
       "      <td>White Trash</td>\n",
       "    </tr>\n",
       "    <tr>\n",
       "      <th>4</th>\n",
       "      <td>2004</td>\n",
       "      <td>borialis</td>\n",
       "      <td>Rock</td>\n",
       "      <td>Enough of all that, let's switch up the format...</td>\n",
       "      <td>Don T Mean A Thing</td>\n",
       "    </tr>\n",
       "  </tbody>\n",
       "</table>\n",
       "</div>"
      ],
      "text/plain": [
       "   year    artist genre                                             lyrics  \\\n",
       "0  2004  borialis  Rock  A lot of cats are hatin', slandering makin' ba...   \n",
       "1  2004  borialis  Rock  Somebody tell me why we landed here on the pla...   \n",
       "2  2004  borialis  Rock  I'm spittin' with the venom\\nTo your soul thro...   \n",
       "3  2004  borialis  Rock  Where should I begin cripplin' all you villain...   \n",
       "4  2004  borialis  Rock  Enough of all that, let's switch up the format...   \n",
       "\n",
       "                      song  \n",
       "0                Hourglass  \n",
       "1               Why Oh Why  \n",
       "2  Mightier Than The Sword  \n",
       "3              White Trash  \n",
       "4       Don T Mean A Thing  "
      ]
     },
     "execution_count": 22,
     "metadata": {},
     "output_type": "execute_result"
    }
   ],
   "source": [
    "maybe_df.head()"
   ]
  },
  {
   "cell_type": "code",
   "execution_count": 23,
   "metadata": {},
   "outputs": [],
   "source": [
    "lyrics_list = list(maybe_df.lyrics)\n",
    "\n",
    "pattern = \"([a-zA-Z]+(?:'[a-z]+)?)\"\n",
    "\n",
    "lemmatizer = WordNetLemmatizer()\n",
    "stemmer = SnowballStemmer(\"english\")\n",
    "english = list(set(nltk.corpus.words.words()))\n",
    "\n",
    "def clean_docs_lemma(lyrics_list):\n",
    "    cleaned = []\n",
    "    pattern = \"([a-zA-Z]+(?:'[a-z]+)?)\"\n",
    "    for lyric in lyrics_list:\n",
    "        clean_lyric = nltk.regexp_tokenize(lyric, pattern)\n",
    "        lyric_lower = [i.lower() for i in clean_lyric]\n",
    "        stop_words = stopwords.words('english')\n",
    "        stopwords_list = stop_words + list(string.punctuation)\n",
    "        stopwords_list += [\"''\", '\"\"', '...', '``']\n",
    "        lyrics_tokens_stopped = [w for w in lyric_lower if not w in stopwords_list]\n",
    "        lyric_lemmas = [lemmatizer.lemmatize(word) for word in lyrics_tokens_stopped]\n",
    "        c = \" \".join(lyric_lemmas)\n",
    "        cleaned.append(c)\n",
    "    return cleaned\n",
    "\n",
    "def clean_docs_stemma(lyrics_list):\n",
    "    cleaned = []\n",
    "    pattern = \"([a-zA-Z]+(?:'[a-z]+)?)\"\n",
    "    for lyric in lyrics_list:\n",
    "        clean_lyric = nltk.regexp_tokenize(lyric, pattern)\n",
    "        lyric_lower = [i.lower() for i in clean_lyric]\n",
    "        stop_words = stopwords.words('english')\n",
    "        stopwords_list = stop_words + list(string.punctuation)\n",
    "        stopwords_list += [\"''\", '\"\"', '...', '``']\n",
    "        lyrics_tokens_stopped = [w for w in lyric_lower if not w in stopwords_list]\n",
    "        lyric_stemmas = [stemmer.stem(word) for word in lyrics_tokens_stopped]\n",
    "        c = \" \".join(lyric_stemmas)\n",
    "        cleaned.append(c)\n",
    "    return cleaned"
   ]
  },
  {
   "cell_type": "markdown",
   "metadata": {},
   "source": [
    "### First thing we wanted to do is test whether Lemmatizing works better than Stemmatizing"
   ]
  },
  {
   "cell_type": "markdown",
   "metadata": {},
   "source": [
    "### Lemmed Lyrics Test"
   ]
  },
  {
   "cell_type": "code",
   "execution_count": 24,
   "metadata": {},
   "outputs": [],
   "source": [
    "lemmed_lyrics = clean_docs_lemma(lyrics_list)"
   ]
  },
  {
   "cell_type": "code",
   "execution_count": 25,
   "metadata": {
    "scrolled": true
   },
   "outputs": [
    {
     "data": {
      "text/plain": [
       "62165"
      ]
     },
     "execution_count": 25,
     "metadata": {},
     "output_type": "execute_result"
    }
   ],
   "source": [
    "len(set(nltk.word_tokenize(\" \".join(lemmed_lyrics))))"
   ]
  },
  {
   "cell_type": "code",
   "execution_count": 26,
   "metadata": {
    "scrolled": false
   },
   "outputs": [
    {
     "data": {
      "text/plain": [
       "16000"
      ]
     },
     "execution_count": 26,
     "metadata": {},
     "output_type": "execute_result"
    }
   ],
   "source": [
    "X = lemmed_lyrics\n",
    "y = maybe_df.genre\n",
    "\n",
    "len(X)"
   ]
  },
  {
   "cell_type": "code",
   "execution_count": 27,
   "metadata": {},
   "outputs": [
    {
     "data": {
      "text/plain": [
       "(8000, 8000)"
      ]
     },
     "execution_count": 27,
     "metadata": {},
     "output_type": "execute_result"
    }
   ],
   "source": [
    "### Split Data in 3 pieces\n",
    "from sklearn.model_selection import train_test_split  \n",
    "X1, X2, y1, y2 = train_test_split(X, y, test_size=0.5, random_state=18)\n",
    "        \n",
    "len(y1), len(y2)"
   ]
  },
  {
   "cell_type": "code",
   "execution_count": 28,
   "metadata": {},
   "outputs": [],
   "source": [
    "from sklearn.model_selection import train_test_split  \n",
    "X1_train, X1_test, y1_train, y1_test = train_test_split(X1, y1, test_size=0.2, random_state=18) "
   ]
  },
  {
   "cell_type": "markdown",
   "metadata": {},
   "source": [
    "### Round 1 - Train 3 weakest models"
   ]
  },
  {
   "cell_type": "code",
   "execution_count": 29,
   "metadata": {
    "scrolled": false
   },
   "outputs": [
    {
     "name": "stdout",
     "output_type": "stream",
     "text": [
      "Pipeline(memory=None,\n",
      "     steps=[('count_vectorizer', CountVectorizer(analyzer='word', binary=False, decode_error='strict',\n",
      "        dtype=<class 'numpy.int64'>, encoding='utf-8', input='content',\n",
      "        lowercase=True, max_df=1.0, max_features=None, min_df=1,\n",
      "        ngram_range=(1, 1), preprocessor=None, stop_words=None,\n",
      " ...obs=None,\n",
      "            oob_score=False, random_state=None, verbose=0,\n",
      "            warm_start=False))])\n"
     ]
    },
    {
     "name": "stderr",
     "output_type": "stream",
     "text": [
      "/anaconda3/lib/python3.6/site-packages/sklearn/ensemble/forest.py:246: FutureWarning: The default value of n_estimators will change from 10 in version 0.20 to 100 in 0.22.\n",
      "  \"10 in version 0.20 to 100 in 0.22.\", FutureWarning)\n"
     ]
    },
    {
     "name": "stdout",
     "output_type": "stream",
     "text": [
      "Pipeline(memory=None,\n",
      "     steps=[('count_vectorizer', CountVectorizer(analyzer='word', binary=False, decode_error='strict',\n",
      "        dtype=<class 'numpy.int64'>, encoding='utf-8', input='content',\n",
      "        lowercase=True, max_df=1.0, max_features=None, min_df=1,\n",
      "        ngram_range=(1, 1), preprocessor=None, stop_words=None,\n",
      " ...m='SAMME.R', base_estimator=None,\n",
      "          learning_rate=0.3, n_estimators=50, random_state=None))])\n",
      "Pipeline(memory=None,\n",
      "     steps=[('count_vectorizer', CountVectorizer(analyzer='word', binary=False, decode_error='strict',\n",
      "        dtype=<class 'numpy.int64'>, encoding='utf-8', input='content',\n",
      "        lowercase=True, max_df=1.0, max_features=None, min_df=1,\n",
      "        ngram_range=(1, 1), preprocessor=None, stop_words=None,\n",
      " ...ki',\n",
      "           metric_params=None, n_jobs=None, n_neighbors=5, p=2,\n",
      "           weights='uniform'))])\n",
      "Random Forest pipeline test accuracy: 0.375\n",
      "ADA pipeline test accuracy: 0.348\n",
      "KNN pipeline test accuracy: 0.151\n"
     ]
    }
   ],
   "source": [
    "# Train Weakest Models\n",
    "\n",
    "pipe_RF = Pipeline([('count_vectorizer', CountVectorizer()), \n",
    "                     ('tfidf_vectorizer', TfidfTransformer()),\n",
    "                     ('clf', RandomForestClassifier())\n",
    "                    ])\n",
    "\n",
    "pipe_ADA = Pipeline([('count_vectorizer', CountVectorizer()), \n",
    "                     ('tfidf_vectorizer', TfidfTransformer()),\n",
    "                     ('clf', AdaBoostClassifier(learning_rate=0.3))\n",
    "                    ])\n",
    "\n",
    "\n",
    "pipe_KNN = Pipeline([('count_vectorizer', CountVectorizer()), \n",
    "                     ('tfidf_vectorizer', TfidfTransformer()),\n",
    "                     ('clf', KNeighborsClassifier())\n",
    "                    ])\n",
    "\n",
    "# List of pipelines, List of pipeline names\n",
    "pipelines = [pipe_RF, pipe_ADA, pipe_KNN]\n",
    "pipeline_names = ['Random Forest', 'ADA', \"KNN\"]\n",
    "\n",
    "# Loop to fit each of the three pipelines\n",
    "for pipe in pipelines:\n",
    "    print(pipe)\n",
    "    pipe.fit(X1_train, y1_train)\n",
    "\n",
    "# Compare accuracies\n",
    "X1_scores = []\n",
    "for index, val in enumerate(pipelines):\n",
    "    tup = (pipeline_names[index], val.score(X1_test, y1_test), val.predict_proba(X1_train), val.predict(X1_train))\n",
    "    X1_scores.append(tup)\n",
    "    print('%s pipeline test accuracy: %.3f' % (pipeline_names[index], val.score(X1_test, y1_test)))"
   ]
  },
  {
   "cell_type": "code",
   "execution_count": 33,
   "metadata": {
    "scrolled": true
   },
   "outputs": [
    {
     "data": {
      "text/plain": [
       "('Random Forest',\n",
       " 0.3675,\n",
       " array([[0.1       , 0.1       , 0.        , ..., 0.8       , 0.        ,\n",
       "         0.        ],\n",
       "        [0.1       , 0.        , 0.8       , ..., 0.        , 0.        ,\n",
       "         0.        ],\n",
       "        [0.        , 0.1       , 0.1       , ..., 0.        , 0.        ,\n",
       "         0.1       ],\n",
       "        ...,\n",
       "        [0.6       , 0.1       , 0.        , ..., 0.2       , 0.        ,\n",
       "         0.        ],\n",
       "        [0.1       , 0.5       , 0.        , ..., 0.05833333, 0.        ,\n",
       "         0.1       ],\n",
       "        [0.8       , 0.1       , 0.        , ..., 0.1       , 0.        ,\n",
       "         0.        ]]),\n",
       " array(['Pop', 'Hip-Hop', 'Metal', ..., 'Country', 'Electronic', 'Country'],\n",
       "       dtype=object))"
      ]
     },
     "execution_count": 33,
     "metadata": {},
     "output_type": "execute_result"
    }
   ],
   "source": [
    "X1_scores[0]"
   ]
  },
  {
   "cell_type": "code",
   "execution_count": 36,
   "metadata": {
    "scrolled": true
   },
   "outputs": [
    {
     "data": {
      "image/png": "[encoded data removed]",
      "text/plain": [
       "<Figure size 792x504 with 1 Axes>"
      ]
     },
     "metadata": {
      "needs_background": "light"
     },
     "output_type": "display_data"
    }
   ],
   "source": [
    "X1_models = [item[0] for item in X1_scores]\n",
    "X1_accuracy = [item[1] for item in X1_scores]\n",
    "\n",
    "plt.figure(figsize=(11,7))\n",
    "plt.title(\"Basic Model Scores (Stacking Round 1)\")\n",
    "plt.xlabel(\"Model\", fontsize = 14)\n",
    "plt.ylabel(\"Accuracy Score\", fontsize = 14)\n",
    "plt.bar(X1_models, X1_accuracy, label = \"{}%  {}%  {}%\".format(round(X1_scores[0][1], 2)*100, round(X1_scores[1][1], 2)*100, round(X1_scores[2][1], 2)*100))\n",
    "\n",
    "plt.axhline(y=1/len(set(y)), color='#17CA83', linestyle='-', label = \"Random Guessing\")\n",
    "plt.legend()\n",
    "\n",
    "\n",
    "plt.show()"
   ]
  },
  {
   "cell_type": "code",
   "execution_count": 37,
   "metadata": {
    "scrolled": true
   },
   "outputs": [],
   "source": [
    "#Creating Ensemble of 3 weakest learners - Random Forest, Adaboost and KNN\n",
    "classes = val.classes_\n",
    "classes\n",
    "\n",
    "R1_AVG_Scores = (X1_scores[0][2] + X1_scores[1][2] + X1_scores[2][2])/3\n",
    "R1_df =  pd.DataFrame(R1_AVG_Scores, columns = [item + \"_AVG\" for item in classes])"
   ]
  },
  {
   "cell_type": "code",
   "execution_count": 40,
   "metadata": {},
   "outputs": [
    {
     "data": {
      "text/html": [
       "<div>\n",
       "<style scoped>\n",
       "    .dataframe tbody tr th:only-of-type {\n",
       "        vertical-align: middle;\n",
       "    }\n",
       "\n",
       "    .dataframe tbody tr th {\n",
       "        vertical-align: top;\n",
       "    }\n",
       "\n",
       "    .dataframe thead th {\n",
       "        text-align: right;\n",
       "    }\n",
       "</style>\n",
       "<table border=\"1\" class=\"dataframe\">\n",
       "  <thead>\n",
       "    <tr style=\"text-align: right;\">\n",
       "      <th></th>\n",
       "      <th>Country_AVG</th>\n",
       "      <th>Electronic_AVG</th>\n",
       "      <th>Hip-Hop_AVG</th>\n",
       "      <th>Jazz_AVG</th>\n",
       "      <th>Metal_AVG</th>\n",
       "      <th>Pop_AVG</th>\n",
       "      <th>R&amp;B_AVG</th>\n",
       "      <th>Rock_AVG</th>\n",
       "    </tr>\n",
       "  </thead>\n",
       "  <tbody>\n",
       "    <tr>\n",
       "      <th>0</th>\n",
       "      <td>0.021688</td>\n",
       "      <td>0.077889</td>\n",
       "      <td>0.080408</td>\n",
       "      <td>0.077984</td>\n",
       "      <td>0.172722</td>\n",
       "      <td>0.381309</td>\n",
       "      <td>0.145245</td>\n",
       "      <td>0.042755</td>\n",
       "    </tr>\n",
       "    <tr>\n",
       "      <th>1</th>\n",
       "      <td>0.047738</td>\n",
       "      <td>0.123191</td>\n",
       "      <td>0.437547</td>\n",
       "      <td>0.014668</td>\n",
       "      <td>0.093370</td>\n",
       "      <td>0.191871</td>\n",
       "      <td>0.061224</td>\n",
       "      <td>0.030391</td>\n",
       "    </tr>\n",
       "    <tr>\n",
       "      <th>2</th>\n",
       "      <td>0.042194</td>\n",
       "      <td>0.108294</td>\n",
       "      <td>0.039385</td>\n",
       "      <td>0.042362</td>\n",
       "      <td>0.407090</td>\n",
       "      <td>0.175590</td>\n",
       "      <td>0.108888</td>\n",
       "      <td>0.076196</td>\n",
       "    </tr>\n",
       "    <tr>\n",
       "      <th>3</th>\n",
       "      <td>0.040947</td>\n",
       "      <td>0.109367</td>\n",
       "      <td>0.038918</td>\n",
       "      <td>0.108187</td>\n",
       "      <td>0.108542</td>\n",
       "      <td>0.208857</td>\n",
       "      <td>0.075535</td>\n",
       "      <td>0.309646</td>\n",
       "    </tr>\n",
       "    <tr>\n",
       "      <th>4</th>\n",
       "      <td>0.243490</td>\n",
       "      <td>0.040694</td>\n",
       "      <td>0.037418</td>\n",
       "      <td>0.110414</td>\n",
       "      <td>0.273547</td>\n",
       "      <td>0.176094</td>\n",
       "      <td>0.075538</td>\n",
       "      <td>0.042805</td>\n",
       "    </tr>\n",
       "  </tbody>\n",
       "</table>\n",
       "</div>"
      ],
      "text/plain": [
       "   Country_AVG  Electronic_AVG  Hip-Hop_AVG  Jazz_AVG  Metal_AVG   Pop_AVG  \\\n",
       "0     0.021688        0.077889     0.080408  0.077984   0.172722  0.381309   \n",
       "1     0.047738        0.123191     0.437547  0.014668   0.093370  0.191871   \n",
       "2     0.042194        0.108294     0.039385  0.042362   0.407090  0.175590   \n",
       "3     0.040947        0.109367     0.038918  0.108187   0.108542  0.208857   \n",
       "4     0.243490        0.040694     0.037418  0.110414   0.273547  0.176094   \n",
       "\n",
       "    R&B_AVG  Rock_AVG  \n",
       "0  0.145245  0.042755  \n",
       "1  0.061224  0.030391  \n",
       "2  0.108888  0.076196  \n",
       "3  0.075535  0.309646  \n",
       "4  0.075538  0.042805  "
      ]
     },
     "execution_count": 40,
     "metadata": {},
     "output_type": "execute_result"
    }
   ],
   "source": [
    "R1_df.head()"
   ]
  },
  {
   "cell_type": "code",
   "execution_count": 64,
   "metadata": {},
   "outputs": [],
   "source": [
    "from sklearn.model_selection import train_test_split  \n",
    "X2_train, X2_test, y2_train, y2_test = train_test_split(X2, y2, test_size=0.2, random_state=18) "
   ]
  },
  {
   "cell_type": "markdown",
   "metadata": {},
   "source": [
    "### Round 2 Train Good learners"
   ]
  },
  {
   "cell_type": "code",
   "execution_count": 65,
   "metadata": {
    "scrolled": true
   },
   "outputs": [
    {
     "name": "stdout",
     "output_type": "stream",
     "text": [
      "Pipeline(memory=None,\n",
      "     steps=[('count_vectorizer', CountVectorizer(analyzer='word', binary=False, decode_error='strict',\n",
      "        dtype=<class 'numpy.int64'>, encoding='utf-8', input='content',\n",
      "        lowercase=True, max_df=1.0, max_features=None, min_df=1,\n",
      "        ngram_range=(1, 1), preprocessor=None, stop_words=None,\n",
      " ...inear_tf=False, use_idf=True)), ('clf', MultinomialNB(alpha=1.0, class_prior=None, fit_prior=True))])\n",
      "Pipeline(memory=None,\n",
      "     steps=[('count_vectorizer', CountVectorizer(analyzer='word', binary=False, decode_error='strict',\n",
      "        dtype=<class 'numpy.int64'>, encoding='utf-8', input='content',\n",
      "        lowercase=True, max_df=1.0, max_features=None, min_df=1,\n",
      "        ngram_range=(1, 1), preprocessor=None, stop_words=None,\n",
      " ...    subsample=1.0, tol=0.0001, validation_fraction=0.1,\n",
      "              verbose=0, warm_start=False))])\n",
      "Multinomail NB pipeline test accuracy: 0.415\n",
      "Gboost pipeline test accuracy: 0.417\n"
     ]
    }
   ],
   "source": [
    "pipe_NB = Pipeline([('count_vectorizer', CountVectorizer()), \n",
    "                     ('tfidf_vectorizer', TfidfTransformer()),\n",
    "                     ('clf', MultinomialNB())\n",
    "                    ])\n",
    "\n",
    "pipe_GBoost = Pipeline([('count_vectorizer', CountVectorizer()), \n",
    "                     ('tfidf_vectorizer', TfidfTransformer()),\n",
    "                     ('clf', GradientBoostingClassifier(learning_rate=0.3))\n",
    "                    ])\n",
    "\n",
    "# List of pipelines, List of pipeline names\n",
    "pipelines = [pipe_NB, pipe_GBoost]\n",
    "pipeline_names = ['Multinomail NB', \"Gboost\"]\n",
    "\n",
    "# Loop to fit each of the three pipelines\n",
    "for pipe in pipelines:\n",
    "    print(pipe)\n",
    "    pipe.fit(X2_train, y2_train)\n",
    "\n",
    "# Compare accuracies\n",
    "X2_scores = []\n",
    "for index, val in enumerate(pipelines):\n",
    "    tup = (pipeline_names[index], val.score(X2_test, y2_test), val.predict_proba(X2_train), val.predict(X2_train))\n",
    "    X2_scores.append(tup)\n",
    "    print('%s pipeline test accuracy: %.3f' % (pipeline_names[index], val.score(X2_test, y2_test)))"
   ]
  },
  {
   "cell_type": "code",
   "execution_count": 41,
   "metadata": {
    "scrolled": false
   },
   "outputs": [
    {
     "data": {
      "text/plain": [
       "('Multinomail NB',\n",
       " 0.415,\n",
       " array([[0.06476146, 0.35241613, 0.06331353, ..., 0.13243585, 0.08613732,\n",
       "         0.10548437],\n",
       "        [0.1981774 , 0.07245812, 0.04322267, ..., 0.10622388, 0.18648187,\n",
       "         0.16461711],\n",
       "        [0.22100511, 0.08076004, 0.0505977 , ..., 0.12314752, 0.11177447,\n",
       "         0.0915945 ],\n",
       "        ...,\n",
       "        [0.19471283, 0.07157141, 0.03604731, ..., 0.09726023, 0.15274023,\n",
       "         0.16414313],\n",
       "        [0.11403141, 0.18961607, 0.15143814, ..., 0.09237297, 0.09056385,\n",
       "         0.10338478],\n",
       "        [0.0982226 , 0.19033551, 0.10705505, ..., 0.13630554, 0.1378852 ,\n",
       "         0.10853184]]),\n",
       " array(['Electronic', 'Country', 'Jazz', ..., 'Country', 'Electronic',\n",
       "        'Electronic'], dtype='<U10'))"
      ]
     },
     "execution_count": 41,
     "metadata": {},
     "output_type": "execute_result"
    }
   ],
   "source": [
    "X2_scores[0]"
   ]
  },
  {
   "cell_type": "code",
   "execution_count": 63,
   "metadata": {},
   "outputs": [
    {
     "data": {
      "image/png": "[encoded data removed]",
      "text/plain": [
       "<Figure size 792x504 with 1 Axes>"
      ]
     },
     "metadata": {
      "needs_background": "light"
     },
     "output_type": "display_data"
    }
   ],
   "source": [
    "X2_models = [item[0] for item in X2_scores]\n",
    "X2_accuracy = [item[1] for item in X2_scores]\n",
    "\n",
    "plt.figure(figsize=(11,7))\n",
    "plt.title(\"First Stacked Models - NB and Gboost\")\n",
    "plt.xlabel(\"Model\", fontsize = 14)\n",
    "plt.ylabel(\"Accuracy Score\", fontsize = 14)\n",
    "plt.bar(X2_models, X2_accuracy, label = \"{}%  {}%\".format(round(X2_scores[0][1], 2)*100, round(X2_scores[1][1], 2)*100))\n",
    "\n",
    "plt.axhline(y=1/len(set(y)), color='#17CA83', linestyle='-', label = \"Random Guessing\")\n",
    "plt.legend()\n",
    "\n",
    "\n",
    "plt.show()"
   ]
  },
  {
   "cell_type": "code",
   "execution_count": 42,
   "metadata": {},
   "outputs": [],
   "source": [
    "R2_AVG_Scores = (X2_scores[0][2] + X2_scores[1][2])/2\n",
    "R2_df =  pd.DataFrame(R2_AVG_Scores, columns = [item + \"_AVG\" for item in classes])"
   ]
  },
  {
   "cell_type": "code",
   "execution_count": 43,
   "metadata": {
    "scrolled": true
   },
   "outputs": [
    {
     "data": {
      "text/plain": [
       "True"
      ]
     },
     "execution_count": 43,
     "metadata": {},
     "output_type": "execute_result"
    }
   ],
   "source": [
    "R1_df.shape == R2_df.shape"
   ]
  },
  {
   "cell_type": "code",
   "execution_count": 44,
   "metadata": {
    "scrolled": true
   },
   "outputs": [
    {
     "data": {
      "text/html": [
       "<div>\n",
       "<style scoped>\n",
       "    .dataframe tbody tr th:only-of-type {\n",
       "        vertical-align: middle;\n",
       "    }\n",
       "\n",
       "    .dataframe tbody tr th {\n",
       "        vertical-align: top;\n",
       "    }\n",
       "\n",
       "    .dataframe thead th {\n",
       "        text-align: right;\n",
       "    }\n",
       "</style>\n",
       "<table border=\"1\" class=\"dataframe\">\n",
       "  <thead>\n",
       "    <tr style=\"text-align: right;\">\n",
       "      <th></th>\n",
       "      <th>Country_AVG</th>\n",
       "      <th>Electronic_AVG</th>\n",
       "      <th>Hip-Hop_AVG</th>\n",
       "      <th>Jazz_AVG</th>\n",
       "      <th>Metal_AVG</th>\n",
       "      <th>Pop_AVG</th>\n",
       "      <th>R&amp;B_AVG</th>\n",
       "      <th>Rock_AVG</th>\n",
       "    </tr>\n",
       "  </thead>\n",
       "  <tbody>\n",
       "    <tr>\n",
       "      <th>0</th>\n",
       "      <td>0.021688</td>\n",
       "      <td>0.077889</td>\n",
       "      <td>0.080408</td>\n",
       "      <td>0.077984</td>\n",
       "      <td>0.172722</td>\n",
       "      <td>0.381309</td>\n",
       "      <td>0.145245</td>\n",
       "      <td>0.042755</td>\n",
       "    </tr>\n",
       "    <tr>\n",
       "      <th>1</th>\n",
       "      <td>0.047738</td>\n",
       "      <td>0.123191</td>\n",
       "      <td>0.437547</td>\n",
       "      <td>0.014668</td>\n",
       "      <td>0.093370</td>\n",
       "      <td>0.191871</td>\n",
       "      <td>0.061224</td>\n",
       "      <td>0.030391</td>\n",
       "    </tr>\n",
       "    <tr>\n",
       "      <th>2</th>\n",
       "      <td>0.042194</td>\n",
       "      <td>0.108294</td>\n",
       "      <td>0.039385</td>\n",
       "      <td>0.042362</td>\n",
       "      <td>0.407090</td>\n",
       "      <td>0.175590</td>\n",
       "      <td>0.108888</td>\n",
       "      <td>0.076196</td>\n",
       "    </tr>\n",
       "    <tr>\n",
       "      <th>3</th>\n",
       "      <td>0.040947</td>\n",
       "      <td>0.109367</td>\n",
       "      <td>0.038918</td>\n",
       "      <td>0.108187</td>\n",
       "      <td>0.108542</td>\n",
       "      <td>0.208857</td>\n",
       "      <td>0.075535</td>\n",
       "      <td>0.309646</td>\n",
       "    </tr>\n",
       "    <tr>\n",
       "      <th>4</th>\n",
       "      <td>0.243490</td>\n",
       "      <td>0.040694</td>\n",
       "      <td>0.037418</td>\n",
       "      <td>0.110414</td>\n",
       "      <td>0.273547</td>\n",
       "      <td>0.176094</td>\n",
       "      <td>0.075538</td>\n",
       "      <td>0.042805</td>\n",
       "    </tr>\n",
       "  </tbody>\n",
       "</table>\n",
       "</div>"
      ],
      "text/plain": [
       "   Country_AVG  Electronic_AVG  Hip-Hop_AVG  Jazz_AVG  Metal_AVG   Pop_AVG  \\\n",
       "0     0.021688        0.077889     0.080408  0.077984   0.172722  0.381309   \n",
       "1     0.047738        0.123191     0.437547  0.014668   0.093370  0.191871   \n",
       "2     0.042194        0.108294     0.039385  0.042362   0.407090  0.175590   \n",
       "3     0.040947        0.109367     0.038918  0.108187   0.108542  0.208857   \n",
       "4     0.243490        0.040694     0.037418  0.110414   0.273547  0.176094   \n",
       "\n",
       "    R&B_AVG  Rock_AVG  \n",
       "0  0.145245  0.042755  \n",
       "1  0.061224  0.030391  \n",
       "2  0.108888  0.076196  \n",
       "3  0.075535  0.309646  \n",
       "4  0.075538  0.042805  "
      ]
     },
     "execution_count": 44,
     "metadata": {},
     "output_type": "execute_result"
    }
   ],
   "source": [
    "R1_df.head()"
   ]
  },
  {
   "cell_type": "code",
   "execution_count": 45,
   "metadata": {},
   "outputs": [
    {
     "data": {
      "text/html": [
       "<div>\n",
       "<style scoped>\n",
       "    .dataframe tbody tr th:only-of-type {\n",
       "        vertical-align: middle;\n",
       "    }\n",
       "\n",
       "    .dataframe tbody tr th {\n",
       "        vertical-align: top;\n",
       "    }\n",
       "\n",
       "    .dataframe thead th {\n",
       "        text-align: right;\n",
       "    }\n",
       "</style>\n",
       "<table border=\"1\" class=\"dataframe\">\n",
       "  <thead>\n",
       "    <tr style=\"text-align: right;\">\n",
       "      <th></th>\n",
       "      <th>Country_AVG</th>\n",
       "      <th>Electronic_AVG</th>\n",
       "      <th>Hip-Hop_AVG</th>\n",
       "      <th>Jazz_AVG</th>\n",
       "      <th>Metal_AVG</th>\n",
       "      <th>Pop_AVG</th>\n",
       "      <th>R&amp;B_AVG</th>\n",
       "      <th>Rock_AVG</th>\n",
       "    </tr>\n",
       "  </thead>\n",
       "  <tbody>\n",
       "    <tr>\n",
       "      <th>0</th>\n",
       "      <td>0.047769</td>\n",
       "      <td>0.516980</td>\n",
       "      <td>0.035407</td>\n",
       "      <td>0.081689</td>\n",
       "      <td>0.059236</td>\n",
       "      <td>0.098599</td>\n",
       "      <td>0.066628</td>\n",
       "      <td>0.093693</td>\n",
       "    </tr>\n",
       "    <tr>\n",
       "      <th>1</th>\n",
       "      <td>0.121772</td>\n",
       "      <td>0.051305</td>\n",
       "      <td>0.024289</td>\n",
       "      <td>0.192795</td>\n",
       "      <td>0.044711</td>\n",
       "      <td>0.092580</td>\n",
       "      <td>0.118648</td>\n",
       "      <td>0.353900</td>\n",
       "    </tr>\n",
       "    <tr>\n",
       "      <th>2</th>\n",
       "      <td>0.130299</td>\n",
       "      <td>0.066602</td>\n",
       "      <td>0.029998</td>\n",
       "      <td>0.420444</td>\n",
       "      <td>0.088482</td>\n",
       "      <td>0.096481</td>\n",
       "      <td>0.077741</td>\n",
       "      <td>0.089952</td>\n",
       "    </tr>\n",
       "    <tr>\n",
       "      <th>3</th>\n",
       "      <td>0.192157</td>\n",
       "      <td>0.075217</td>\n",
       "      <td>0.023068</td>\n",
       "      <td>0.190702</td>\n",
       "      <td>0.081870</td>\n",
       "      <td>0.215819</td>\n",
       "      <td>0.115592</td>\n",
       "      <td>0.105575</td>\n",
       "    </tr>\n",
       "    <tr>\n",
       "      <th>4</th>\n",
       "      <td>0.065138</td>\n",
       "      <td>0.064023</td>\n",
       "      <td>0.043496</td>\n",
       "      <td>0.044308</td>\n",
       "      <td>0.519423</td>\n",
       "      <td>0.092249</td>\n",
       "      <td>0.069692</td>\n",
       "      <td>0.101672</td>\n",
       "    </tr>\n",
       "  </tbody>\n",
       "</table>\n",
       "</div>"
      ],
      "text/plain": [
       "   Country_AVG  Electronic_AVG  Hip-Hop_AVG  Jazz_AVG  Metal_AVG   Pop_AVG  \\\n",
       "0     0.047769        0.516980     0.035407  0.081689   0.059236  0.098599   \n",
       "1     0.121772        0.051305     0.024289  0.192795   0.044711  0.092580   \n",
       "2     0.130299        0.066602     0.029998  0.420444   0.088482  0.096481   \n",
       "3     0.192157        0.075217     0.023068  0.190702   0.081870  0.215819   \n",
       "4     0.065138        0.064023     0.043496  0.044308   0.519423  0.092249   \n",
       "\n",
       "    R&B_AVG  Rock_AVG  \n",
       "0  0.066628  0.093693  \n",
       "1  0.118648  0.353900  \n",
       "2  0.077741  0.089952  \n",
       "3  0.115592  0.105575  \n",
       "4  0.069692  0.101672  "
      ]
     },
     "execution_count": 45,
     "metadata": {},
     "output_type": "execute_result"
    }
   ],
   "source": [
    "R2_df.head()"
   ]
  },
  {
   "cell_type": "code",
   "execution_count": 46,
   "metadata": {},
   "outputs": [],
   "source": [
    "R3_df = pd.concat([R1_df, R2_df])"
   ]
  },
  {
   "cell_type": "code",
   "execution_count": 47,
   "metadata": {},
   "outputs": [],
   "source": [
    "y3 = pd.concat([y1_train, y2_train])"
   ]
  },
  {
   "cell_type": "code",
   "execution_count": 48,
   "metadata": {},
   "outputs": [
    {
     "data": {
      "text/plain": [
       "(12800,)"
      ]
     },
     "execution_count": 48,
     "metadata": {},
     "output_type": "execute_result"
    }
   ],
   "source": [
    "y3.shape"
   ]
  },
  {
   "cell_type": "code",
   "execution_count": 49,
   "metadata": {
    "scrolled": true
   },
   "outputs": [
    {
     "data": {
      "text/plain": [
       "(6400, 6400)"
      ]
     },
     "execution_count": 49,
     "metadata": {},
     "output_type": "execute_result"
    }
   ],
   "source": [
    "sum(y3[0:6400] == y1_train), sum(y3[6400:] == y2_train)"
   ]
  },
  {
   "cell_type": "markdown",
   "metadata": {},
   "source": [
    "### Round 3 - Plug all AVG probabilities as features and train a final NN model"
   ]
  },
  {
   "cell_type": "code",
   "execution_count": 50,
   "metadata": {},
   "outputs": [
    {
     "name": "stderr",
     "output_type": "stream",
     "text": [
      "Using TensorFlow backend.\n"
     ]
    }
   ],
   "source": [
    "import matplotlib.pyplot as plt\n",
    "import pandas as pd\n",
    "import numpy as np\n",
    "import random\n",
    "from sklearn.model_selection import train_test_split\n",
    "from keras.utils.np_utils import to_categorical\n",
    "from sklearn import preprocessing\n",
    "from keras.preprocessing.text import Tokenizer\n",
    "from keras import models\n",
    "from keras import layers\n",
    "from keras import optimizers"
   ]
  },
  {
   "cell_type": "code",
   "execution_count": 51,
   "metadata": {
    "scrolled": false
   },
   "outputs": [
    {
     "name": "stdout",
     "output_type": "stream",
     "text": [
      "Original class labels:\n",
      "['Country', 'Electronic', 'Hip-Hop', 'Jazz', 'Metal', 'Pop', 'R&B', 'Rock']\n",
      "\n",
      "\n",
      "New product labels:\n",
      "[5 2 4 ... 4 1 1]\n",
      "\n",
      "\n",
      "One hot labels; 7 binary columns, one for each of the categories.\n",
      "[[0. 0. 0. ... 1. 0. 0.]\n",
      " [0. 0. 1. ... 0. 0. 0.]\n",
      " [0. 0. 0. ... 0. 0. 0.]\n",
      " ...\n",
      " [0. 0. 0. ... 0. 0. 0.]\n",
      " [0. 1. 0. ... 0. 0. 0.]\n",
      " [0. 1. 0. ... 0. 0. 0.]]\n",
      "\n",
      "\n",
      "One hot labels shape:\n",
      "(12800, 8)\n"
     ]
    }
   ],
   "source": [
    "#Converting y_test to categorical\n",
    "\n",
    "product = y3\n",
    "\n",
    "le = preprocessing.LabelEncoder() #Initialize. le used as abbreviation fo label encoder\n",
    "le.fit(product)\n",
    "print(\"Original class labels:\")\n",
    "print(list(le.classes_))\n",
    "print('\\n')\n",
    "product_cat = le.transform(product)  \n",
    "#list(le.inverse_transform([0, 1, 3, 3, 0, 6, 4])) #If you wish to retrieve the original descriptive labels post production\n",
    "\n",
    "print('New product labels:')\n",
    "print(product_cat)\n",
    "print('\\n')\n",
    "\n",
    "\n",
    "print('One hot labels; 7 binary columns, one for each of the categories.') #Each row will be all zeros except for the category for that observation.\n",
    "product_onehot = to_categorical(product_cat)\n",
    "print(product_onehot)\n",
    "print('\\n')\n",
    "\n",
    "print('One hot labels shape:')\n",
    "print(np.shape(product_onehot))"
   ]
  },
  {
   "cell_type": "code",
   "execution_count": 53,
   "metadata": {
    "scrolled": true
   },
   "outputs": [
    {
     "name": "stdout",
     "output_type": "stream",
     "text": [
      "(7200, 8) (1800, 8) (7200, 8) (1800, 8)\n"
     ]
    },
    {
     "data": {
      "text/plain": [
       "array([[0., 0., 0., ..., 0., 0., 0.],\n",
       "       [1., 0., 0., ..., 0., 0., 0.],\n",
       "       [0., 0., 0., ..., 0., 1., 0.],\n",
       "       ...,\n",
       "       [0., 0., 0., ..., 1., 0., 0.],\n",
       "       [0., 0., 0., ..., 0., 0., 0.],\n",
       "       [0., 0., 0., ..., 0., 0., 0.]], dtype=float32)"
      ]
     },
     "execution_count": 53,
     "metadata": {},
     "output_type": "execute_result"
    }
   ],
   "source": [
    "X3_train, X3_test, y3_train, y3_test = train_test_split(R3_df[:9000], product_onehot[:9000], test_size=0.2, random_state=123)  \n",
    "\n",
    "# X_train = X_train.reset_index(drop=True)\n",
    "# y_train = y_train.reset_index(drop=True)  \n",
    "\n",
    "\n",
    "print(X3_train.shape, X3_test.shape, y3_train.shape, y3_test.shape)\n",
    "y3_train"
   ]
  },
  {
   "cell_type": "code",
   "execution_count": 54,
   "metadata": {},
   "outputs": [],
   "source": [
    "#Instantiate Neural Networks Model\n",
    "\n",
    "random.seed(123)\n",
    "from keras import models\n",
    "from keras import layers\n",
    "model = models.Sequential()\n",
    "model.add(layers.Dense(7, input_dim=8, kernel_initializer='normal', activation='tanh')) #2 hidden layers\n",
    "model.add(layers.Dense(3, activation='tanh'))\n",
    "model.add(layers.Dense(8, activation='softmax'))"
   ]
  },
  {
   "cell_type": "code",
   "execution_count": 55,
   "metadata": {},
   "outputs": [],
   "source": [
    "model.compile(optimizer='SGD',\n",
    "              loss='categorical_crossentropy',\n",
    "              metrics=['accuracy'])"
   ]
  },
  {
   "cell_type": "code",
   "execution_count": 59,
   "metadata": {
    "scrolled": true
   },
   "outputs": [
    {
     "name": "stdout",
     "output_type": "stream",
     "text": [
      "Train on 7200 samples, validate on 1800 samples\n",
      "Epoch 1/50\n",
      "7200/7200 [==============================] - 0s 25us/step - loss: 0.2908 - acc: 0.9360 - val_loss: 0.3140 - val_acc: 0.9306\n",
      "Epoch 2/50\n",
      "7200/7200 [==============================] - 0s 25us/step - loss: 0.2899 - acc: 0.9346 - val_loss: 0.3148 - val_acc: 0.9272\n",
      "Epoch 3/50\n",
      "7200/7200 [==============================] - 0s 26us/step - loss: 0.2894 - acc: 0.9342 - val_loss: 0.3128 - val_acc: 0.9283\n",
      "Epoch 4/50\n",
      "7200/7200 [==============================] - 0s 25us/step - loss: 0.2883 - acc: 0.9354 - val_loss: 0.3127 - val_acc: 0.9272\n",
      "Epoch 5/50\n",
      "7200/7200 [==============================] - 0s 29us/step - loss: 0.2877 - acc: 0.9344 - val_loss: 0.3131 - val_acc: 0.9294\n",
      "Epoch 6/50\n",
      "7200/7200 [==============================] - 0s 28us/step - loss: 0.2869 - acc: 0.9353 - val_loss: 0.3109 - val_acc: 0.9300\n",
      "Epoch 7/50\n",
      "7200/7200 [==============================] - 0s 29us/step - loss: 0.2864 - acc: 0.9350 - val_loss: 0.3114 - val_acc: 0.9283\n",
      "Epoch 8/50\n",
      "7200/7200 [==============================] - 0s 26us/step - loss: 0.2858 - acc: 0.9346 - val_loss: 0.3105 - val_acc: 0.9300\n",
      "Epoch 9/50\n",
      "7200/7200 [==============================] - 0s 27us/step - loss: 0.2849 - acc: 0.9354 - val_loss: 0.3093 - val_acc: 0.9322\n",
      "Epoch 10/50\n",
      "7200/7200 [==============================] - 0s 23us/step - loss: 0.2848 - acc: 0.9361 - val_loss: 0.3091 - val_acc: 0.9283\n",
      "Epoch 11/50\n",
      "7200/7200 [==============================] - 0s 25us/step - loss: 0.2838 - acc: 0.9356 - val_loss: 0.3081 - val_acc: 0.9283\n",
      "Epoch 12/50\n",
      "7200/7200 [==============================] - 0s 25us/step - loss: 0.2834 - acc: 0.9354 - val_loss: 0.3078 - val_acc: 0.9283\n",
      "Epoch 13/50\n",
      "7200/7200 [==============================] - 0s 28us/step - loss: 0.2829 - acc: 0.9349 - val_loss: 0.3078 - val_acc: 0.9278\n",
      "Epoch 14/50\n",
      "7200/7200 [==============================] - 0s 22us/step - loss: 0.2823 - acc: 0.9361 - val_loss: 0.3065 - val_acc: 0.9289\n",
      "Epoch 15/50\n",
      "7200/7200 [==============================] - 0s 24us/step - loss: 0.2816 - acc: 0.9363 - val_loss: 0.3066 - val_acc: 0.9306\n",
      "Epoch 16/50\n",
      "7200/7200 [==============================] - 0s 25us/step - loss: 0.2815 - acc: 0.9360 - val_loss: 0.3060 - val_acc: 0.9267\n",
      "Epoch 17/50\n",
      "7200/7200 [==============================] - 0s 26us/step - loss: 0.2807 - acc: 0.9358 - val_loss: 0.3058 - val_acc: 0.9317\n",
      "Epoch 18/50\n",
      "7200/7200 [==============================] - 0s 31us/step - loss: 0.2802 - acc: 0.9365 - val_loss: 0.3054 - val_acc: 0.9306\n",
      "Epoch 19/50\n",
      "7200/7200 [==============================] - 0s 26us/step - loss: 0.2800 - acc: 0.9354 - val_loss: 0.3051 - val_acc: 0.9294\n",
      "Epoch 20/50\n",
      "7200/7200 [==============================] - 0s 25us/step - loss: 0.2792 - acc: 0.9358 - val_loss: 0.3043 - val_acc: 0.9300\n",
      "Epoch 21/50\n",
      "7200/7200 [==============================] - 0s 28us/step - loss: 0.2790 - acc: 0.9364 - val_loss: 0.3037 - val_acc: 0.9300\n",
      "Epoch 22/50\n",
      "7200/7200 [==============================] - 0s 25us/step - loss: 0.2787 - acc: 0.9368 - val_loss: 0.3036 - val_acc: 0.9311\n",
      "Epoch 23/50\n",
      "7200/7200 [==============================] - 0s 25us/step - loss: 0.2782 - acc: 0.9368 - val_loss: 0.3042 - val_acc: 0.9311\n",
      "Epoch 24/50\n",
      "7200/7200 [==============================] - 0s 26us/step - loss: 0.2777 - acc: 0.9360 - val_loss: 0.3032 - val_acc: 0.9300\n",
      "Epoch 25/50\n",
      "7200/7200 [==============================] - 0s 26us/step - loss: 0.2772 - acc: 0.9372 - val_loss: 0.3030 - val_acc: 0.9306\n",
      "Epoch 26/50\n",
      "7200/7200 [==============================] - 0s 25us/step - loss: 0.2768 - acc: 0.9362 - val_loss: 0.3040 - val_acc: 0.9311\n",
      "Epoch 27/50\n",
      "7200/7200 [==============================] - 0s 25us/step - loss: 0.2766 - acc: 0.9363 - val_loss: 0.3022 - val_acc: 0.9306\n",
      "Epoch 28/50\n",
      "7200/7200 [==============================] - 0s 24us/step - loss: 0.2759 - acc: 0.9375 - val_loss: 0.3013 - val_acc: 0.9306\n",
      "Epoch 29/50\n",
      "7200/7200 [==============================] - 0s 27us/step - loss: 0.2757 - acc: 0.9376 - val_loss: 0.3017 - val_acc: 0.9328\n",
      "Epoch 30/50\n",
      "7200/7200 [==============================] - 0s 25us/step - loss: 0.2752 - acc: 0.9361 - val_loss: 0.3015 - val_acc: 0.9322\n",
      "Epoch 31/50\n",
      "7200/7200 [==============================] - 0s 26us/step - loss: 0.2749 - acc: 0.9376 - val_loss: 0.3007 - val_acc: 0.9300\n",
      "Epoch 32/50\n",
      "7200/7200 [==============================] - 0s 25us/step - loss: 0.2745 - acc: 0.9374 - val_loss: 0.3010 - val_acc: 0.9322\n",
      "Epoch 33/50\n",
      "7200/7200 [==============================] - 0s 24us/step - loss: 0.2745 - acc: 0.9369 - val_loss: 0.2998 - val_acc: 0.9322\n",
      "Epoch 34/50\n",
      "7200/7200 [==============================] - 0s 24us/step - loss: 0.2738 - acc: 0.9358 - val_loss: 0.2997 - val_acc: 0.9317\n",
      "Epoch 35/50\n",
      "7200/7200 [==============================] - 0s 26us/step - loss: 0.2737 - acc: 0.9371 - val_loss: 0.2991 - val_acc: 0.9306\n",
      "Epoch 36/50\n",
      "7200/7200 [==============================] - 0s 25us/step - loss: 0.2736 - acc: 0.9375 - val_loss: 0.2992 - val_acc: 0.9311\n",
      "Epoch 37/50\n",
      "7200/7200 [==============================] - 0s 26us/step - loss: 0.2732 - acc: 0.9367 - val_loss: 0.2993 - val_acc: 0.9328\n",
      "Epoch 38/50\n",
      "7200/7200 [==============================] - 0s 27us/step - loss: 0.2726 - acc: 0.9369 - val_loss: 0.2995 - val_acc: 0.9317\n",
      "Epoch 39/50\n",
      "7200/7200 [==============================] - 0s 25us/step - loss: 0.2724 - acc: 0.9357 - val_loss: 0.3006 - val_acc: 0.9311\n",
      "Epoch 40/50\n",
      "7200/7200 [==============================] - 0s 26us/step - loss: 0.2720 - acc: 0.9375 - val_loss: 0.2984 - val_acc: 0.9322\n",
      "Epoch 41/50\n",
      "7200/7200 [==============================] - 0s 25us/step - loss: 0.2721 - acc: 0.9371 - val_loss: 0.2976 - val_acc: 0.9328\n",
      "Epoch 42/50\n",
      "7200/7200 [==============================] - 0s 24us/step - loss: 0.2717 - acc: 0.9371 - val_loss: 0.2983 - val_acc: 0.9278\n",
      "Epoch 43/50\n",
      "7200/7200 [==============================] - 0s 27us/step - loss: 0.2716 - acc: 0.9376 - val_loss: 0.2973 - val_acc: 0.9333\n",
      "Epoch 44/50\n",
      "7200/7200 [==============================] - 0s 27us/step - loss: 0.2712 - acc: 0.9368 - val_loss: 0.2969 - val_acc: 0.9328\n",
      "Epoch 45/50\n",
      "7200/7200 [==============================] - 0s 26us/step - loss: 0.2708 - acc: 0.9386 - val_loss: 0.2999 - val_acc: 0.9300\n",
      "Epoch 46/50\n",
      "7200/7200 [==============================] - 0s 26us/step - loss: 0.2711 - acc: 0.9368 - val_loss: 0.2965 - val_acc: 0.9322\n",
      "Epoch 47/50\n",
      "7200/7200 [==============================] - 0s 24us/step - loss: 0.2703 - acc: 0.9369 - val_loss: 0.2971 - val_acc: 0.9333\n",
      "Epoch 48/50\n",
      "7200/7200 [==============================] - 0s 27us/step - loss: 0.2696 - acc: 0.9369 - val_loss: 0.2964 - val_acc: 0.9322\n",
      "Epoch 49/50\n",
      "7200/7200 [==============================] - 0s 25us/step - loss: 0.2698 - acc: 0.9364 - val_loss: 0.2962 - val_acc: 0.9317\n",
      "Epoch 50/50\n",
      "7200/7200 [==============================] - 0s 24us/step - loss: 0.2697 - acc: 0.9383 - val_loss: 0.2965 - val_acc: 0.9339\n"
     ]
    }
   ],
   "source": [
    "model_val = model.fit(X3_train,\n",
    "                    y3_train,\n",
    "                    epochs=50,\n",
    "                    batch_size=32,\n",
    "                    validation_data=(X3_test, y3_test))"
   ]
  },
  {
   "cell_type": "markdown",
   "metadata": {},
   "source": [
    "### Do final Test with 'Holdout' data"
   ]
  },
  {
   "cell_type": "code",
   "execution_count": 60,
   "metadata": {
    "scrolled": false
   },
   "outputs": [
    {
     "name": "stdout",
     "output_type": "stream",
     "text": [
      "3800/3800 [==============================] - 0s 12us/step\n"
     ]
    },
    {
     "data": {
      "text/plain": [
       "[0.4376341646282296, 0.8894736842105263]"
      ]
     },
     "execution_count": 60,
     "metadata": {},
     "output_type": "execute_result"
    }
   ],
   "source": [
    "validation_score = model.evaluate(R3_df[9000:], product_onehot[9000:])\n",
    "validation_score"
   ]
  },
  {
   "cell_type": "code",
   "execution_count": 101,
   "metadata": {},
   "outputs": [
    {
     "data": {
      "text/plain": [
       "(12800, 8)"
      ]
     },
     "execution_count": 101,
     "metadata": {},
     "output_type": "execute_result"
    }
   ],
   "source": [
    "R3_df.shape"
   ]
  },
  {
   "cell_type": "markdown",
   "metadata": {},
   "source": [
    "### Try a test with different data"
   ]
  },
  {
   "cell_type": "code",
   "execution_count": null,
   "metadata": {},
   "outputs": [],
   "source": [
    "R3_df = pd.concat([R1_df, R2_df])\n"
   ]
  },
  {
   "cell_type": "code",
   "execution_count": 65,
   "metadata": {},
   "outputs": [],
   "source": [
    "y_hat = model.predict_classes(R3_df[9000:])"
   ]
  },
  {
   "cell_type": "code",
   "execution_count": 61,
   "metadata": {
    "scrolled": true
   },
   "outputs": [
    {
     "data": {
      "text/plain": [
       "['Electronic',\n",
       " 'R&B',\n",
       " 'Electronic',\n",
       " 'Electronic',\n",
       " 'Hip-Hop',\n",
       " 'Metal',\n",
       " 'Jazz',\n",
       " 'Pop',\n",
       " 'Electronic',\n",
       " 'Metal']"
      ]
     },
     "execution_count": 61,
     "metadata": {},
     "output_type": "execute_result"
    }
   ],
   "source": [
    "tryit = list(le.inverse_transform(y_hat))\n",
    "tryit[-10:]"
   ]
  },
  {
   "cell_type": "code",
   "execution_count": 67,
   "metadata": {},
   "outputs": [
    {
     "data": {
      "text/plain": [
       "array([5, 3, 1, 4, 6, 6, 4, 4, 1, 6])"
      ]
     },
     "execution_count": 67,
     "metadata": {},
     "output_type": "execute_result"
    }
   ],
   "source": [
    "y_hat[-10:]"
   ]
  },
  {
   "cell_type": "code",
   "execution_count": 68,
   "metadata": {},
   "outputs": [
    {
     "data": {
      "text/plain": [
       "[7, 3, 1, 4, 6, 1, 4, 4, 1, 1]"
      ]
     },
     "execution_count": 68,
     "metadata": {},
     "output_type": "execute_result"
    }
   ],
   "source": [
    "actual = [np.where(item == 1)[0][0] for item in product_onehot[9000:]]\n",
    "actual[-10:]"
   ]
  },
  {
   "cell_type": "code",
   "execution_count": 69,
   "metadata": {},
   "outputs": [
    {
     "data": {
      "text/plain": [
       "['Rock',\n",
       " 'Jazz',\n",
       " 'Electronic',\n",
       " 'Metal',\n",
       " 'R&B',\n",
       " 'Electronic',\n",
       " 'Metal',\n",
       " 'Metal',\n",
       " 'Electronic',\n",
       " 'Electronic']"
      ]
     },
     "execution_count": 69,
     "metadata": {},
     "output_type": "execute_result"
    }
   ],
   "source": [
    "actual_genre = list(le.inverse_transform(actual))\n",
    "actual_genre[-10:]"
   ]
  },
  {
   "cell_type": "code",
   "execution_count": 70,
   "metadata": {},
   "outputs": [
    {
     "data": {
      "text/plain": [
       "0.13"
      ]
     },
     "execution_count": 70,
     "metadata": {},
     "output_type": "execute_result"
    }
   ],
   "source": [
    "count = 0\n",
    "for item in list(zip(tryit, actual_genre)):\n",
    "        if item[0] == item[1]:\n",
    "            count += 1\n",
    "            \n",
    "count/len(tryit)"
   ]
  },
  {
   "cell_type": "code",
   "execution_count": null,
   "metadata": {},
   "outputs": [],
   "source": [
    "model_val_dict = model_val.history\n",
    "model_val_dict.keys()"
   ]
  },
  {
   "cell_type": "code",
   "execution_count": null,
   "metadata": {},
   "outputs": [],
   "source": [
    "results_train = model.evaluate(X_train, y_train)\n",
    "results_train"
   ]
  },
  {
   "cell_type": "code",
   "execution_count": null,
   "metadata": {},
   "outputs": [],
   "source": [
    "results_test = model.evaluate(X_test, y_test)\n",
    "results_test"
   ]
  },
  {
   "cell_type": "code",
   "execution_count": null,
   "metadata": {},
   "outputs": [],
   "source": [
    "y_hat_test = model.predict(X_test)\n",
    "result = y_test - y_hat_test\n",
    "print(sum(sum(result)))"
   ]
  },
  {
   "cell_type": "code",
   "execution_count": null,
   "metadata": {},
   "outputs": [],
   "source": [
    "from sklearn.model_selection import train_test_split  \n",
    "X_train, X_test, y_train, y_test = train_test_split(lemmed_lyrics, maybe_df.genre, test_size=0.2, random_state=18)"
   ]
  },
  {
   "cell_type": "code",
   "execution_count": null,
   "metadata": {},
   "outputs": [],
   "source": []
  },
  {
   "cell_type": "code",
   "execution_count": null,
   "metadata": {},
   "outputs": [],
   "source": [
    "model.evaluate(X_test, y_test)"
   ]
  },
  {
   "cell_type": "code",
   "execution_count": 100,
   "metadata": {},
   "outputs": [
    {
     "data": {
      "image/png": "[encoded data removed]",
      "text/plain": [
       "<Figure size 792x504 with 1 Axes>"
      ]
     },
     "metadata": {
      "needs_background": "light"
     },
     "output_type": "display_data"
    }
   ],
   "source": [
    "modles_lem = [\"NN Training Accuracy\", \"NN Testing Accuracy\"]\n",
    "accuracy_lem = [0.86, 0.80]\n",
    "\n",
    "\n",
    "import numpy as np\n",
    "import matplotlib.pyplot as plt\n",
    "from matplotlib.ticker import MaxNLocator\n",
    "from collections import namedtuple\n",
    "\n",
    "plt.figure(figsize=(11,7))\n",
    "barlist=plt.bar(modles_lem, accuracy_lem)\n",
    "barlist[0].set_color('#0B98CD')\n",
    "barlist[0].set_label('NN Training = 86%')\n",
    "barlist[1].set_color('#BB1963')\n",
    "barlist[1].set_label('NN Testing = 80%')\n",
    "plt.axhline(y=1/len(set(y)), color='#CD7B0B', linestyle='-', label = \"Random Guessing = 12.5%\")\n",
    "plt.axhline(y=0.5, color='#17CA83', linestyle='-', label = \"Gradient Boost = 50%\")\n",
    "plt.xlabel('Training Set vs. Testing Set', fontsize = 14)\n",
    "plt.ylabel('Accuracy Scores', fontsize = 14)\n",
    "plt.title('Final Model Stacking Performance', fontsize = 18)\n",
    "plt.ylim(top=1)\n",
    "plt.legend()\n",
    "plt.show()\n"
   ]
  },
  {
   "cell_type": "markdown",
   "metadata": {},
   "source": [
    "### We decided to pick Lemmatized over Stemmatized and top three models for further optimization"
   ]
  },
  {
   "cell_type": "markdown",
   "metadata": {},
   "source": [
    "### Next we want to try using PCA to improve performance and reduce dimentionality"
   ]
  },
  {
   "cell_type": "code",
   "execution_count": null,
   "metadata": {
    "scrolled": true
   },
   "outputs": [],
   "source": [
    "# tfidf = TfidfVectorizer()\n",
    "# response = tfidf.fit_transform(lemmed_lyrics)\n",
    "\n",
    "# PCA_df = pd.DataFrame(response.toarray(), columns=tfidf.get_feature_names())\n",
    "# PCA_df.shape"
   ]
  },
  {
   "cell_type": "code",
   "execution_count": null,
   "metadata": {},
   "outputs": [],
   "source": [
    "# DATA = response  # this comes from above where you're vectorizing tdif dictionary\n",
    "\n",
    "# non_zero_cols = DATA.nnz / float(DATA.shape[0])\n",
    "# print(\"Average Number of Non-Zero Elements in Vectorized Articles: {}\".format(non_zero_cols))\n",
    "\n",
    "# percent_sparse = 1 - (non_zero_cols / float(DATA.shape[1]))\n",
    "# print('Percentage of columns containing 0: {}'.format(percent_sparse))"
   ]
  },
  {
   "cell_type": "code",
   "execution_count": null,
   "metadata": {
    "scrolled": true
   },
   "outputs": [],
   "source": [
    "# PCA_df.head()"
   ]
  },
  {
   "cell_type": "markdown",
   "metadata": {},
   "source": [
    "### Creating Features table and Target table and testing first model"
   ]
  },
  {
   "cell_type": "code",
   "execution_count": null,
   "metadata": {
    "scrolled": true
   },
   "outputs": [],
   "source": [
    "# X_pca = PCA_df\n",
    "# y_pca = maybe_df.genre\n",
    "\n",
    "# len(X_pca) == len(y_pca)"
   ]
  },
  {
   "cell_type": "code",
   "execution_count": null,
   "metadata": {},
   "outputs": [],
   "source": [
    "# from sklearn.model_selection import train_test_split  \n",
    "# X_train_pca, X_test_pca, y_train_pca, y_test_pca = train_test_split(X_pca, y_pca, test_size=0.2, random_state=18) "
   ]
  },
  {
   "cell_type": "markdown",
   "metadata": {},
   "source": [
    "### Try different PCA values and pick a number that preserves sufficient % of variation"
   ]
  },
  {
   "cell_type": "code",
   "execution_count": null,
   "metadata": {
    "scrolled": false
   },
   "outputs": [],
   "source": [
    "# from sklearn.decomposition import PCA\n",
    "# pca_1 = PCA(n_components=500)\n",
    "# pca_2 = PCA(n_components=1000)\n",
    "# pca_3 = PCA(n_components=1455)\n",
    "# pca_4 = PCA(n_components=2000)\n",
    "\n",
    "# principalComponents = pca_1.fit_transform(X_pca)\n",
    "# principalComponents = pca_2.fit_transform(X_pca)\n",
    "# principalComponents = pca_3.fit_transform(X_pca)\n",
    "# principalComponents = pca_4.fit_transform(X_pca)\n",
    "\n",
    "# print(np.sum(pca_1.explained_variance_ratio_))\n",
    "# print(np.sum(pca_2.explained_variance_ratio_))\n",
    "# print(np.sum(pca_3.explained_variance_ratio_))\n",
    "# print(np.sum(pca_4.explained_variance_ratio_))"
   ]
  },
  {
   "cell_type": "markdown",
   "metadata": {},
   "source": [
    "### We will test PCA witn n = 1800 on our top 3 models to see if it helps performance"
   ]
  },
  {
   "cell_type": "code",
   "execution_count": null,
   "metadata": {
    "scrolled": true
   },
   "outputs": [],
   "source": [
    "# pipe_NB_pca = Pipeline([('pca', PCA(n_components=3000, random_state=18)),\n",
    "#                      ('clf', GaussianNB())\n",
    "#                     ])\n",
    "\n",
    "# pipe_RF_pca = Pipeline([('pca', PCA(n_components=3000, random_state=18)),\n",
    "#                      ('clf', RandomForestClassifier(n_jobs = -1))\n",
    "#                    ])\n",
    "                  \n",
    "# pipe_GBoost_pca = Pipeline([('pca', PCA(n_components=1800, random_state=18)),\n",
    "#                      ('clf', GradientBoostingClassifier(learning_rate=0.3))\n",
    "#                     ])\n",
    "\n",
    "\n",
    "# # List of pipelines, List of pipeline names\n",
    "# pipelines = [pipe_NB_pca, pipe_RF_pca, pipe_GBoost_pca]\n",
    "# pipeline_names = ['Multinomial NB', \"Random Forest\", \"Gradient Boost\"]\n",
    "\n",
    "# # Loop to fit each of the three pipelines\n",
    "# for pipe in pipelines:\n",
    "#     print(pipe)\n",
    "#     pipe.fit(X_train_pca, y_train_pca)\n",
    "\n",
    "# # Compare accuracies\n",
    "# PCA_scores = []\n",
    "# for index, val in enumerate(pipelines):\n",
    "#     tup = (pipeline_names[index], val.score(X_test_pca, y_test_pca))\n",
    "#     lemmed_basic_scores.append(tup)\n",
    "#     print('%s pipeline test accuracy: %.3f' % (pipeline_names[index], val.score(X_test_pca, y_test_pca)))"
   ]
  },
  {
   "cell_type": "code",
   "execution_count": null,
   "metadata": {},
   "outputs": [],
   "source": [
    "# PCA1800_results = dict(Multinomail_NB = 0.203,\n",
    "# Gradient_boost = 0.422,\n",
    "# Random_forest =0.290)\n",
    "\n"
   ]
  },
  {
   "cell_type": "code",
   "execution_count": null,
   "metadata": {
    "scrolled": true
   },
   "outputs": [],
   "source": [
    "# n_groups = 3\n",
    "\n",
    "# basic_mod_name = modles_lem[:3]\n",
    "# basic_mod_acc = accuracy_lem[:3]\n",
    "# pca_models_acc = [item[1] for item in PCA1800_results.items()]\n",
    "\n",
    "# fig, ax = plt.subplots(figsize = (10,8))\n",
    "\n",
    "\n",
    "# index = np.arange(n_groups)\n",
    "# bar_width = 0.35\n",
    "\n",
    "# opacity = 0.5\n",
    "# error_config = {'ecolor': '0.3'}\n",
    "\n",
    "# basic_bars = ax.bar(index, basic_mod_acc, bar_width,\n",
    "#                 alpha=opacity, color='b',\n",
    "#                 label='Basic Model')\n",
    "\n",
    "# pca_bars = ax.bar(index + bar_width, pca_models_acc , bar_width,\n",
    "#                 alpha=opacity, color='r',\n",
    "#                 label='PCA n_components = 1800')\n",
    "\n",
    "# ax.set_xlabel('Model Type', fontsize = 14)\n",
    "# ax.set_ylabel('Accuracy Scores', fontsize = 14)\n",
    "# ax.set_title('Basic Model vs. PCA with n = 1800 Model Comparison', fontsize = 18)\n",
    "# ax.set_xticks(index + bar_width / 2)\n",
    "# ax.set_xticklabels(basic_mod_name)\n",
    "\n",
    "# plt.axhline(y=1/len(set(y)), color='#17CA83', linestyle='-', label = \"Random Guessing\")\n",
    "# ax.legend()\n",
    "# plt.show()"
   ]
  },
  {
   "cell_type": "markdown",
   "metadata": {},
   "source": [
    "### We decided that it's not worth using PCA for our models because it increases computational time and doesn't really improve performance"
   ]
  },
  {
   "cell_type": "markdown",
   "metadata": {},
   "source": [
    "## Let's use GridSearch to try to optimize our  top 3 models!"
   ]
  },
  {
   "cell_type": "code",
   "execution_count": null,
   "metadata": {},
   "outputs": [],
   "source": [
    "Top3_pipelines = [pipe_NB, pipe_GBoost, pipe_RF]\n",
    "Top3_pipeline_names = ['Multinomail NB', \"Gboost\", 'Random Forest']"
   ]
  },
  {
   "cell_type": "markdown",
   "metadata": {},
   "source": [
    "### Grid Search RandomForest"
   ]
  },
  {
   "cell_type": "code",
   "execution_count": null,
   "metadata": {
    "scrolled": true
   },
   "outputs": [],
   "source": [
    "GS_pipe_RF = Pipeline([('count_vectorizer', CountVectorizer()), \n",
    "                     ('tfidf_vectorizer', TfidfTransformer()),\n",
    "                     ('clf', RandomForestClassifier())\n",
    "                    ])\n",
    "\n",
    "sorted(GS_pipe_RF.get_params().keys())\n",
    "\n",
    "rf_param_grid = dict(clf__n_estimators = [10, 30, 100], clf__criterion = ['gini', 'entropy'], \n",
    "                    clf__max_depth = [2, 6, 10], clf__min_samples_split = [5, 10],\n",
    "                    clf__min_samples_leaf = [3, 6])\n",
    "\n",
    "\n",
    "gs_RF = GridSearchCV(estimator=GS_pipe_RF,\n",
    "            param_grid=rf_param_grid,\n",
    "            scoring='accuracy',\n",
    "            cv=3)\n",
    "\n",
    "gs_RF.fit(X_train, y_train)\n",
    "\n",
    "dt_gs_training_score = np.mean(gs_RF.cv_results_['mean_train_score'])\n",
    "dt_gs_testing_score = gs_RF.score(X_test, y_test)\n",
    "\n",
    "print(\"Mean Training Score: {:.4}%\".format(dt_gs_training_score * 100))\n",
    "print(\"Mean Testing Score: {:.4}%\".format(dt_gs_testing_score * 100))\n",
    "print(\"Best Parameter Combination Found During Grid Search: {}\".format(gs_RF.best_params_))"
   ]
  },
  {
   "cell_type": "code",
   "execution_count": null,
   "metadata": {},
   "outputs": [],
   "source": [
    "Grid_RF_metrics = dict(train_score = dt_gs_training_score, test_score = dt_gs_testing_score, best_params = gs_RF.best_params_)\n",
    "Grid_RF_metrics"
   ]
  },
  {
   "cell_type": "markdown",
   "metadata": {},
   "source": [
    "### GridSearch Gboost"
   ]
  },
  {
   "cell_type": "code",
   "execution_count": null,
   "metadata": {
    "scrolled": false
   },
   "outputs": [],
   "source": [
    "GS_pipe_GB = Pipeline([('count_vectorizer', CountVectorizer()), \n",
    "                     ('tfidf_vectorizer', TfidfTransformer()),\n",
    "                     ('clf', GradientBoostingClassifier())\n",
    "                    ])\n",
    "# sorted(GS_pipe_RF.get_params().keys())\n",
    "\n",
    "GB_params = {\n",
    "    \"clf__learning_rate\": [0.2, 0.25],\n",
    "    \"clf__min_samples_split\": [4, 5],\n",
    "    \"clf__min_samples_leaf\": [6],\n",
    "    \"clf__max_depth\":[3],\n",
    "    \"clf__n_estimators\":[100, 150]\n",
    "    }\n",
    "\n",
    "gs_GB = GridSearchCV(estimator=GS_pipe_GB,\n",
    "            param_grid=GB_params,\n",
    "            scoring='accuracy',\n",
    "            cv=3)\n",
    "\n",
    "gs_GB.fit(X_train, y_train)\n",
    "\n",
    "dt_GB_training_score = np.mean(gs_GB.cv_results_['mean_train_score'])\n",
    "dt_GB_testing_score = gs_GB.score(X_test, y_test)\n",
    "\n",
    "print(\"Mean Training Score: {:.4}%\".format(dt_GB_training_score * 100))\n",
    "print(\"Mean Testing Score: {:.4}%\".format(dt_GB_testing_score * 100))\n",
    "print(\"Best Parameter Combination Found During Grid Search: {}\".format(gs_GB.best_params_))"
   ]
  },
  {
   "cell_type": "code",
   "execution_count": null,
   "metadata": {
    "scrolled": true
   },
   "outputs": [],
   "source": [
    "Grid_GB_metrics = dict(train_score = dt_GB_training_score, test_score = dt_GB_testing_score, best_params = gs_GB.best_params_)\n",
    "Grid_GB_metrics"
   ]
  },
  {
   "cell_type": "code",
   "execution_count": null,
   "metadata": {},
   "outputs": [],
   "source": [
    "hip_lyric = [\"dropin my dough real quick. Data Science squad for the win. Drake got nothin on us!\"]\n",
    "jazz_lyric = [\"humdinger, babababoo, bababaa from san francisco to georgia, we teach you to code like wah wah\"]\n",
    "rock_lyric = ['when I was young I thought code is not important. Now I learned that i need to know it if I want to grow.']\n",
    "def test_genre(lyric):\n",
    "    lemmed_test = clean_docs_lemma(lyric)\n",
    "    print(\"This song is definetely {}!\".format(gs_GB.predict(lemmed_test)[0]))"
   ]
  },
  {
   "cell_type": "code",
   "execution_count": null,
   "metadata": {},
   "outputs": [],
   "source": [
    "test_genre(rock_lyric)"
   ]
  },
  {
   "cell_type": "code",
   "execution_count": null,
   "metadata": {},
   "outputs": [],
   "source": [
    "basic_scores"
   ]
  },
  {
   "cell_type": "code",
   "execution_count": null,
   "metadata": {},
   "outputs": [],
   "source": [
    "final_top3 = [(\"GradientBoost with GridSearch\", Grid_GB_metrics['test_score']), basic_scores[0], (\"Random Forest with GridSearch\", basic_scores[2][1])]"
   ]
  },
  {
   "cell_type": "code",
   "execution_count": null,
   "metadata": {},
   "outputs": [],
   "source": [
    "final_top3"
   ]
  },
  {
   "cell_type": "code",
   "execution_count": null,
   "metadata": {},
   "outputs": [],
   "source": [
    "top3_model = [item[0] for item in final_top3]\n",
    "top3_scores = [item[1] for item in final_top3]\n",
    "\n",
    "plt.figure(figsize=(10,6))\n",
    "plt.title(\"Top3 Models Final Performance\", color ='#061152' , fontsize = 20)\n",
    "plt.ylabel(\"Accuracy Score\", color = '#061152', fontsize = 16)\n",
    "plt.bar(top3_model, top3_scores, color = \"#17CA83\", label = \"Top 3 Models\")\n",
    "\n",
    "plt.axhline(y=1/len(set(y)), color='#AF2138', linestyle='-', label = \"Random Guessing\")\n",
    "plt.legend()\n",
    "\n",
    "plt.show()"
   ]
  },
  {
   "cell_type": "code",
   "execution_count": null,
   "metadata": {},
   "outputs": [],
   "source": [
    "top_mode_df = pd.DataFrame.from_dict(Grid_GB_metrics['best_params'])\n",
    "top_mode_df"
   ]
  },
  {
   "cell_type": "code",
   "execution_count": null,
   "metadata": {},
   "outputs": [],
   "source": [
    "!pip install gensim\n",
    "import gensim\n",
    "from gensim.utils import simple_preprocess\n",
    "from gensim.parsing.preprocessing import STOPWORDS\n",
    "from gensim import corpora, models"
   ]
  },
  {
   "cell_type": "code",
   "execution_count": null,
   "metadata": {},
   "outputs": [],
   "source": [
    "import random\n",
    "test = random.sample(stemmed_lyrics, 7000)\n",
    "lemmed_lyr = [nltk.word_tokenize(doc) for doc in test]\n",
    "\n",
    "lemmed_lyr\n",
    "# test\n",
    "dictionary = gensim.corpora.Dictionary(lemmed_lyr)\n",
    "\n",
    "count = 0\n",
    "for k, v in dictionary.iteritems():\n",
    "    print(k, v)\n",
    "    count += 1\n",
    "    if count > 10:\n",
    "        break\n",
    "\n",
    "dictionary.filter_extremes(no_below=15, no_above=0.5, keep_n=100000)\n",
    "\n",
    "bow_corpus = [dictionary.doc2bow(doc) for doc in lemmed_lyr]"
   ]
  },
  {
   "cell_type": "markdown",
   "metadata": {},
   "source": [
    "### Run Topic Classifier using BoW"
   ]
  },
  {
   "cell_type": "code",
   "execution_count": null,
   "metadata": {},
   "outputs": [],
   "source": [
    "lda_model = gensim.models.LdaMulticore(bow_corpus, num_topics=15, id2word=dictionary, passes=2, workers=2)\n",
    "for idx, topic in lda_model.print_topics(-1):\n",
    "    print('Topic: {} \\nWords: {}'.format(idx, topic))"
   ]
  },
  {
   "cell_type": "markdown",
   "metadata": {},
   "source": [
    "### Using Topic Classifier Using TF-IDF"
   ]
  },
  {
   "cell_type": "code",
   "execution_count": null,
   "metadata": {},
   "outputs": [],
   "source": [
    "tfidf = models.TfidfModel(bow_corpus)\n",
    "corpus_tfidf = tfidf[bow_corpus]\n",
    "\n",
    "lda_model_tfidf = gensim.models.LdaMulticore(corpus_tfidf, num_topics=15, id2word=dictionary, passes=2, workers=4)\n",
    "for idx, topic in lda_model_tfidf.print_topics(-1):\n",
    "    print('Topic: {} Word: {}'.format(idx, topic))"
   ]
  },
  {
   "cell_type": "markdown",
   "metadata": {},
   "source": [
    "### WordCloud"
   ]
  },
  {
   "cell_type": "code",
   "execution_count": null,
   "metadata": {},
   "outputs": [],
   "source": [
    "weights = tfidf[bow_corpus[12]]\n",
    "\n",
    "# Get terms from the dictionary and pair with weights\n",
    "\n",
    "weights = [(dictionary[pair[0]], pair[1]) for pair in weights]\n",
    "weights[-35:]\n",
    "\n"
   ]
  },
  {
   "cell_type": "code",
   "execution_count": null,
   "metadata": {},
   "outputs": [],
   "source": [
    "# !pip install wordcloud\n",
    "from wordcloud import WordCloud\n",
    "\n",
    "# Initialize the word cloud\n",
    "\n",
    "d = {}\n",
    "for a, x in weights:\n",
    "    d[a] = x\n",
    "    \n",
    "wc = WordCloud(\n",
    "    background_color=\"white\",\n",
    "    max_words=2000,\n",
    "    width = 1024,\n",
    "    height = 720,\n",
    "    stopwords=stopwords.words(\"english\")\n",
    ")\n",
    "\n",
    "# Generate the cloud\n",
    "\n",
    "wc.generate_from_frequencies(d)\n",
    "plt.figure(figsize = (12, 8))\n",
    "plt.imshow(wc, interpolation=\"bilinear\")\n",
    "plt.axis(\"off\")\n",
    "plt.show()"
   ]
  },
  {
   "cell_type": "code",
   "execution_count": null,
   "metadata": {},
   "outputs": [],
   "source": [
    "d"
   ]
  },
  {
   "cell_type": "code",
   "execution_count": null,
   "metadata": {},
   "outputs": [],
   "source": []
  }
 ],
 "metadata": {
  "kernelspec": {
   "display_name": "Python 3",
   "language": "python",
   "name": "python3"
  },
  "language_info": {
   "codemirror_mode": {
    "name": "ipython",
    "version": 3
   },
   "file_extension": ".py",
   "mimetype": "text/x-python",
   "name": "python",
   "nbconvert_exporter": "python",
   "pygments_lexer": "ipython3",
   "version": "3.6.7"
  }
 },
 "nbformat": 4,
 "nbformat_minor": 2
}
